{
 "cells": [
  {
   "cell_type": "markdown",
   "metadata": {},
   "source": [
    "# Bayesian Network which can Infer that a person would get  Loan Approved or Not."
   ]
  },
  {
   "cell_type": "markdown",
   "metadata": {},
   "source": [
    "## Installing Required Library"
   ]
  },
  {
   "cell_type": "code",
   "execution_count": 5,
   "metadata": {},
   "outputs": [
    {
     "name": "stdout",
     "output_type": "stream",
     "text": [
      "Collecting pgmpy\n",
      "  Downloading pgmpy-0.1.15-py3-none-any.whl (1.9 MB)\n",
      "Requirement already satisfied: scipy in c:\\users\\karth\\anaconda3\\lib\\site-packages (from pgmpy) (1.5.0)\n",
      "Requirement already satisfied: tqdm in c:\\users\\karth\\anaconda3\\lib\\site-packages (from pgmpy) (4.47.0)\n",
      "Requirement already satisfied: joblib in c:\\users\\karth\\anaconda3\\lib\\site-packages (from pgmpy) (0.16.0)\n",
      "Requirement already satisfied: numpy in c:\\users\\karth\\anaconda3\\lib\\site-packages (from pgmpy) (1.18.5)\n",
      "Requirement already satisfied: pyparsing in c:\\users\\karth\\anaconda3\\lib\\site-packages (from pgmpy) (2.4.7)\n",
      "Requirement already satisfied: statsmodels in c:\\users\\karth\\anaconda3\\lib\\site-packages (from pgmpy) (0.11.1)\n",
      "Collecting torch\n",
      "  Downloading torch-1.9.0-cp38-cp38-win_amd64.whl (222.0 MB)\n",
      "Requirement already satisfied: scikit-learn in c:\\users\\karth\\anaconda3\\lib\\site-packages (from pgmpy) (0.23.1)\n",
      "Requirement already satisfied: pandas in c:\\users\\karth\\anaconda3\\lib\\site-packages (from pgmpy) (1.0.5)\n",
      "Requirement already satisfied: networkx in c:\\users\\karth\\anaconda3\\lib\\site-packages (from pgmpy) (2.4)\n",
      "Requirement already satisfied: patsy>=0.5 in c:\\users\\karth\\anaconda3\\lib\\site-packages (from statsmodels->pgmpy) (0.5.1)\n",
      "Requirement already satisfied: typing-extensions in c:\\users\\karth\\anaconda3\\lib\\site-packages (from torch->pgmpy) (3.7.4.2)\n",
      "Requirement already satisfied: threadpoolctl>=2.0.0 in c:\\users\\karth\\anaconda3\\lib\\site-packages (from scikit-learn->pgmpy) (2.1.0)\n",
      "Requirement already satisfied: pytz>=2017.2 in c:\\users\\karth\\anaconda3\\lib\\site-packages (from pandas->pgmpy) (2020.1)\n",
      "Requirement already satisfied: python-dateutil>=2.6.1 in c:\\users\\karth\\anaconda3\\lib\\site-packages (from pandas->pgmpy) (2.8.1)\n",
      "Requirement already satisfied: decorator>=4.3.0 in c:\\users\\karth\\anaconda3\\lib\\site-packages (from networkx->pgmpy) (4.4.2)\n",
      "Requirement already satisfied: six in c:\\users\\karth\\anaconda3\\lib\\site-packages (from patsy>=0.5->statsmodels->pgmpy) (1.15.0)\n",
      "Installing collected packages: torch, pgmpy\n",
      "Successfully installed pgmpy-0.1.15 torch-1.9.0\n"
     ]
    }
   ],
   "source": [
    "!pip install pgmpy"
   ]
  },
  {
   "cell_type": "code",
   "execution_count": 3,
   "metadata": {},
   "outputs": [
    {
     "name": "stdout",
     "output_type": "stream",
     "text": [
      "Requirement already satisfied: networkx in c:\\users\\karth\\anaconda3\\lib\\site-packages (2.4)\n",
      "Requirement already satisfied: decorator>=4.3.0 in c:\\users\\karth\\anaconda3\\lib\\site-packages (from networkx) (4.4.2)\n"
     ]
    }
   ],
   "source": [
    "!pip install networkx"
   ]
  },
  {
   "cell_type": "markdown",
   "metadata": {},
   "source": [
    "## Import Required Libraries"
   ]
  },
  {
   "cell_type": "code",
   "execution_count": 1,
   "metadata": {},
   "outputs": [],
   "source": [
    "import pandas as pd \n",
    "import numpy as np \n",
    "import seaborn as sns\n",
    "from pgmpy.models import BayesianModel\n",
    "from pgmpy.inference import VariableElimination\n",
    "from pgmpy.estimators import BayesianEstimator\n",
    "from pgmpy.sampling import BayesianModelSampling\n",
    "from pgmpy.factors.discrete import State\n",
    "import networkx as nx\n",
    "import matplotlib.pyplot as plt"
   ]
  },
  {
   "cell_type": "markdown",
   "metadata": {},
   "source": [
    "## Loading the Dataset"
   ]
  },
  {
   "cell_type": "code",
   "execution_count": 2,
   "metadata": {},
   "outputs": [],
   "source": [
    "data = pd.read_csv(\"Loan Approval dataset.csv\")"
   ]
  },
  {
   "cell_type": "code",
   "execution_count": 3,
   "metadata": {},
   "outputs": [
    {
     "data": {
      "text/html": [
       "<div>\n",
       "<style scoped>\n",
       "    .dataframe tbody tr th:only-of-type {\n",
       "        vertical-align: middle;\n",
       "    }\n",
       "\n",
       "    .dataframe tbody tr th {\n",
       "        vertical-align: top;\n",
       "    }\n",
       "\n",
       "    .dataframe thead th {\n",
       "        text-align: right;\n",
       "    }\n",
       "</style>\n",
       "<table border=\"1\" class=\"dataframe\">\n",
       "  <thead>\n",
       "    <tr style=\"text-align: right;\">\n",
       "      <th></th>\n",
       "      <th>Loan_ID</th>\n",
       "      <th>Gender</th>\n",
       "      <th>Married</th>\n",
       "      <th>Dependents</th>\n",
       "      <th>Education</th>\n",
       "      <th>Self_Employed</th>\n",
       "      <th>ApplicantIncome</th>\n",
       "      <th>CoapplicantIncome</th>\n",
       "      <th>LoanAmount</th>\n",
       "      <th>Loan_Amount_Term</th>\n",
       "      <th>Credit_History</th>\n",
       "      <th>Property_Area</th>\n",
       "      <th>Loan_Status</th>\n",
       "    </tr>\n",
       "  </thead>\n",
       "  <tbody>\n",
       "    <tr>\n",
       "      <th>0</th>\n",
       "      <td>LP001002</td>\n",
       "      <td>Male</td>\n",
       "      <td>No</td>\n",
       "      <td>0</td>\n",
       "      <td>Graduate</td>\n",
       "      <td>No</td>\n",
       "      <td>5849</td>\n",
       "      <td>0.0</td>\n",
       "      <td>NaN</td>\n",
       "      <td>360.0</td>\n",
       "      <td>1.0</td>\n",
       "      <td>Urban</td>\n",
       "      <td>Y</td>\n",
       "    </tr>\n",
       "    <tr>\n",
       "      <th>1</th>\n",
       "      <td>LP001003</td>\n",
       "      <td>Male</td>\n",
       "      <td>Yes</td>\n",
       "      <td>1</td>\n",
       "      <td>Graduate</td>\n",
       "      <td>No</td>\n",
       "      <td>4583</td>\n",
       "      <td>1508.0</td>\n",
       "      <td>128.0</td>\n",
       "      <td>360.0</td>\n",
       "      <td>1.0</td>\n",
       "      <td>Rural</td>\n",
       "      <td>N</td>\n",
       "    </tr>\n",
       "    <tr>\n",
       "      <th>2</th>\n",
       "      <td>LP001005</td>\n",
       "      <td>Male</td>\n",
       "      <td>Yes</td>\n",
       "      <td>0</td>\n",
       "      <td>Graduate</td>\n",
       "      <td>Yes</td>\n",
       "      <td>3000</td>\n",
       "      <td>0.0</td>\n",
       "      <td>66.0</td>\n",
       "      <td>360.0</td>\n",
       "      <td>1.0</td>\n",
       "      <td>Urban</td>\n",
       "      <td>Y</td>\n",
       "    </tr>\n",
       "    <tr>\n",
       "      <th>3</th>\n",
       "      <td>LP001006</td>\n",
       "      <td>Male</td>\n",
       "      <td>Yes</td>\n",
       "      <td>0</td>\n",
       "      <td>Not Graduate</td>\n",
       "      <td>No</td>\n",
       "      <td>2583</td>\n",
       "      <td>2358.0</td>\n",
       "      <td>120.0</td>\n",
       "      <td>360.0</td>\n",
       "      <td>1.0</td>\n",
       "      <td>Urban</td>\n",
       "      <td>Y</td>\n",
       "    </tr>\n",
       "    <tr>\n",
       "      <th>4</th>\n",
       "      <td>LP001008</td>\n",
       "      <td>Male</td>\n",
       "      <td>No</td>\n",
       "      <td>0</td>\n",
       "      <td>Graduate</td>\n",
       "      <td>No</td>\n",
       "      <td>6000</td>\n",
       "      <td>0.0</td>\n",
       "      <td>141.0</td>\n",
       "      <td>360.0</td>\n",
       "      <td>1.0</td>\n",
       "      <td>Urban</td>\n",
       "      <td>Y</td>\n",
       "    </tr>\n",
       "    <tr>\n",
       "      <th>...</th>\n",
       "      <td>...</td>\n",
       "      <td>...</td>\n",
       "      <td>...</td>\n",
       "      <td>...</td>\n",
       "      <td>...</td>\n",
       "      <td>...</td>\n",
       "      <td>...</td>\n",
       "      <td>...</td>\n",
       "      <td>...</td>\n",
       "      <td>...</td>\n",
       "      <td>...</td>\n",
       "      <td>...</td>\n",
       "      <td>...</td>\n",
       "    </tr>\n",
       "    <tr>\n",
       "      <th>609</th>\n",
       "      <td>LP002978</td>\n",
       "      <td>Female</td>\n",
       "      <td>No</td>\n",
       "      <td>0</td>\n",
       "      <td>Graduate</td>\n",
       "      <td>No</td>\n",
       "      <td>2900</td>\n",
       "      <td>0.0</td>\n",
       "      <td>71.0</td>\n",
       "      <td>360.0</td>\n",
       "      <td>1.0</td>\n",
       "      <td>Rural</td>\n",
       "      <td>Y</td>\n",
       "    </tr>\n",
       "    <tr>\n",
       "      <th>610</th>\n",
       "      <td>LP002979</td>\n",
       "      <td>Male</td>\n",
       "      <td>Yes</td>\n",
       "      <td>3+</td>\n",
       "      <td>Graduate</td>\n",
       "      <td>No</td>\n",
       "      <td>4106</td>\n",
       "      <td>0.0</td>\n",
       "      <td>40.0</td>\n",
       "      <td>180.0</td>\n",
       "      <td>1.0</td>\n",
       "      <td>Rural</td>\n",
       "      <td>Y</td>\n",
       "    </tr>\n",
       "    <tr>\n",
       "      <th>611</th>\n",
       "      <td>LP002983</td>\n",
       "      <td>Male</td>\n",
       "      <td>Yes</td>\n",
       "      <td>1</td>\n",
       "      <td>Graduate</td>\n",
       "      <td>No</td>\n",
       "      <td>8072</td>\n",
       "      <td>240.0</td>\n",
       "      <td>253.0</td>\n",
       "      <td>360.0</td>\n",
       "      <td>1.0</td>\n",
       "      <td>Urban</td>\n",
       "      <td>Y</td>\n",
       "    </tr>\n",
       "    <tr>\n",
       "      <th>612</th>\n",
       "      <td>LP002984</td>\n",
       "      <td>Male</td>\n",
       "      <td>Yes</td>\n",
       "      <td>2</td>\n",
       "      <td>Graduate</td>\n",
       "      <td>No</td>\n",
       "      <td>7583</td>\n",
       "      <td>0.0</td>\n",
       "      <td>187.0</td>\n",
       "      <td>360.0</td>\n",
       "      <td>1.0</td>\n",
       "      <td>Urban</td>\n",
       "      <td>Y</td>\n",
       "    </tr>\n",
       "    <tr>\n",
       "      <th>613</th>\n",
       "      <td>LP002990</td>\n",
       "      <td>Female</td>\n",
       "      <td>No</td>\n",
       "      <td>0</td>\n",
       "      <td>Graduate</td>\n",
       "      <td>Yes</td>\n",
       "      <td>4583</td>\n",
       "      <td>0.0</td>\n",
       "      <td>133.0</td>\n",
       "      <td>360.0</td>\n",
       "      <td>0.0</td>\n",
       "      <td>Semiurban</td>\n",
       "      <td>N</td>\n",
       "    </tr>\n",
       "  </tbody>\n",
       "</table>\n",
       "<p>614 rows × 13 columns</p>\n",
       "</div>"
      ],
      "text/plain": [
       "      Loan_ID  Gender Married Dependents     Education Self_Employed  \\\n",
       "0    LP001002    Male      No          0      Graduate            No   \n",
       "1    LP001003    Male     Yes          1      Graduate            No   \n",
       "2    LP001005    Male     Yes          0      Graduate           Yes   \n",
       "3    LP001006    Male     Yes          0  Not Graduate            No   \n",
       "4    LP001008    Male      No          0      Graduate            No   \n",
       "..        ...     ...     ...        ...           ...           ...   \n",
       "609  LP002978  Female      No          0      Graduate            No   \n",
       "610  LP002979    Male     Yes         3+      Graduate            No   \n",
       "611  LP002983    Male     Yes          1      Graduate            No   \n",
       "612  LP002984    Male     Yes          2      Graduate            No   \n",
       "613  LP002990  Female      No          0      Graduate           Yes   \n",
       "\n",
       "     ApplicantIncome  CoapplicantIncome  LoanAmount  Loan_Amount_Term  \\\n",
       "0               5849                0.0         NaN             360.0   \n",
       "1               4583             1508.0       128.0             360.0   \n",
       "2               3000                0.0        66.0             360.0   \n",
       "3               2583             2358.0       120.0             360.0   \n",
       "4               6000                0.0       141.0             360.0   \n",
       "..               ...                ...         ...               ...   \n",
       "609             2900                0.0        71.0             360.0   \n",
       "610             4106                0.0        40.0             180.0   \n",
       "611             8072              240.0       253.0             360.0   \n",
       "612             7583                0.0       187.0             360.0   \n",
       "613             4583                0.0       133.0             360.0   \n",
       "\n",
       "     Credit_History Property_Area Loan_Status  \n",
       "0               1.0         Urban           Y  \n",
       "1               1.0         Rural           N  \n",
       "2               1.0         Urban           Y  \n",
       "3               1.0         Urban           Y  \n",
       "4               1.0         Urban           Y  \n",
       "..              ...           ...         ...  \n",
       "609             1.0         Rural           Y  \n",
       "610             1.0         Rural           Y  \n",
       "611             1.0         Urban           Y  \n",
       "612             1.0         Urban           Y  \n",
       "613             0.0     Semiurban           N  \n",
       "\n",
       "[614 rows x 13 columns]"
      ]
     },
     "execution_count": 3,
     "metadata": {},
     "output_type": "execute_result"
    }
   ],
   "source": [
    "data"
   ]
  },
  {
   "cell_type": "markdown",
   "metadata": {},
   "source": [
    "# 1. Pre-Processing the Data"
   ]
  },
  {
   "cell_type": "code",
   "execution_count": 4,
   "metadata": {},
   "outputs": [
    {
     "data": {
      "text/html": [
       "<div>\n",
       "<style scoped>\n",
       "    .dataframe tbody tr th:only-of-type {\n",
       "        vertical-align: middle;\n",
       "    }\n",
       "\n",
       "    .dataframe tbody tr th {\n",
       "        vertical-align: top;\n",
       "    }\n",
       "\n",
       "    .dataframe thead th {\n",
       "        text-align: right;\n",
       "    }\n",
       "</style>\n",
       "<table border=\"1\" class=\"dataframe\">\n",
       "  <thead>\n",
       "    <tr style=\"text-align: right;\">\n",
       "      <th></th>\n",
       "      <th>Loan_ID</th>\n",
       "      <th>Gender</th>\n",
       "      <th>Married</th>\n",
       "      <th>Dependents</th>\n",
       "      <th>Education</th>\n",
       "      <th>Self_Employed</th>\n",
       "      <th>ApplicantIncome</th>\n",
       "      <th>CoapplicantIncome</th>\n",
       "      <th>LoanAmount</th>\n",
       "      <th>Loan_Amount_Term</th>\n",
       "      <th>Credit_History</th>\n",
       "      <th>Property_Area</th>\n",
       "      <th>Loan_Status</th>\n",
       "    </tr>\n",
       "  </thead>\n",
       "  <tbody>\n",
       "    <tr>\n",
       "      <th>0</th>\n",
       "      <td>LP001002</td>\n",
       "      <td>Male</td>\n",
       "      <td>No</td>\n",
       "      <td>0</td>\n",
       "      <td>Graduate</td>\n",
       "      <td>No</td>\n",
       "      <td>5849</td>\n",
       "      <td>0.0</td>\n",
       "      <td>NaN</td>\n",
       "      <td>360.0</td>\n",
       "      <td>1.0</td>\n",
       "      <td>Urban</td>\n",
       "      <td>Y</td>\n",
       "    </tr>\n",
       "    <tr>\n",
       "      <th>1</th>\n",
       "      <td>LP001003</td>\n",
       "      <td>Male</td>\n",
       "      <td>Yes</td>\n",
       "      <td>1</td>\n",
       "      <td>Graduate</td>\n",
       "      <td>No</td>\n",
       "      <td>4583</td>\n",
       "      <td>1508.0</td>\n",
       "      <td>128.0</td>\n",
       "      <td>360.0</td>\n",
       "      <td>1.0</td>\n",
       "      <td>Rural</td>\n",
       "      <td>N</td>\n",
       "    </tr>\n",
       "    <tr>\n",
       "      <th>2</th>\n",
       "      <td>LP001005</td>\n",
       "      <td>Male</td>\n",
       "      <td>Yes</td>\n",
       "      <td>0</td>\n",
       "      <td>Graduate</td>\n",
       "      <td>Yes</td>\n",
       "      <td>3000</td>\n",
       "      <td>0.0</td>\n",
       "      <td>66.0</td>\n",
       "      <td>360.0</td>\n",
       "      <td>1.0</td>\n",
       "      <td>Urban</td>\n",
       "      <td>Y</td>\n",
       "    </tr>\n",
       "    <tr>\n",
       "      <th>3</th>\n",
       "      <td>LP001006</td>\n",
       "      <td>Male</td>\n",
       "      <td>Yes</td>\n",
       "      <td>0</td>\n",
       "      <td>Not Graduate</td>\n",
       "      <td>No</td>\n",
       "      <td>2583</td>\n",
       "      <td>2358.0</td>\n",
       "      <td>120.0</td>\n",
       "      <td>360.0</td>\n",
       "      <td>1.0</td>\n",
       "      <td>Urban</td>\n",
       "      <td>Y</td>\n",
       "    </tr>\n",
       "    <tr>\n",
       "      <th>4</th>\n",
       "      <td>LP001008</td>\n",
       "      <td>Male</td>\n",
       "      <td>No</td>\n",
       "      <td>0</td>\n",
       "      <td>Graduate</td>\n",
       "      <td>No</td>\n",
       "      <td>6000</td>\n",
       "      <td>0.0</td>\n",
       "      <td>141.0</td>\n",
       "      <td>360.0</td>\n",
       "      <td>1.0</td>\n",
       "      <td>Urban</td>\n",
       "      <td>Y</td>\n",
       "    </tr>\n",
       "  </tbody>\n",
       "</table>\n",
       "</div>"
      ],
      "text/plain": [
       "    Loan_ID Gender Married Dependents     Education Self_Employed  \\\n",
       "0  LP001002   Male      No          0      Graduate            No   \n",
       "1  LP001003   Male     Yes          1      Graduate            No   \n",
       "2  LP001005   Male     Yes          0      Graduate           Yes   \n",
       "3  LP001006   Male     Yes          0  Not Graduate            No   \n",
       "4  LP001008   Male      No          0      Graduate            No   \n",
       "\n",
       "   ApplicantIncome  CoapplicantIncome  LoanAmount  Loan_Amount_Term  \\\n",
       "0             5849                0.0         NaN             360.0   \n",
       "1             4583             1508.0       128.0             360.0   \n",
       "2             3000                0.0        66.0             360.0   \n",
       "3             2583             2358.0       120.0             360.0   \n",
       "4             6000                0.0       141.0             360.0   \n",
       "\n",
       "   Credit_History Property_Area Loan_Status  \n",
       "0             1.0         Urban           Y  \n",
       "1             1.0         Rural           N  \n",
       "2             1.0         Urban           Y  \n",
       "3             1.0         Urban           Y  \n",
       "4             1.0         Urban           Y  "
      ]
     },
     "execution_count": 4,
     "metadata": {},
     "output_type": "execute_result"
    }
   ],
   "source": [
    "data.head()"
   ]
  },
  {
   "cell_type": "markdown",
   "metadata": {},
   "source": [
    "I think Loan_Id is not that informative. so i am going to remove it."
   ]
  },
  {
   "cell_type": "code",
   "execution_count": 5,
   "metadata": {},
   "outputs": [],
   "source": [
    "data = data.drop(\"Loan_ID\",axis=1)"
   ]
  },
  {
   "cell_type": "code",
   "execution_count": 6,
   "metadata": {},
   "outputs": [
    {
     "data": {
      "text/html": [
       "<div>\n",
       "<style scoped>\n",
       "    .dataframe tbody tr th:only-of-type {\n",
       "        vertical-align: middle;\n",
       "    }\n",
       "\n",
       "    .dataframe tbody tr th {\n",
       "        vertical-align: top;\n",
       "    }\n",
       "\n",
       "    .dataframe thead th {\n",
       "        text-align: right;\n",
       "    }\n",
       "</style>\n",
       "<table border=\"1\" class=\"dataframe\">\n",
       "  <thead>\n",
       "    <tr style=\"text-align: right;\">\n",
       "      <th></th>\n",
       "      <th>Gender</th>\n",
       "      <th>Married</th>\n",
       "      <th>Dependents</th>\n",
       "      <th>Education</th>\n",
       "      <th>Self_Employed</th>\n",
       "      <th>ApplicantIncome</th>\n",
       "      <th>CoapplicantIncome</th>\n",
       "      <th>LoanAmount</th>\n",
       "      <th>Loan_Amount_Term</th>\n",
       "      <th>Credit_History</th>\n",
       "      <th>Property_Area</th>\n",
       "      <th>Loan_Status</th>\n",
       "    </tr>\n",
       "  </thead>\n",
       "  <tbody>\n",
       "    <tr>\n",
       "      <th>0</th>\n",
       "      <td>Male</td>\n",
       "      <td>No</td>\n",
       "      <td>0</td>\n",
       "      <td>Graduate</td>\n",
       "      <td>No</td>\n",
       "      <td>5849</td>\n",
       "      <td>0.0</td>\n",
       "      <td>NaN</td>\n",
       "      <td>360.0</td>\n",
       "      <td>1.0</td>\n",
       "      <td>Urban</td>\n",
       "      <td>Y</td>\n",
       "    </tr>\n",
       "    <tr>\n",
       "      <th>1</th>\n",
       "      <td>Male</td>\n",
       "      <td>Yes</td>\n",
       "      <td>1</td>\n",
       "      <td>Graduate</td>\n",
       "      <td>No</td>\n",
       "      <td>4583</td>\n",
       "      <td>1508.0</td>\n",
       "      <td>128.0</td>\n",
       "      <td>360.0</td>\n",
       "      <td>1.0</td>\n",
       "      <td>Rural</td>\n",
       "      <td>N</td>\n",
       "    </tr>\n",
       "    <tr>\n",
       "      <th>2</th>\n",
       "      <td>Male</td>\n",
       "      <td>Yes</td>\n",
       "      <td>0</td>\n",
       "      <td>Graduate</td>\n",
       "      <td>Yes</td>\n",
       "      <td>3000</td>\n",
       "      <td>0.0</td>\n",
       "      <td>66.0</td>\n",
       "      <td>360.0</td>\n",
       "      <td>1.0</td>\n",
       "      <td>Urban</td>\n",
       "      <td>Y</td>\n",
       "    </tr>\n",
       "    <tr>\n",
       "      <th>3</th>\n",
       "      <td>Male</td>\n",
       "      <td>Yes</td>\n",
       "      <td>0</td>\n",
       "      <td>Not Graduate</td>\n",
       "      <td>No</td>\n",
       "      <td>2583</td>\n",
       "      <td>2358.0</td>\n",
       "      <td>120.0</td>\n",
       "      <td>360.0</td>\n",
       "      <td>1.0</td>\n",
       "      <td>Urban</td>\n",
       "      <td>Y</td>\n",
       "    </tr>\n",
       "    <tr>\n",
       "      <th>4</th>\n",
       "      <td>Male</td>\n",
       "      <td>No</td>\n",
       "      <td>0</td>\n",
       "      <td>Graduate</td>\n",
       "      <td>No</td>\n",
       "      <td>6000</td>\n",
       "      <td>0.0</td>\n",
       "      <td>141.0</td>\n",
       "      <td>360.0</td>\n",
       "      <td>1.0</td>\n",
       "      <td>Urban</td>\n",
       "      <td>Y</td>\n",
       "    </tr>\n",
       "  </tbody>\n",
       "</table>\n",
       "</div>"
      ],
      "text/plain": [
       "  Gender Married Dependents     Education Self_Employed  ApplicantIncome  \\\n",
       "0   Male      No          0      Graduate            No             5849   \n",
       "1   Male     Yes          1      Graduate            No             4583   \n",
       "2   Male     Yes          0      Graduate           Yes             3000   \n",
       "3   Male     Yes          0  Not Graduate            No             2583   \n",
       "4   Male      No          0      Graduate            No             6000   \n",
       "\n",
       "   CoapplicantIncome  LoanAmount  Loan_Amount_Term  Credit_History  \\\n",
       "0                0.0         NaN             360.0             1.0   \n",
       "1             1508.0       128.0             360.0             1.0   \n",
       "2                0.0        66.0             360.0             1.0   \n",
       "3             2358.0       120.0             360.0             1.0   \n",
       "4                0.0       141.0             360.0             1.0   \n",
       "\n",
       "  Property_Area Loan_Status  \n",
       "0         Urban           Y  \n",
       "1         Rural           N  \n",
       "2         Urban           Y  \n",
       "3         Urban           Y  \n",
       "4         Urban           Y  "
      ]
     },
     "execution_count": 6,
     "metadata": {},
     "output_type": "execute_result"
    }
   ],
   "source": [
    "data.head()"
   ]
  },
  {
   "cell_type": "code",
   "execution_count": 7,
   "metadata": {},
   "outputs": [
    {
     "data": {
      "text/plain": [
       "(614, 12)"
      ]
     },
     "execution_count": 7,
     "metadata": {},
     "output_type": "execute_result"
    }
   ],
   "source": [
    "data.shape"
   ]
  },
  {
   "cell_type": "markdown",
   "metadata": {},
   "source": [
    "There are 614 rows and 12 columns."
   ]
  },
  {
   "cell_type": "code",
   "execution_count": 8,
   "metadata": {},
   "outputs": [
    {
     "data": {
      "text/html": [
       "<div>\n",
       "<style scoped>\n",
       "    .dataframe tbody tr th:only-of-type {\n",
       "        vertical-align: middle;\n",
       "    }\n",
       "\n",
       "    .dataframe tbody tr th {\n",
       "        vertical-align: top;\n",
       "    }\n",
       "\n",
       "    .dataframe thead th {\n",
       "        text-align: right;\n",
       "    }\n",
       "</style>\n",
       "<table border=\"1\" class=\"dataframe\">\n",
       "  <thead>\n",
       "    <tr style=\"text-align: right;\">\n",
       "      <th></th>\n",
       "      <th>ApplicantIncome</th>\n",
       "      <th>CoapplicantIncome</th>\n",
       "      <th>LoanAmount</th>\n",
       "      <th>Loan_Amount_Term</th>\n",
       "      <th>Credit_History</th>\n",
       "    </tr>\n",
       "  </thead>\n",
       "  <tbody>\n",
       "    <tr>\n",
       "      <th>count</th>\n",
       "      <td>614.000000</td>\n",
       "      <td>614.000000</td>\n",
       "      <td>592.000000</td>\n",
       "      <td>600.00000</td>\n",
       "      <td>564.000000</td>\n",
       "    </tr>\n",
       "    <tr>\n",
       "      <th>mean</th>\n",
       "      <td>5403.459283</td>\n",
       "      <td>1621.245798</td>\n",
       "      <td>146.412162</td>\n",
       "      <td>342.00000</td>\n",
       "      <td>0.842199</td>\n",
       "    </tr>\n",
       "    <tr>\n",
       "      <th>std</th>\n",
       "      <td>6109.041673</td>\n",
       "      <td>2926.248369</td>\n",
       "      <td>85.587325</td>\n",
       "      <td>65.12041</td>\n",
       "      <td>0.364878</td>\n",
       "    </tr>\n",
       "    <tr>\n",
       "      <th>min</th>\n",
       "      <td>150.000000</td>\n",
       "      <td>0.000000</td>\n",
       "      <td>9.000000</td>\n",
       "      <td>12.00000</td>\n",
       "      <td>0.000000</td>\n",
       "    </tr>\n",
       "    <tr>\n",
       "      <th>25%</th>\n",
       "      <td>2877.500000</td>\n",
       "      <td>0.000000</td>\n",
       "      <td>100.000000</td>\n",
       "      <td>360.00000</td>\n",
       "      <td>1.000000</td>\n",
       "    </tr>\n",
       "    <tr>\n",
       "      <th>50%</th>\n",
       "      <td>3812.500000</td>\n",
       "      <td>1188.500000</td>\n",
       "      <td>128.000000</td>\n",
       "      <td>360.00000</td>\n",
       "      <td>1.000000</td>\n",
       "    </tr>\n",
       "    <tr>\n",
       "      <th>75%</th>\n",
       "      <td>5795.000000</td>\n",
       "      <td>2297.250000</td>\n",
       "      <td>168.000000</td>\n",
       "      <td>360.00000</td>\n",
       "      <td>1.000000</td>\n",
       "    </tr>\n",
       "    <tr>\n",
       "      <th>max</th>\n",
       "      <td>81000.000000</td>\n",
       "      <td>41667.000000</td>\n",
       "      <td>700.000000</td>\n",
       "      <td>480.00000</td>\n",
       "      <td>1.000000</td>\n",
       "    </tr>\n",
       "  </tbody>\n",
       "</table>\n",
       "</div>"
      ],
      "text/plain": [
       "       ApplicantIncome  CoapplicantIncome  LoanAmount  Loan_Amount_Term  \\\n",
       "count       614.000000         614.000000  592.000000         600.00000   \n",
       "mean       5403.459283        1621.245798  146.412162         342.00000   \n",
       "std        6109.041673        2926.248369   85.587325          65.12041   \n",
       "min         150.000000           0.000000    9.000000          12.00000   \n",
       "25%        2877.500000           0.000000  100.000000         360.00000   \n",
       "50%        3812.500000        1188.500000  128.000000         360.00000   \n",
       "75%        5795.000000        2297.250000  168.000000         360.00000   \n",
       "max       81000.000000       41667.000000  700.000000         480.00000   \n",
       "\n",
       "       Credit_History  \n",
       "count      564.000000  \n",
       "mean         0.842199  \n",
       "std          0.364878  \n",
       "min          0.000000  \n",
       "25%          1.000000  \n",
       "50%          1.000000  \n",
       "75%          1.000000  \n",
       "max          1.000000  "
      ]
     },
     "execution_count": 8,
     "metadata": {},
     "output_type": "execute_result"
    }
   ],
   "source": [
    "data.describe()"
   ]
  },
  {
   "cell_type": "code",
   "execution_count": 9,
   "metadata": {},
   "outputs": [
    {
     "name": "stdout",
     "output_type": "stream",
     "text": [
      "<class 'pandas.core.frame.DataFrame'>\n",
      "RangeIndex: 614 entries, 0 to 613\n",
      "Data columns (total 12 columns):\n",
      " #   Column             Non-Null Count  Dtype  \n",
      "---  ------             --------------  -----  \n",
      " 0   Gender             601 non-null    object \n",
      " 1   Married            611 non-null    object \n",
      " 2   Dependents         599 non-null    object \n",
      " 3   Education          614 non-null    object \n",
      " 4   Self_Employed      582 non-null    object \n",
      " 5   ApplicantIncome    614 non-null    int64  \n",
      " 6   CoapplicantIncome  614 non-null    float64\n",
      " 7   LoanAmount         592 non-null    float64\n",
      " 8   Loan_Amount_Term   600 non-null    float64\n",
      " 9   Credit_History     564 non-null    float64\n",
      " 10  Property_Area      614 non-null    object \n",
      " 11  Loan_Status        614 non-null    object \n",
      "dtypes: float64(4), int64(1), object(7)\n",
      "memory usage: 57.7+ KB\n"
     ]
    }
   ],
   "source": [
    "data.info()"
   ]
  },
  {
   "cell_type": "markdown",
   "metadata": {},
   "source": [
    "### Checking for Missing Values "
   ]
  },
  {
   "cell_type": "code",
   "execution_count": 10,
   "metadata": {},
   "outputs": [
    {
     "data": {
      "text/plain": [
       "Gender               13\n",
       "Married               3\n",
       "Dependents           15\n",
       "Education             0\n",
       "Self_Employed        32\n",
       "ApplicantIncome       0\n",
       "CoapplicantIncome     0\n",
       "LoanAmount           22\n",
       "Loan_Amount_Term     14\n",
       "Credit_History       50\n",
       "Property_Area         0\n",
       "Loan_Status           0\n",
       "dtype: int64"
      ]
     },
     "execution_count": 10,
     "metadata": {},
     "output_type": "execute_result"
    }
   ],
   "source": [
    "data.isnull().sum()"
   ]
  },
  {
   "cell_type": "markdown",
   "metadata": {},
   "source": [
    "Here we can observe that there are missing values in Gender, Married, Dependents, Self_Employed, LoanAmount, Loan_Amount_Term, Credit_History Variables."
   ]
  },
  {
   "cell_type": "markdown",
   "metadata": {},
   "source": [
    "## Treating Missing values"
   ]
  },
  {
   "cell_type": "code",
   "execution_count": 11,
   "metadata": {},
   "outputs": [],
   "source": [
    "data['Gender'].fillna(data['Gender'].mode()[0], inplace=True)\n",
    "data['Married'].fillna(data['Married'].mode()[0], inplace=True)\n",
    "data['Dependents'].fillna(data['Dependents'].mode()[0], inplace=True)\n",
    "data['Self_Employed'].fillna(data['Self_Employed'].mode()[0], inplace=True)\n",
    "data['LoanAmount'].fillna(data['LoanAmount'].mode()[0], inplace=True)\n",
    "data['Loan_Amount_Term'].fillna(data['Loan_Amount_Term'].mode()[0], inplace=True)\n",
    "data['Credit_History'].fillna(data['Credit_History'].mode()[0], inplace=True)"
   ]
  },
  {
   "cell_type": "code",
   "execution_count": 12,
   "metadata": {},
   "outputs": [
    {
     "data": {
      "text/plain": [
       "Gender               0\n",
       "Married              0\n",
       "Dependents           0\n",
       "Education            0\n",
       "Self_Employed        0\n",
       "ApplicantIncome      0\n",
       "CoapplicantIncome    0\n",
       "LoanAmount           0\n",
       "Loan_Amount_Term     0\n",
       "Credit_History       0\n",
       "Property_Area        0\n",
       "Loan_Status          0\n",
       "dtype: int64"
      ]
     },
     "execution_count": 12,
     "metadata": {},
     "output_type": "execute_result"
    }
   ],
   "source": [
    "data.isnull().sum()"
   ]
  },
  {
   "cell_type": "code",
   "execution_count": 77,
   "metadata": {},
   "outputs": [
    {
     "data": {
      "text/plain": [
       "<seaborn.axisgrid.PairGrid at 0x2d34896b460>"
      ]
     },
     "execution_count": 77,
     "metadata": {},
     "output_type": "execute_result"
    },
    {
     "data": {
      "image/png": "[encoded data removed]",
      "text/plain": [
       "<Figure size 900x900 with 30 Axes>"
      ]
     },
     "metadata": {
      "needs_background": "light"
     },
     "output_type": "display_data"
    }
   ],
   "source": [
    "sns.pairplot(data)"
   ]
  },
  {
   "cell_type": "code",
   "execution_count": 13,
   "metadata": {},
   "outputs": [
    {
     "data": {
      "text/plain": [
       "Y    0.687296\n",
       "N    0.312704\n",
       "Name: Loan_Status, dtype: float64"
      ]
     },
     "execution_count": 13,
     "metadata": {},
     "output_type": "execute_result"
    }
   ],
   "source": [
    "data['Loan_Status'].value_counts(normalize=True)"
   ]
  },
  {
   "cell_type": "code",
   "execution_count": 14,
   "metadata": {},
   "outputs": [
    {
     "data": {
      "text/plain": [
       "<matplotlib.axes._subplots.AxesSubplot at 0x20f129ae820>"
      ]
     },
     "execution_count": 14,
     "metadata": {},
     "output_type": "execute_result"
    },
    {
     "data": {
      "image/png": "[encoded data removed]",
      "text/plain": [
       "<Figure size 432x288 with 1 Axes>"
      ]
     },
     "metadata": {
      "needs_background": "light"
     },
     "output_type": "display_data"
    }
   ],
   "source": [
    "data['Loan_Status'].value_counts().plot(kind=\"bar\")"
   ]
  },
  {
   "cell_type": "code",
   "execution_count": 15,
   "metadata": {},
   "outputs": [
    {
     "name": "stdout",
     "output_type": "stream",
     "text": [
      "Gender :  2\n",
      "Married :  2\n",
      "Dependents :  4\n",
      "Education :  2\n",
      "Self_Employed :  2\n",
      "ApplicantIncome :  505\n",
      "CoapplicantIncome :  287\n",
      "LoanAmount :  203\n",
      "Loan_Amount_Term :  10\n",
      "Credit_History :  2\n",
      "Property_Area :  3\n",
      "Loan_Status :  2\n"
     ]
    }
   ],
   "source": [
    "### Lets say if a feature has more than 32 unique values, we will bin it\n",
    "col_list = []\n",
    "for col in data.columns:\n",
    "    print(col, \": \", len(data[col].unique()))\n",
    "    if(len(data[col].unique()) > 30):\n",
    "        col_list.append(col)"
   ]
  },
  {
   "cell_type": "code",
   "execution_count": 16,
   "metadata": {},
   "outputs": [
    {
     "data": {
      "text/plain": [
       "['ApplicantIncome', 'CoapplicantIncome', 'LoanAmount']"
      ]
     },
     "execution_count": 16,
     "metadata": {},
     "output_type": "execute_result"
    }
   ],
   "source": [
    "col_list"
   ]
  },
  {
   "cell_type": "markdown",
   "metadata": {},
   "source": [
    "These are three numerical features which needs to be binned"
   ]
  },
  {
   "cell_type": "markdown",
   "metadata": {},
   "source": [
    "### ApplicantIncome Binned into Three bins "
   ]
  },
  {
   "cell_type": "code",
   "execution_count": 17,
   "metadata": {},
   "outputs": [
    {
     "data": {
      "text/plain": [
       "(150, 81000)"
      ]
     },
     "execution_count": 17,
     "metadata": {},
     "output_type": "execute_result"
    }
   ],
   "source": [
    "### ApplicantIncome has min and max as 150 and 81000 respectively\n",
    "min(data['ApplicantIncome'].unique()), max(data['ApplicantIncome'].unique())"
   ]
  },
  {
   "cell_type": "code",
   "execution_count": 18,
   "metadata": {},
   "outputs": [],
   "source": [
    "bin_applicantincome = ['150 to 20,250', '20,250 to 40,500', '40,500 to 81000']"
   ]
  },
  {
   "cell_type": "code",
   "execution_count": 19,
   "metadata": {},
   "outputs": [],
   "source": [
    "data['ApplicantIncome'] = pd.cut(data['ApplicantIncome'], 3, labels= bin_applicantincome)"
   ]
  },
  {
   "cell_type": "code",
   "execution_count": 20,
   "metadata": {},
   "outputs": [
    {
     "data": {
      "text/plain": [
       "150 to 20,250       607\n",
       "20,250 to 40,500      5\n",
       "40,500 to 81000       2\n",
       "Name: ApplicantIncome, dtype: int64"
      ]
     },
     "execution_count": 20,
     "metadata": {},
     "output_type": "execute_result"
    }
   ],
   "source": [
    "data.ApplicantIncome.value_counts()"
   ]
  },
  {
   "cell_type": "code",
   "execution_count": 21,
   "metadata": {},
   "outputs": [
    {
     "data": {
      "text/plain": [
       "<matplotlib.axes._subplots.AxesSubplot at 0x20f14a7be50>"
      ]
     },
     "execution_count": 21,
     "metadata": {},
     "output_type": "execute_result"
    },
    {
     "data": {
      "image/png": "[encoded data removed]",
      "text/plain": [
       "<Figure size 432x288 with 1 Axes>"
      ]
     },
     "metadata": {
      "needs_background": "light"
     },
     "output_type": "display_data"
    }
   ],
   "source": [
    "data.ApplicantIncome.value_counts().plot(kind=\"bar\")"
   ]
  },
  {
   "cell_type": "markdown",
   "metadata": {},
   "source": [
    "### CoapplicantIncome Binned into three bins"
   ]
  },
  {
   "cell_type": "code",
   "execution_count": 22,
   "metadata": {},
   "outputs": [
    {
     "data": {
      "text/plain": [
       "(0.0, 41667.0)"
      ]
     },
     "execution_count": 22,
     "metadata": {},
     "output_type": "execute_result"
    }
   ],
   "source": [
    "min(data['CoapplicantIncome'].unique()), max(data['CoapplicantIncome'].unique())"
   ]
  },
  {
   "cell_type": "code",
   "execution_count": 23,
   "metadata": {},
   "outputs": [],
   "source": [
    "bin_coapplicantincome = ['0.0 to 10,416.75', '10,416.75 to 20,833.5', '20,833.5 to 41,667.0']"
   ]
  },
  {
   "cell_type": "code",
   "execution_count": 24,
   "metadata": {},
   "outputs": [],
   "source": [
    "data['CoapplicantIncome'] = pd.cut(data['CoapplicantIncome'], 3, labels= bin_coapplicantincome)"
   ]
  },
  {
   "cell_type": "code",
   "execution_count": 25,
   "metadata": {},
   "outputs": [
    {
     "data": {
      "text/plain": [
       "0.0 to 10,416.75         610\n",
       "20,833.5 to 41,667.0       2\n",
       "10,416.75 to 20,833.5      2\n",
       "Name: CoapplicantIncome, dtype: int64"
      ]
     },
     "execution_count": 25,
     "metadata": {},
     "output_type": "execute_result"
    }
   ],
   "source": [
    "data.CoapplicantIncome.value_counts()"
   ]
  },
  {
   "cell_type": "code",
   "execution_count": 26,
   "metadata": {},
   "outputs": [
    {
     "data": {
      "text/plain": [
       "<matplotlib.axes._subplots.AxesSubplot at 0x20f14aefdc0>"
      ]
     },
     "execution_count": 26,
     "metadata": {},
     "output_type": "execute_result"
    },
    {
     "data": {
      "image/png": "[encoded data removed]",
      "text/plain": [
       "<Figure size 432x288 with 1 Axes>"
      ]
     },
     "metadata": {
      "needs_background": "light"
     },
     "output_type": "display_data"
    }
   ],
   "source": [
    "data.CoapplicantIncome.value_counts().plot(kind=\"bar\")"
   ]
  },
  {
   "cell_type": "markdown",
   "metadata": {},
   "source": [
    "### LoanAmount Binned into three bins"
   ]
  },
  {
   "cell_type": "code",
   "execution_count": 27,
   "metadata": {},
   "outputs": [
    {
     "data": {
      "text/plain": [
       "(9.0, 700.0)"
      ]
     },
     "execution_count": 27,
     "metadata": {},
     "output_type": "execute_result"
    }
   ],
   "source": [
    "min(data['LoanAmount'].unique()), max(data['LoanAmount'].unique())"
   ]
  },
  {
   "cell_type": "code",
   "execution_count": 28,
   "metadata": {},
   "outputs": [],
   "source": [
    "bin_LoanAmount = ['9.0 to 175.0', '175.0 to 350.0', '350.0 to 700.0']"
   ]
  },
  {
   "cell_type": "code",
   "execution_count": 29,
   "metadata": {},
   "outputs": [],
   "source": [
    "data['LoanAmount'] = pd.cut(data['LoanAmount'], 3, labels= bin_LoanAmount)"
   ]
  },
  {
   "cell_type": "code",
   "execution_count": 30,
   "metadata": {},
   "outputs": [
    {
     "data": {
      "text/plain": [
       "9.0 to 175.0      556\n",
       "175.0 to 350.0     46\n",
       "350.0 to 700.0     12\n",
       "Name: LoanAmount, dtype: int64"
      ]
     },
     "execution_count": 30,
     "metadata": {},
     "output_type": "execute_result"
    }
   ],
   "source": [
    "data.LoanAmount.value_counts()"
   ]
  },
  {
   "cell_type": "code",
   "execution_count": 31,
   "metadata": {},
   "outputs": [
    {
     "data": {
      "text/plain": [
       "<matplotlib.axes._subplots.AxesSubplot at 0x20f14b31eb0>"
      ]
     },
     "execution_count": 31,
     "metadata": {},
     "output_type": "execute_result"
    },
    {
     "data": {
      "image/png": "[encoded data removed]",
      "text/plain": [
       "<Figure size 432x288 with 1 Axes>"
      ]
     },
     "metadata": {
      "needs_background": "light"
     },
     "output_type": "display_data"
    }
   ],
   "source": [
    "data.LoanAmount.value_counts().plot(kind=\"bar\")"
   ]
  },
  {
   "cell_type": "code",
   "execution_count": 27,
   "metadata": {},
   "outputs": [
    {
     "data": {
      "text/html": [
       "<div>\n",
       "<style scoped>\n",
       "    .dataframe tbody tr th:only-of-type {\n",
       "        vertical-align: middle;\n",
       "    }\n",
       "\n",
       "    .dataframe tbody tr th {\n",
       "        vertical-align: top;\n",
       "    }\n",
       "\n",
       "    .dataframe thead th {\n",
       "        text-align: right;\n",
       "    }\n",
       "</style>\n",
       "<table border=\"1\" class=\"dataframe\">\n",
       "  <thead>\n",
       "    <tr style=\"text-align: right;\">\n",
       "      <th></th>\n",
       "      <th>Gender</th>\n",
       "      <th>Married</th>\n",
       "      <th>Dependents</th>\n",
       "      <th>Education</th>\n",
       "      <th>Self_Employed</th>\n",
       "      <th>ApplicantIncome</th>\n",
       "      <th>CoapplicantIncome</th>\n",
       "      <th>LoanAmount</th>\n",
       "      <th>Loan_Amount_Term</th>\n",
       "      <th>Credit_History</th>\n",
       "      <th>Property_Area</th>\n",
       "      <th>Loan_Status</th>\n",
       "    </tr>\n",
       "  </thead>\n",
       "  <tbody>\n",
       "    <tr>\n",
       "      <th>0</th>\n",
       "      <td>Male</td>\n",
       "      <td>No</td>\n",
       "      <td>0</td>\n",
       "      <td>Graduate</td>\n",
       "      <td>No</td>\n",
       "      <td>150 to 20,250</td>\n",
       "      <td>0.0 to 10,416.75</td>\n",
       "      <td>9.0 to 175.0</td>\n",
       "      <td>360.0</td>\n",
       "      <td>1.0</td>\n",
       "      <td>Urban</td>\n",
       "      <td>Y</td>\n",
       "    </tr>\n",
       "    <tr>\n",
       "      <th>1</th>\n",
       "      <td>Male</td>\n",
       "      <td>Yes</td>\n",
       "      <td>1</td>\n",
       "      <td>Graduate</td>\n",
       "      <td>No</td>\n",
       "      <td>150 to 20,250</td>\n",
       "      <td>0.0 to 10,416.75</td>\n",
       "      <td>9.0 to 175.0</td>\n",
       "      <td>360.0</td>\n",
       "      <td>1.0</td>\n",
       "      <td>Rural</td>\n",
       "      <td>N</td>\n",
       "    </tr>\n",
       "    <tr>\n",
       "      <th>2</th>\n",
       "      <td>Male</td>\n",
       "      <td>Yes</td>\n",
       "      <td>0</td>\n",
       "      <td>Graduate</td>\n",
       "      <td>Yes</td>\n",
       "      <td>150 to 20,250</td>\n",
       "      <td>0.0 to 10,416.75</td>\n",
       "      <td>9.0 to 175.0</td>\n",
       "      <td>360.0</td>\n",
       "      <td>1.0</td>\n",
       "      <td>Urban</td>\n",
       "      <td>Y</td>\n",
       "    </tr>\n",
       "    <tr>\n",
       "      <th>3</th>\n",
       "      <td>Male</td>\n",
       "      <td>Yes</td>\n",
       "      <td>0</td>\n",
       "      <td>Not Graduate</td>\n",
       "      <td>No</td>\n",
       "      <td>150 to 20,250</td>\n",
       "      <td>0.0 to 10,416.75</td>\n",
       "      <td>9.0 to 175.0</td>\n",
       "      <td>360.0</td>\n",
       "      <td>1.0</td>\n",
       "      <td>Urban</td>\n",
       "      <td>Y</td>\n",
       "    </tr>\n",
       "    <tr>\n",
       "      <th>4</th>\n",
       "      <td>Male</td>\n",
       "      <td>No</td>\n",
       "      <td>0</td>\n",
       "      <td>Graduate</td>\n",
       "      <td>No</td>\n",
       "      <td>150 to 20,250</td>\n",
       "      <td>0.0 to 10,416.75</td>\n",
       "      <td>9.0 to 175.0</td>\n",
       "      <td>360.0</td>\n",
       "      <td>1.0</td>\n",
       "      <td>Urban</td>\n",
       "      <td>Y</td>\n",
       "    </tr>\n",
       "  </tbody>\n",
       "</table>\n",
       "</div>"
      ],
      "text/plain": [
       "  Gender Married Dependents     Education Self_Employed ApplicantIncome  \\\n",
       "0   Male      No          0      Graduate            No   150 to 20,250   \n",
       "1   Male     Yes          1      Graduate            No   150 to 20,250   \n",
       "2   Male     Yes          0      Graduate           Yes   150 to 20,250   \n",
       "3   Male     Yes          0  Not Graduate            No   150 to 20,250   \n",
       "4   Male      No          0      Graduate            No   150 to 20,250   \n",
       "\n",
       "  CoapplicantIncome    LoanAmount  Loan_Amount_Term  Credit_History  \\\n",
       "0  0.0 to 10,416.75  9.0 to 175.0             360.0             1.0   \n",
       "1  0.0 to 10,416.75  9.0 to 175.0             360.0             1.0   \n",
       "2  0.0 to 10,416.75  9.0 to 175.0             360.0             1.0   \n",
       "3  0.0 to 10,416.75  9.0 to 175.0             360.0             1.0   \n",
       "4  0.0 to 10,416.75  9.0 to 175.0             360.0             1.0   \n",
       "\n",
       "  Property_Area Loan_Status  \n",
       "0         Urban           Y  \n",
       "1         Rural           N  \n",
       "2         Urban           Y  \n",
       "3         Urban           Y  \n",
       "4         Urban           Y  "
      ]
     },
     "execution_count": 27,
     "metadata": {},
     "output_type": "execute_result"
    }
   ],
   "source": [
    "data.head()"
   ]
  },
  {
   "cell_type": "markdown",
   "metadata": {},
   "source": [
    "# 2. Building Bayesian Model"
   ]
  },
  {
   "cell_type": "markdown",
   "metadata": {},
   "source": [
    " A Bayesian network, Bayes network, belief network, Bayes(ian) model or probabilistic directed acyclic graphical model is a probabilistic graphical model \n",
    "(a type of statistical  model) that represents a set of random variables and their conditional dependencies via a directed acyclic graph (DAG). Bayesian networks are mostly used when we want to represent causal relationship between the random variables. Bayesian Networks are parameterized using Conditional Probability Distributions (CPD). Each node in the network is \n",
    "parameterized using $ P(node | Pa(node)) $ where $ Pa(node) $ represents the parents of node in the network."
   ]
  },
  {
   "cell_type": "code",
   "execution_count": 32,
   "metadata": {},
   "outputs": [
    {
     "name": "stdout",
     "output_type": "stream",
     "text": [
      "Nodes:  ['Married', 'Gender', 'Dependents', 'ApplicantIncome', 'LoanAmount', 'Loan_Status', 'CoapplicantIncome', 'Property_Area', 'Education', 'Credit_History'] \n",
      "\n",
      "Edges:  [('Married', 'Gender'), ('Dependents', 'Married'), ('ApplicantIncome', 'LoanAmount'), ('ApplicantIncome', 'Dependents'), ('ApplicantIncome', 'Loan_Status'), ('LoanAmount', 'Education'), ('LoanAmount', 'Dependents'), ('CoapplicantIncome', 'Loan_Status'), ('CoapplicantIncome', 'Married'), ('CoapplicantIncome', 'Property_Area'), ('Education', 'Loan_Status'), ('Credit_History', 'Loan_Status')]\n"
     ]
    }
   ],
   "source": [
    "model = BayesianModel([('Married', 'Gender'),\n",
    "                     ('Dependents', 'Married'),\n",
    "                     ('ApplicantIncome', 'LoanAmount'),\n",
    "                     ('ApplicantIncome', 'Dependents'),\n",
    "                     ('ApplicantIncome', 'Loan_Status'),\n",
    "                     ('CoapplicantIncome', 'Loan_Status'),\n",
    "                     ('CoapplicantIncome', 'Married'),\n",
    "                     ('CoapplicantIncome', 'Property_Area'),\n",
    "                     ('Education','Loan_Status'),\n",
    "                     ('LoanAmount', 'Education'),\n",
    "                     ('LoanAmount', 'Dependents'),\n",
    "                     ('Credit_History', 'Loan_Status'),\n",
    "                    ])\n",
    "\n",
    "print(\"Nodes: \",model.nodes(),\"\\n\")\n",
    "print(\"Edges: \",model.edges())"
   ]
  },
  {
   "cell_type": "markdown",
   "metadata": {},
   "source": [
    "## Visualizing the Bayesian Network "
   ]
  },
  {
   "cell_type": "code",
   "execution_count": 29,
   "metadata": {},
   "outputs": [
    {
     "data": {
      "image/png": "[encoded data removed]",
      "text/plain": [
       "<Figure size 1080x720 with 1 Axes>"
      ]
     },
     "metadata": {},
     "output_type": "display_data"
    }
   ],
   "source": [
    "np.random.seed(47)\n",
    "plt.figure(figsize=(15,10))\n",
    "nx.draw(model, pos= nx.spring_layout(model), with_labels=True, node_size=2000, node_color=\"orange\", width = 4, font_size = 20)\n",
    "plt.show()"
   ]
  },
  {
   "cell_type": "markdown",
   "metadata": {},
   "source": [
    "## Fitting the Model"
   ]
  },
  {
   "cell_type": "code",
   "execution_count": 30,
   "metadata": {},
   "outputs": [],
   "source": [
    "model.fit(data,estimator=BayesianEstimator,prior_type='BDeu', equivalent_sample_size=10)"
   ]
  },
  {
   "cell_type": "code",
   "execution_count": 31,
   "metadata": {},
   "outputs": [
    {
     "data": {
      "text/plain": [
       "[<TabularCPD representing P(Married:2 | CoapplicantIncome:3, Dependents:4) at 0x1a2781a1160>,\n",
       " <TabularCPD representing P(Gender:2 | Married:2) at 0x1a2781cbdc0>,\n",
       " <TabularCPD representing P(Dependents:4 | ApplicantIncome:3, LoanAmount:3) at 0x1a277fde760>,\n",
       " <TabularCPD representing P(ApplicantIncome:3) at 0x1a277e7a190>,\n",
       " <TabularCPD representing P(LoanAmount:3 | ApplicantIncome:3) at 0x1a2781b1a90>,\n",
       " <TabularCPD representing P(Loan_Status:2 | ApplicantIncome:3, CoapplicantIncome:3, Credit_History:2, Education:2) at 0x1a277fde7c0>,\n",
       " <TabularCPD representing P(CoapplicantIncome:3) at 0x1a277d64f70>,\n",
       " <TabularCPD representing P(Property_Area:3 | CoapplicantIncome:3) at 0x1a2781a1400>,\n",
       " <TabularCPD representing P(Education:2 | LoanAmount:3) at 0x1a277fde370>,\n",
       " <TabularCPD representing P(Credit_History:2) at 0x1a2781b1a60>]"
      ]
     },
     "execution_count": 31,
     "metadata": {},
     "output_type": "execute_result"
    }
   ],
   "source": [
    "model.get_cpds()"
   ]
  },
  {
   "cell_type": "markdown",
   "metadata": {},
   "source": [
    "# 3. Conditional Probability Distribution (CPD)"
   ]
  },
  {
   "cell_type": "code",
   "execution_count": 112,
   "metadata": {},
   "outputs": [
    {
     "name": "stdout",
     "output_type": "stream",
     "text": [
      "+-------------------+-------------------------------------+-------------------------------------+-------------------------------------+-------------------------------------+------------------------------------------+------------------------------------------+------------------------------------------+------------------------------------------+-----------------------------------------+-----------------------------------------+-----------------------------------------+-----------------------------------------+\n",
      "| CoapplicantIncome | CoapplicantIncome(0.0 to 10,416.75) | CoapplicantIncome(0.0 to 10,416.75) | CoapplicantIncome(0.0 to 10,416.75) | CoapplicantIncome(0.0 to 10,416.75) | CoapplicantIncome(10,416.75 to 20,833.5) | CoapplicantIncome(10,416.75 to 20,833.5) | CoapplicantIncome(10,416.75 to 20,833.5) | CoapplicantIncome(10,416.75 to 20,833.5) | CoapplicantIncome(20,833.5 to 41,667.0) | CoapplicantIncome(20,833.5 to 41,667.0) | CoapplicantIncome(20,833.5 to 41,667.0) | CoapplicantIncome(20,833.5 to 41,667.0) |\n",
      "+-------------------+-------------------------------------+-------------------------------------+-------------------------------------+-------------------------------------+------------------------------------------+------------------------------------------+------------------------------------------+------------------------------------------+-----------------------------------------+-----------------------------------------+-----------------------------------------+-----------------------------------------+\n",
      "| Dependents        | Dependents(0)                       | Dependents(1)                       | Dependents(2)                       | Dependents(3+)                      | Dependents(0)                            | Dependents(1)                            | Dependents(2)                            | Dependents(3+)                           | Dependents(0)                           | Dependents(1)                           | Dependents(2)                           | Dependents(3+)                          |\n",
      "+-------------------+-------------------------------------+-------------------------------------+-------------------------------------+-------------------------------------+------------------------------------------+------------------------------------------+------------------------------------------+------------------------------------------+-----------------------------------------+-----------------------------------------+-----------------------------------------+-----------------------------------------+\n",
      "| Married(No)       | 0.48327914537854155                 | 0.22771474878444084                 | 0.08347107438016528                 | 0.12622950819672132                 | 0.7727272727272727                       | 0.5                                      | 0.22727272727272727                      | 0.5                                      | 0.7727272727272727                      | 0.5                                     | 0.5                                     | 0.7727272727272727                      |\n",
      "+-------------------+-------------------------------------+-------------------------------------+-------------------------------------+-------------------------------------+------------------------------------------+------------------------------------------+------------------------------------------+------------------------------------------+-----------------------------------------+-----------------------------------------+-----------------------------------------+-----------------------------------------+\n",
      "| Married(Yes)      | 0.5167208546214584                  | 0.7722852512155591                  | 0.9165289256198347                  | 0.8737704918032787                  | 0.22727272727272727                      | 0.5                                      | 0.7727272727272727                       | 0.5                                      | 0.22727272727272727                     | 0.5                                     | 0.5                                     | 0.22727272727272727                     |\n",
      "+-------------------+-------------------------------------+-------------------------------------+-------------------------------------+-------------------------------------+------------------------------------------+------------------------------------------+------------------------------------------+------------------------------------------+-----------------------------------------+-----------------------------------------+-----------------------------------------+-----------------------------------------+\n"
     ]
    }
   ],
   "source": [
    "print(model.get_cpds(\"Married\"))"
   ]
  },
  {
   "cell_type": "code",
   "execution_count": 113,
   "metadata": {},
   "outputs": [
    {
     "name": "stdout",
     "output_type": "stream",
     "text": [
      "+----------------+---------------------+---------------------+\n",
      "| Married        | Married(No)         | Married(Yes)        |\n",
      "+----------------+---------------------+---------------------+\n",
      "| Gender(Female) | 0.37844036697247707 | 0.08497536945812807 |\n",
      "+----------------+---------------------+---------------------+\n",
      "| Gender(Male)   | 0.6215596330275229  | 0.9150246305418719  |\n",
      "+----------------+---------------------+---------------------+\n"
     ]
    }
   ],
   "source": [
    "print(model.get_cpds(\"Gender\"))"
   ]
  },
  {
   "cell_type": "code",
   "execution_count": 114,
   "metadata": {},
   "outputs": [
    {
     "name": "stdout",
     "output_type": "stream",
     "text": [
      "+-----------------+--------------------------------+--------------------------------+--------------------------------+-----------------------------------+-----------------------------------+-----------------------------------+----------------------------------+----------------------------------+----------------------------------+\n",
      "| ApplicantIncome | ApplicantIncome(150 to 20,250) | ApplicantIncome(150 to 20,250) | ApplicantIncome(150 to 20,250) | ApplicantIncome(20,250 to 40,500) | ApplicantIncome(20,250 to 40,500) | ApplicantIncome(20,250 to 40,500) | ApplicantIncome(40,500 to 81000) | ApplicantIncome(40,500 to 81000) | ApplicantIncome(40,500 to 81000) |\n",
      "+-----------------+--------------------------------+--------------------------------+--------------------------------+-----------------------------------+-----------------------------------+-----------------------------------+----------------------------------+----------------------------------+----------------------------------+\n",
      "| LoanAmount      | LoanAmount(175.0 to 350.0)     | LoanAmount(350.0 to 700.0)     | LoanAmount(9.0 to 175.0)       | LoanAmount(175.0 to 350.0)        | LoanAmount(350.0 to 700.0)        | LoanAmount(9.0 to 175.0)          | LoanAmount(175.0 to 350.0)       | LoanAmount(350.0 to 700.0)       | LoanAmount(9.0 to 175.0)         |\n",
      "+-----------------+--------------------------------+--------------------------------+--------------------------------+-----------------------------------+-----------------------------------+-----------------------------------+----------------------------------+----------------------------------+----------------------------------+\n",
      "| Dependents(0)   | 0.4051724137931034             | 0.4230769230769231             | 0.6057846277021618             | 0.13157894736842107               | 0.08928571428571429               | 0.41071428571428575               | 0.13157894736842105              | 0.605263157894737                | 0.25                             |\n",
      "+-----------------+--------------------------------+--------------------------------+--------------------------------+-----------------------------------+-----------------------------------+-----------------------------------+----------------------------------+----------------------------------+----------------------------------+\n",
      "| Dependents(1)   | 0.22783251231527094            | 0.3241758241758242             | 0.1572257806244996             | 0.605263157894737                 | 0.08928571428571429               | 0.41071428571428575               | 0.13157894736842105              | 0.13157894736842107              | 0.25                             |\n",
      "+-----------------+--------------------------------+--------------------------------+--------------------------------+-----------------------------------+-----------------------------------+-----------------------------------+----------------------------------+----------------------------------+----------------------------------+\n",
      "| Dependents(2)   | 0.16133004926108374            | 0.12637362637362637            | 0.16803442754203363            | 0.13157894736842107               | 0.08928571428571429               | 0.0892857142857143                | 0.13157894736842105              | 0.13157894736842107              | 0.25                             |\n",
      "+-----------------+--------------------------------+--------------------------------+--------------------------------+-----------------------------------+-----------------------------------+-----------------------------------+----------------------------------+----------------------------------+----------------------------------+\n",
      "| Dependents(3+)  | 0.20566502463054187            | 0.12637362637362637            | 0.06895516413130505            | 0.13157894736842107               | 0.7321428571428571                | 0.0892857142857143                | 0.6052631578947368               | 0.13157894736842107              | 0.25                             |\n",
      "+-----------------+--------------------------------+--------------------------------+--------------------------------+-----------------------------------+-----------------------------------+-----------------------------------+----------------------------------+----------------------------------+----------------------------------+\n"
     ]
    }
   ],
   "source": [
    "print(model.get_cpds(\"Dependents\"))"
   ]
  },
  {
   "cell_type": "code",
   "execution_count": 115,
   "metadata": {},
   "outputs": [
    {
     "name": "stdout",
     "output_type": "stream",
     "text": [
      "+-----------------------------------+------------+\n",
      "| ApplicantIncome(150 to 20,250)    | 0.978098   |\n",
      "+-----------------------------------+------------+\n",
      "| ApplicantIncome(20,250 to 40,500) | 0.0133547  |\n",
      "+-----------------------------------+------------+\n",
      "| ApplicantIncome(40,500 to 81000)  | 0.00854701 |\n",
      "+-----------------------------------+------------+\n"
     ]
    }
   ],
   "source": [
    "print(model.get_cpds(\"ApplicantIncome\"))"
   ]
  },
  {
   "cell_type": "code",
   "execution_count": 116,
   "metadata": {},
   "outputs": [
    {
     "name": "stdout",
     "output_type": "stream",
     "text": [
      "+----------------------------+--------------------------------+-----------------------------------+----------------------------------+\n",
      "| ApplicantIncome            | ApplicantIncome(150 to 20,250) | ApplicantIncome(20,250 to 40,500) | ApplicantIncome(40,500 to 81000) |\n",
      "+----------------------------+--------------------------------+-----------------------------------+----------------------------------+\n",
      "| LoanAmount(175.0 to 350.0) | 0.07391225195703624            | 0.2533333333333333                | 0.3958333333333333               |\n",
      "+----------------------------+--------------------------------+-----------------------------------+----------------------------------+\n",
      "| LoanAmount(350.0 to 700.0) | 0.0165665392317495             | 0.3733333333333333                | 0.3958333333333333               |\n",
      "+----------------------------+--------------------------------+-----------------------------------+----------------------------------+\n",
      "| LoanAmount(9.0 to 175.0)   | 0.9095212088112143             | 0.3733333333333333                | 0.20833333333333331              |\n",
      "+----------------------------+--------------------------------+-----------------------------------+----------------------------------+\n"
     ]
    }
   ],
   "source": [
    "print(model.get_cpds(\"LoanAmount\"))"
   ]
  },
  {
   "cell_type": "code",
   "execution_count": 118,
   "metadata": {},
   "outputs": [
    {
     "name": "stdout",
     "output_type": "stream",
     "text": [
      "+------------------------------------------+------------+\n",
      "| CoapplicantIncome(0.0 to 10,416.75)      | 0.982906   |\n",
      "+------------------------------------------+------------+\n",
      "| CoapplicantIncome(10,416.75 to 20,833.5) | 0.00854701 |\n",
      "+------------------------------------------+------------+\n",
      "| CoapplicantIncome(20,833.5 to 41,667.0)  | 0.00854701 |\n",
      "+------------------------------------------+------------+\n"
     ]
    }
   ],
   "source": [
    "print(model.get_cpds(\"CoapplicantIncome\"))"
   ]
  },
  {
   "cell_type": "code",
   "execution_count": 119,
   "metadata": {},
   "outputs": [
    {
     "name": "stdout",
     "output_type": "stream",
     "text": [
      "+--------------------------+-------------------------------------+------------------------------------------+-----------------------------------------+\n",
      "| CoapplicantIncome        | CoapplicantIncome(0.0 to 10,416.75) | CoapplicantIncome(10,416.75 to 20,833.5) | CoapplicantIncome(20,833.5 to 41,667.0) |\n",
      "+--------------------------+-------------------------------------+------------------------------------------+-----------------------------------------+\n",
      "| Property_Area(Rural)     | 0.29365942028985503                 | 0.20833333333333331                      | 0.20833333333333331                     |\n",
      "+--------------------------+-------------------------------------+------------------------------------------+-----------------------------------------+\n",
      "| Property_Area(Semiurban) | 0.38007246376811593                 | 0.3958333333333333                       | 0.20833333333333331                     |\n",
      "+--------------------------+-------------------------------------+------------------------------------------+-----------------------------------------+\n",
      "| Property_Area(Urban)     | 0.326268115942029                   | 0.3958333333333333                       | 0.5833333333333333                      |\n",
      "+--------------------------+-------------------------------------+------------------------------------------+-----------------------------------------+\n"
     ]
    }
   ],
   "source": [
    "print(model.get_cpds(\"Property_Area\"))"
   ]
  },
  {
   "cell_type": "code",
   "execution_count": 120,
   "metadata": {},
   "outputs": [
    {
     "name": "stdout",
     "output_type": "stream",
     "text": [
      "+-------------------------+----------------------------+----------------------------+--------------------------+\n",
      "| LoanAmount              | LoanAmount(175.0 to 350.0) | LoanAmount(350.0 to 700.0) | LoanAmount(9.0 to 175.0) |\n",
      "+-------------------------+----------------------------+----------------------------+--------------------------+\n",
      "| Education(Graduate)     | 0.9459459459459459         | 0.891304347826087          | 0.7592371871275327       |\n",
      "+-------------------------+----------------------------+----------------------------+--------------------------+\n",
      "| Education(Not Graduate) | 0.054054054054054064       | 0.10869565217391305        | 0.2407628128724672       |\n",
      "+-------------------------+----------------------------+----------------------------+--------------------------+\n"
     ]
    }
   ],
   "source": [
    "print(model.get_cpds(\"Education\"))"
   ]
  },
  {
   "cell_type": "code",
   "execution_count": 121,
   "metadata": {},
   "outputs": [
    {
     "name": "stdout",
     "output_type": "stream",
     "text": [
      "+---------------------+----------+\n",
      "| Credit_History(0.0) | 0.150641 |\n",
      "+---------------------+----------+\n",
      "| Credit_History(1.0) | 0.849359 |\n",
      "+---------------------+----------+\n"
     ]
    }
   ],
   "source": [
    "print(model.get_cpds(\"Credit_History\"))"
   ]
  },
  {
   "cell_type": "code",
   "execution_count": 122,
   "metadata": {},
   "outputs": [
    {
     "name": "stdout",
     "output_type": "stream",
     "text": [
      "+-------------------+-------------------------------------+-------------------------------------+-------------------------------------+-------------------------------------+------------------------------------------+------------------------------------------+------------------------------------------+------------------------------------------+-----------------------------------------+-----------------------------------------+-----------------------------------------+-----------------------------------------+-------------------------------------+-------------------------------------+-------------------------------------+-------------------------------------+------------------------------------------+------------------------------------------+------------------------------------------+------------------------------------------+-----------------------------------------+-----------------------------------------+-----------------------------------------+-----------------------------------------+-------------------------------------+-------------------------------------+-------------------------------------+-------------------------------------+------------------------------------------+------------------------------------------+------------------------------------------+------------------------------------------+-----------------------------------------+-----------------------------------------+-----------------------------------------+-----------------------------------------+\n",
      "| ApplicantIncome   | ApplicantIncome(150 to 20,250)      | ApplicantIncome(150 to 20,250)      | ApplicantIncome(150 to 20,250)      | ApplicantIncome(150 to 20,250)      | ApplicantIncome(150 to 20,250)           | ApplicantIncome(150 to 20,250)           | ApplicantIncome(150 to 20,250)           | ApplicantIncome(150 to 20,250)           | ApplicantIncome(150 to 20,250)          | ApplicantIncome(150 to 20,250)          | ApplicantIncome(150 to 20,250)          | ApplicantIncome(150 to 20,250)          | ApplicantIncome(20,250 to 40,500)   | ApplicantIncome(20,250 to 40,500)   | ApplicantIncome(20,250 to 40,500)   | ApplicantIncome(20,250 to 40,500)   | ApplicantIncome(20,250 to 40,500)        | ApplicantIncome(20,250 to 40,500)        | ApplicantIncome(20,250 to 40,500)        | ApplicantIncome(20,250 to 40,500)        | ApplicantIncome(20,250 to 40,500)       | ApplicantIncome(20,250 to 40,500)       | ApplicantIncome(20,250 to 40,500)       | ApplicantIncome(20,250 to 40,500)       | ApplicantIncome(40,500 to 81000)    | ApplicantIncome(40,500 to 81000)    | ApplicantIncome(40,500 to 81000)    | ApplicantIncome(40,500 to 81000)    | ApplicantIncome(40,500 to 81000)         | ApplicantIncome(40,500 to 81000)         | ApplicantIncome(40,500 to 81000)         | ApplicantIncome(40,500 to 81000)         | ApplicantIncome(40,500 to 81000)        | ApplicantIncome(40,500 to 81000)        | ApplicantIncome(40,500 to 81000)        | ApplicantIncome(40,500 to 81000)        |\n",
      "+-------------------+-------------------------------------+-------------------------------------+-------------------------------------+-------------------------------------+------------------------------------------+------------------------------------------+------------------------------------------+------------------------------------------+-----------------------------------------+-----------------------------------------+-----------------------------------------+-----------------------------------------+-------------------------------------+-------------------------------------+-------------------------------------+-------------------------------------+------------------------------------------+------------------------------------------+------------------------------------------+------------------------------------------+-----------------------------------------+-----------------------------------------+-----------------------------------------+-----------------------------------------+-------------------------------------+-------------------------------------+-------------------------------------+-------------------------------------+------------------------------------------+------------------------------------------+------------------------------------------+------------------------------------------+-----------------------------------------+-----------------------------------------+-----------------------------------------+-----------------------------------------+\n",
      "| CoapplicantIncome | CoapplicantIncome(0.0 to 10,416.75) | CoapplicantIncome(0.0 to 10,416.75) | CoapplicantIncome(0.0 to 10,416.75) | CoapplicantIncome(0.0 to 10,416.75) | CoapplicantIncome(10,416.75 to 20,833.5) | CoapplicantIncome(10,416.75 to 20,833.5) | CoapplicantIncome(10,416.75 to 20,833.5) | CoapplicantIncome(10,416.75 to 20,833.5) | CoapplicantIncome(20,833.5 to 41,667.0) | CoapplicantIncome(20,833.5 to 41,667.0) | CoapplicantIncome(20,833.5 to 41,667.0) | CoapplicantIncome(20,833.5 to 41,667.0) | CoapplicantIncome(0.0 to 10,416.75) | CoapplicantIncome(0.0 to 10,416.75) | CoapplicantIncome(0.0 to 10,416.75) | CoapplicantIncome(0.0 to 10,416.75) | CoapplicantIncome(10,416.75 to 20,833.5) | CoapplicantIncome(10,416.75 to 20,833.5) | CoapplicantIncome(10,416.75 to 20,833.5) | CoapplicantIncome(10,416.75 to 20,833.5) | CoapplicantIncome(20,833.5 to 41,667.0) | CoapplicantIncome(20,833.5 to 41,667.0) | CoapplicantIncome(20,833.5 to 41,667.0) | CoapplicantIncome(20,833.5 to 41,667.0) | CoapplicantIncome(0.0 to 10,416.75) | CoapplicantIncome(0.0 to 10,416.75) | CoapplicantIncome(0.0 to 10,416.75) | CoapplicantIncome(0.0 to 10,416.75) | CoapplicantIncome(10,416.75 to 20,833.5) | CoapplicantIncome(10,416.75 to 20,833.5) | CoapplicantIncome(10,416.75 to 20,833.5) | CoapplicantIncome(10,416.75 to 20,833.5) | CoapplicantIncome(20,833.5 to 41,667.0) | CoapplicantIncome(20,833.5 to 41,667.0) | CoapplicantIncome(20,833.5 to 41,667.0) | CoapplicantIncome(20,833.5 to 41,667.0) |\n",
      "+-------------------+-------------------------------------+-------------------------------------+-------------------------------------+-------------------------------------+------------------------------------------+------------------------------------------+------------------------------------------+------------------------------------------+-----------------------------------------+-----------------------------------------+-----------------------------------------+-----------------------------------------+-------------------------------------+-------------------------------------+-------------------------------------+-------------------------------------+------------------------------------------+------------------------------------------+------------------------------------------+------------------------------------------+-----------------------------------------+-----------------------------------------+-----------------------------------------+-----------------------------------------+-------------------------------------+-------------------------------------+-------------------------------------+-------------------------------------+------------------------------------------+------------------------------------------+------------------------------------------+------------------------------------------+-----------------------------------------+-----------------------------------------+-----------------------------------------+-----------------------------------------+\n",
      "| Credit_History    | Credit_History(0.0)                 | Credit_History(0.0)                 | Credit_History(1.0)                 | Credit_History(1.0)                 | Credit_History(0.0)                      | Credit_History(0.0)                      | Credit_History(1.0)                      | Credit_History(1.0)                      | Credit_History(0.0)                     | Credit_History(0.0)                     | Credit_History(1.0)                     | Credit_History(1.0)                     | Credit_History(0.0)                 | Credit_History(0.0)                 | Credit_History(1.0)                 | Credit_History(1.0)                 | Credit_History(0.0)                      | Credit_History(0.0)                      | Credit_History(1.0)                      | Credit_History(1.0)                      | Credit_History(0.0)                     | Credit_History(0.0)                     | Credit_History(1.0)                     | Credit_History(1.0)                     | Credit_History(0.0)                 | Credit_History(0.0)                 | Credit_History(1.0)                 | Credit_History(1.0)                 | Credit_History(0.0)                      | Credit_History(0.0)                      | Credit_History(1.0)                      | Credit_History(1.0)                      | Credit_History(0.0)                     | Credit_History(0.0)                     | Credit_History(1.0)                     | Credit_History(1.0)                     |\n",
      "+-------------------+-------------------------------------+-------------------------------------+-------------------------------------+-------------------------------------+------------------------------------------+------------------------------------------+------------------------------------------+------------------------------------------+-----------------------------------------+-----------------------------------------+-----------------------------------------+-----------------------------------------+-------------------------------------+-------------------------------------+-------------------------------------+-------------------------------------+------------------------------------------+------------------------------------------+------------------------------------------+------------------------------------------+-----------------------------------------+-----------------------------------------+-----------------------------------------+-----------------------------------------+-------------------------------------+-------------------------------------+-------------------------------------+-------------------------------------+------------------------------------------+------------------------------------------+------------------------------------------+------------------------------------------+-----------------------------------------+-----------------------------------------+-----------------------------------------+-----------------------------------------+\n",
      "| Education         | Education(Graduate)                 | Education(Not Graduate)             | Education(Graduate)                 | Education(Not Graduate)             | Education(Graduate)                      | Education(Not Graduate)                  | Education(Graduate)                      | Education(Not Graduate)                  | Education(Graduate)                     | Education(Not Graduate)                 | Education(Graduate)                     | Education(Not Graduate)                 | Education(Graduate)                 | Education(Not Graduate)             | Education(Graduate)                 | Education(Not Graduate)             | Education(Graduate)                      | Education(Not Graduate)                  | Education(Graduate)                      | Education(Not Graduate)                  | Education(Graduate)                     | Education(Not Graduate)                 | Education(Graduate)                     | Education(Not Graduate)                 | Education(Graduate)                 | Education(Not Graduate)             | Education(Graduate)                 | Education(Not Graduate)             | Education(Graduate)                      | Education(Not Graduate)                  | Education(Graduate)                      | Education(Not Graduate)                  | Education(Graduate)                     | Education(Not Graduate)                 | Education(Graduate)                     | Education(Not Graduate)                 |\n",
      "+-------------------+-------------------------------------+-------------------------------------+-------------------------------------+-------------------------------------+------------------------------------------+------------------------------------------+------------------------------------------+------------------------------------------+-----------------------------------------+-----------------------------------------+-----------------------------------------+-----------------------------------------+-------------------------------------+-------------------------------------+-------------------------------------+-------------------------------------+------------------------------------------+------------------------------------------+------------------------------------------+------------------------------------------+-----------------------------------------+-----------------------------------------+-----------------------------------------+-----------------------------------------+-------------------------------------+-------------------------------------+-------------------------------------+-------------------------------------+------------------------------------------+------------------------------------------+------------------------------------------+------------------------------------------+-----------------------------------------+-----------------------------------------+-----------------------------------------+-----------------------------------------+\n",
      "| Loan_Status(N)    | 0.9161378059836809                  | 0.9566596194503171                  | 0.19383589604027757                 | 0.2506413545407902                  | 0.5                                      | 0.5                                      | 0.5                                      | 0.5                                      | 0.5                                     | 0.5                                     | 0.9390243902439025                      | 0.5                                     | 0.10869565217391305                 | 0.5                                 | 0.2662337662337662                  | 0.5                                 | 0.5                                      | 0.5                                      | 0.5                                      | 0.5                                      | 0.5                                     | 0.5                                     | 0.5                                     | 0.5                                     | 0.891304347826087                   | 0.5                                 | 0.10869565217391305                 | 0.5                                 | 0.5                                      | 0.5                                      | 0.5                                      | 0.5                                      | 0.5                                     | 0.5                                     | 0.5                                     | 0.5                                     |\n",
      "+-------------------+-------------------------------------+-------------------------------------+-------------------------------------+-------------------------------------+------------------------------------------+------------------------------------------+------------------------------------------+------------------------------------------+-----------------------------------------+-----------------------------------------+-----------------------------------------+-----------------------------------------+-------------------------------------+-------------------------------------+-------------------------------------+-------------------------------------+------------------------------------------+------------------------------------------+------------------------------------------+------------------------------------------+-----------------------------------------+-----------------------------------------+-----------------------------------------+-----------------------------------------+-------------------------------------+-------------------------------------+-------------------------------------+-------------------------------------+------------------------------------------+------------------------------------------+------------------------------------------+------------------------------------------+-----------------------------------------+-----------------------------------------+-----------------------------------------+-----------------------------------------+\n",
      "| Loan_Status(Y)    | 0.08386219401631914                 | 0.04334038054968287                 | 0.8061641039597224                  | 0.7493586454592098                  | 0.5                                      | 0.5                                      | 0.5                                      | 0.5                                      | 0.5                                     | 0.5                                     | 0.06097560975609757                     | 0.5                                     | 0.891304347826087                   | 0.5                                 | 0.7337662337662337                  | 0.5                                 | 0.5                                      | 0.5                                      | 0.5                                      | 0.5                                      | 0.5                                     | 0.5                                     | 0.5                                     | 0.5                                     | 0.10869565217391305                 | 0.5                                 | 0.891304347826087                   | 0.5                                 | 0.5                                      | 0.5                                      | 0.5                                      | 0.5                                      | 0.5                                     | 0.5                                     | 0.5                                     | 0.5                                     |\n",
      "+-------------------+-------------------------------------+-------------------------------------+-------------------------------------+-------------------------------------+------------------------------------------+------------------------------------------+------------------------------------------+------------------------------------------+-----------------------------------------+-----------------------------------------+-----------------------------------------+-----------------------------------------+-------------------------------------+-------------------------------------+-------------------------------------+-------------------------------------+------------------------------------------+------------------------------------------+------------------------------------------+------------------------------------------+-----------------------------------------+-----------------------------------------+-----------------------------------------+-----------------------------------------+-------------------------------------+-------------------------------------+-------------------------------------+-------------------------------------+------------------------------------------+------------------------------------------+------------------------------------------+------------------------------------------+-----------------------------------------+-----------------------------------------+-----------------------------------------+-----------------------------------------+\n"
     ]
    }
   ],
   "source": [
    "print(model.get_cpds(\"Loan_Status\"))"
   ]
  },
  {
   "cell_type": "markdown",
   "metadata": {},
   "source": [
    "# 4. Independences"
   ]
  },
  {
   "cell_type": "code",
   "execution_count": 134,
   "metadata": {},
   "outputs": [
    {
     "name": "stdout",
     "output_type": "stream",
     "text": [
      "Independencies : (Married ⟂ Education, LoanAmount, Property_Area, Loan_Status, ApplicantIncome, Credit_History | Dependents, CoapplicantIncome)\n",
      "Married Descendant : ['Gender']\n"
     ]
    }
   ],
   "source": [
    "print(\"Independencies :\",model.local_independencies(\"Married\"))\n",
    "print(\"Married Descendants :\",model.get_children(\"Married\"))"
   ]
  },
  {
   "cell_type": "code",
   "execution_count": 45,
   "metadata": {},
   "outputs": [
    {
     "name": "stdout",
     "output_type": "stream",
     "text": [
      "Independencies : (Gender ⟂ CoapplicantIncome, Loan_Status, Dependents, Property_Area, Education, LoanAmount, Credit_History, ApplicantIncome | Married)\n",
      "Gender Descendants : []\n"
     ]
    }
   ],
   "source": [
    "print(\"Independencies :\",model.local_independencies(\"Gender\"))\n",
    "print(\"Gender Descendants :\",model.get_children(\"Gender\"))"
   ]
  },
  {
   "cell_type": "code",
   "execution_count": 46,
   "metadata": {},
   "outputs": [
    {
     "name": "stdout",
     "output_type": "stream",
     "text": [
      "Independencies : (Dependents ⟂ CoapplicantIncome, Loan_Status, Credit_History, Property_Area, Education | ApplicantIncome, LoanAmount)\n",
      "Dependents Descendants : ['Married']\n"
     ]
    }
   ],
   "source": [
    "print(\"Independencies :\",model.local_independencies(\"Dependents\"))\n",
    "print(\"Dependents Descendants :\",model.get_children(\"Dependents\"))"
   ]
  },
  {
   "cell_type": "code",
   "execution_count": 47,
   "metadata": {},
   "outputs": [
    {
     "name": "stdout",
     "output_type": "stream",
     "text": [
      "Independencies : (ApplicantIncome ⟂ CoapplicantIncome, Property_Area, Credit_History)\n",
      "ApplicantIncome Descendants : ['LoanAmount', 'Dependents', 'Loan_Status']\n"
     ]
    }
   ],
   "source": [
    "print(\"Independencies :\",model.local_independencies(\"ApplicantIncome\"))\n",
    "print(\"ApplicantIncome Descendants :\",model.get_children(\"ApplicantIncome\"))"
   ]
  },
  {
   "cell_type": "code",
   "execution_count": 44,
   "metadata": {},
   "outputs": [
    {
     "name": "stdout",
     "output_type": "stream",
     "text": [
      "Independencies : (LoanAmount ⟂ CoapplicantIncome, Property_Area, Credit_History | ApplicantIncome)\n",
      "LoanAmount Descendants : ['Education', 'Dependents']\n"
     ]
    }
   ],
   "source": [
    "print(\"Independencies :\",model.local_independencies(\"LoanAmount\"))\n",
    "print(\"LoanAmount Descendants :\",model.get_children(\"LoanAmount\"))"
   ]
  },
  {
   "cell_type": "code",
   "execution_count": 43,
   "metadata": {},
   "outputs": [
    {
     "name": "stdout",
     "output_type": "stream",
     "text": [
      "Independencies : (CoapplicantIncome ⟂ LoanAmount, Dependents, Credit_History, Education, ApplicantIncome)\n",
      "CoapplicantIncome Descendants : ['Loan_Status', 'Married', 'Property_Area']\n"
     ]
    }
   ],
   "source": [
    "print(\"Independencies :\",model.local_independencies(\"CoapplicantIncome\"))\n",
    "print(\"CoapplicantIncome Descendants :\",model.get_children(\"CoapplicantIncome\"))"
   ]
  },
  {
   "cell_type": "code",
   "execution_count": 42,
   "metadata": {},
   "outputs": [
    {
     "name": "stdout",
     "output_type": "stream",
     "text": [
      "Independencies : (Property_Area ⟂ Loan_Status, Dependents, Education, Married, LoanAmount, Gender, Credit_History, ApplicantIncome | CoapplicantIncome)\n",
      "Property_Area Descendants : []\n"
     ]
    }
   ],
   "source": [
    "print(\"Independencies :\",model.local_independencies(\"Property_Area\"))\n",
    "print(\"Property_Area Descendants :\",model.get_children(\"Property_Area\"))"
   ]
  },
  {
   "cell_type": "code",
   "execution_count": 41,
   "metadata": {},
   "outputs": [
    {
     "name": "stdout",
     "output_type": "stream",
     "text": [
      "Independencies : (Education ⟂ CoapplicantIncome, Married, Gender, Dependents, Credit_History, Property_Area, ApplicantIncome | LoanAmount)\n",
      "Education Descendants : ['Loan_Status']\n"
     ]
    }
   ],
   "source": [
    "print(\"Independencies :\",model.local_independencies(\"Education\"))\n",
    "print(\"Education Descendants :\",model.get_children(\"Education\"))"
   ]
  },
  {
   "cell_type": "code",
   "execution_count": 40,
   "metadata": {},
   "outputs": [
    {
     "name": "stdout",
     "output_type": "stream",
     "text": [
      "Independencies : (Credit_History ⟂ CoapplicantIncome, Dependents, Property_Area, Education, Married, LoanAmount, Gender, ApplicantIncome)\n",
      "Credit_History Descendants : ['Loan_Status']\n"
     ]
    }
   ],
   "source": [
    "print(\"Independencies :\",model.local_independencies(\"Credit_History\"))\n",
    "print(\"Credit_History Descendants :\",model.get_children(\"Credit_History\"))"
   ]
  },
  {
   "cell_type": "code",
   "execution_count": 39,
   "metadata": {},
   "outputs": [
    {
     "name": "stdout",
     "output_type": "stream",
     "text": [
      "Independencies : (Loan_Status ⟂ Married, Gender, Dependents, LoanAmount, Property_Area | CoapplicantIncome, Education, ApplicantIncome, Credit_History)\n",
      "Loan_Status Descendants : []\n"
     ]
    }
   ],
   "source": [
    "print(\"Independencies :\",model.local_independencies(\"Loan_Status\"))\n",
    "print(\"Loan_Status Descendants :\",model.get_children(\"Loan_Status\"))"
   ]
  },
  {
   "cell_type": "markdown",
   "metadata": {},
   "source": [
    "# 5. Markov Blanket "
   ]
  },
  {
   "cell_type": "markdown",
   "metadata": {},
   "source": [
    "## Displaying Markov Blanket"
   ]
  },
  {
   "cell_type": "code",
   "execution_count": 51,
   "metadata": {},
   "outputs": [],
   "source": [
    "nodes = list(model.nodes())\n",
    "edges = list(model.edges())\n",
    "leaves = model.get_leaves()\n",
    "pos = nx.spring_layout(model) \n",
    "np.random.seed(47)\n",
    "\n",
    "markov_blanket = {}\n",
    "\n",
    "def Display_MarkovBlanket(node):\n",
    "    plt.figure(figsize=(10,8))\n",
    "    markov_blanket[node] = model.get_markov_blanket(node)\n",
    "    print(node,\"---->\",markov_blanket[node])    \n",
    "    nx.draw_networkx_nodes(model, pos, nodelist=[node], node_size=500, node_color=\"orange\", width = 4, font_size = 20)\n",
    "    nx.draw_networkx_nodes(model, pos, nodelist=markov_blanket[node], node_size=500, node_color=\"yellow\", width = 4, font_size = 20)\n",
    "    nx.draw_networkx_nodes(model, pos, nodelist = [n for n in nodes if n not in markov_blanket[node] and n != node], node_size=500, node_color=\"grey\", width = 4, font_size = 20)\n",
    "    nx.draw_networkx_labels(model, pos)\n",
    "    nx.draw_networkx_labels(model, pos)\n",
    "    nx.draw_networkx_edges(model, pos, edge_color='black',width=3)\n",
    "    plt.show()  "
   ]
  },
  {
   "cell_type": "markdown",
   "metadata": {},
   "source": [
    "### Q1. Markov Blanket for \"Education\" ?"
   ]
  },
  {
   "cell_type": "code",
   "execution_count": 52,
   "metadata": {},
   "outputs": [
    {
     "data": {
      "text/plain": [
       "['Loan_Status',\n",
       " 'ApplicantIncome',\n",
       " 'LoanAmount',\n",
       " 'Credit_History',\n",
       " 'CoapplicantIncome']"
      ]
     },
     "execution_count": 52,
     "metadata": {},
     "output_type": "execute_result"
    }
   ],
   "source": [
    "model.get_markov_blanket(\"Education\")"
   ]
  },
  {
   "cell_type": "markdown",
   "metadata": {},
   "source": [
    "Markov Blanket of \"Education\" are Loan_status, ApplicantIncome, Credit_History, CoapplicantIncome, LoanAmount"
   ]
  },
  {
   "cell_type": "code",
   "execution_count": 53,
   "metadata": {},
   "outputs": [
    {
     "name": "stdout",
     "output_type": "stream",
     "text": [
      "Education ----> ['Loan_Status', 'ApplicantIncome', 'LoanAmount', 'Credit_History', 'CoapplicantIncome']\n"
     ]
    },
    {
     "data": {
      "image/png": "[encoded data removed]",
      "text/plain": [
       "<Figure size 720x576 with 1 Axes>"
      ]
     },
     "metadata": {},
     "output_type": "display_data"
    }
   ],
   "source": [
    "Display_MarkovBlanket(\"Education\")"
   ]
  },
  {
   "cell_type": "markdown",
   "metadata": {},
   "source": [
    "### Q2. Markov Blanket for \"LoanAmount\" ?"
   ]
  },
  {
   "cell_type": "code",
   "execution_count": 54,
   "metadata": {},
   "outputs": [
    {
     "data": {
      "text/plain": [
       "['ApplicantIncome', 'Education', 'Dependents']"
      ]
     },
     "execution_count": 54,
     "metadata": {},
     "output_type": "execute_result"
    }
   ],
   "source": [
    "model.get_markov_blanket(\"LoanAmount\")"
   ]
  },
  {
   "cell_type": "markdown",
   "metadata": {},
   "source": [
    "Markov Blanket of \"LoanAmount\" are Dependents, Education , ApplicantIncome"
   ]
  },
  {
   "cell_type": "code",
   "execution_count": 55,
   "metadata": {},
   "outputs": [
    {
     "name": "stdout",
     "output_type": "stream",
     "text": [
      "LoanAmount ----> ['ApplicantIncome', 'Education', 'Dependents']\n"
     ]
    },
    {
     "data": {
      "image/png": "[encoded data removed]",
      "text/plain": [
       "<Figure size 720x576 with 1 Axes>"
      ]
     },
     "metadata": {},
     "output_type": "display_data"
    }
   ],
   "source": [
    "Display_MarkovBlanket(\"LoanAmount\")"
   ]
  },
  {
   "cell_type": "markdown",
   "metadata": {},
   "source": [
    "### Q3. Markov Blanket for \"Credit_History\" ?"
   ]
  },
  {
   "cell_type": "code",
   "execution_count": 56,
   "metadata": {},
   "outputs": [
    {
     "data": {
      "text/plain": [
       "['Loan_Status', 'ApplicantIncome', 'Education', 'CoapplicantIncome']"
      ]
     },
     "execution_count": 56,
     "metadata": {},
     "output_type": "execute_result"
    }
   ],
   "source": [
    "model.get_markov_blanket(\"Credit_History\")"
   ]
  },
  {
   "cell_type": "markdown",
   "metadata": {},
   "source": [
    "Markov Blanket of \"Credit_History\" are Education , ApplicantIncome, CoapplicantIncome, Loan_Status"
   ]
  },
  {
   "cell_type": "code",
   "execution_count": 57,
   "metadata": {},
   "outputs": [
    {
     "name": "stdout",
     "output_type": "stream",
     "text": [
      "Credit_History ----> ['Loan_Status', 'ApplicantIncome', 'Education', 'CoapplicantIncome']\n"
     ]
    },
    {
     "data": {
      "image/png": "[encoded data removed]",
      "text/plain": [
       "<Figure size 720x576 with 1 Axes>"
      ]
     },
     "metadata": {},
     "output_type": "display_data"
    }
   ],
   "source": [
    "Display_MarkovBlanket(\"Credit_History\")"
   ]
  },
  {
   "cell_type": "markdown",
   "metadata": {},
   "source": [
    "### Q4. Markov Blanket for \"ApplicantIncome\" ?"
   ]
  },
  {
   "cell_type": "code",
   "execution_count": 58,
   "metadata": {},
   "outputs": [
    {
     "data": {
      "text/plain": [
       "['Loan_Status',\n",
       " 'LoanAmount',\n",
       " 'Dependents',\n",
       " 'Education',\n",
       " 'Credit_History',\n",
       " 'CoapplicantIncome']"
      ]
     },
     "execution_count": 58,
     "metadata": {},
     "output_type": "execute_result"
    }
   ],
   "source": [
    "model.get_markov_blanket(\"ApplicantIncome\")"
   ]
  },
  {
   "cell_type": "markdown",
   "metadata": {},
   "source": [
    "Markov Blanket of \"ApplicantIncome\" are Education , ApplicantIncome, CoapplicantIncome, Loan_Status, Credit_History, Dependents"
   ]
  },
  {
   "cell_type": "code",
   "execution_count": 59,
   "metadata": {},
   "outputs": [
    {
     "name": "stdout",
     "output_type": "stream",
     "text": [
      "ApplicantIncome ----> ['Loan_Status', 'LoanAmount', 'Dependents', 'Education', 'Credit_History', 'CoapplicantIncome']\n"
     ]
    },
    {
     "data": {
      "image/png": "[encoded data removed]",
      "text/plain": [
       "<Figure size 720x576 with 1 Axes>"
      ]
     },
     "metadata": {},
     "output_type": "display_data"
    }
   ],
   "source": [
    "Display_MarkovBlanket(\"ApplicantIncome\")"
   ]
  },
  {
   "cell_type": "markdown",
   "metadata": {},
   "source": [
    "### Q5. Markov Blanket for \"Loan_Status\" ?"
   ]
  },
  {
   "cell_type": "code",
   "execution_count": 60,
   "metadata": {},
   "outputs": [
    {
     "data": {
      "text/plain": [
       "['ApplicantIncome', 'CoapplicantIncome', 'Education', 'Credit_History']"
      ]
     },
     "execution_count": 60,
     "metadata": {},
     "output_type": "execute_result"
    }
   ],
   "source": [
    "model.get_markov_blanket(\"Loan_Status\")"
   ]
  },
  {
   "cell_type": "markdown",
   "metadata": {},
   "source": [
    "Markov Blanket of \"Loan_Status\" are Education , ApplicantIncome, CoapplicantIncome, Loan_Status, Credit_History, Dependents"
   ]
  },
  {
   "cell_type": "code",
   "execution_count": 61,
   "metadata": {},
   "outputs": [
    {
     "name": "stdout",
     "output_type": "stream",
     "text": [
      "Loan_Status ----> ['ApplicantIncome', 'CoapplicantIncome', 'Education', 'Credit_History']\n"
     ]
    },
    {
     "data": {
      "image/png": "[encoded data removed]",
      "text/plain": [
       "<Figure size 720x576 with 1 Axes>"
      ]
     },
     "metadata": {},
     "output_type": "display_data"
    }
   ],
   "source": [
    "Display_MarkovBlanket(\"Loan_Status\")"
   ]
  },
  {
   "cell_type": "markdown",
   "metadata": {},
   "source": [
    "# 6. Reasoning Patterns and Active Trails "
   ]
  },
  {
   "cell_type": "markdown",
   "metadata": {},
   "source": [
    "## Q1. Is there is any active trail between Education and LoanAmount ?"
   ]
  },
  {
   "cell_type": "code",
   "execution_count": 191,
   "metadata": {},
   "outputs": [
    {
     "data": {
      "text/plain": [
       "True"
      ]
     },
     "execution_count": 191,
     "metadata": {},
     "output_type": "execute_result"
    }
   ],
   "source": [
    "model.is_dconnected(\"Education\",\"LoanAmount\")"
   ]
  },
  {
   "cell_type": "markdown",
   "metadata": {},
   "source": [
    "There is active trail between Education and LoanAmount. So Education and LoanAmount are Not Independent."
   ]
  },
  {
   "cell_type": "markdown",
   "metadata": {},
   "source": [
    "## Q2. Is there is any active trail between Loan_Status and Credit_History ?"
   ]
  },
  {
   "cell_type": "code",
   "execution_count": 192,
   "metadata": {},
   "outputs": [
    {
     "data": {
      "text/plain": [
       "True"
      ]
     },
     "execution_count": 192,
     "metadata": {},
     "output_type": "execute_result"
    }
   ],
   "source": [
    "model.is_dconnected(\"Loan_Status\",\"Credit_History\")"
   ]
  },
  {
   "cell_type": "markdown",
   "metadata": {},
   "source": [
    "There is active trail between Loan_Status and Credit_History. So Loan_Status and Credit_History are Not Independent."
   ]
  },
  {
   "cell_type": "markdown",
   "metadata": {},
   "source": [
    "## Q3. Is there is any active trail between PropertyArea and Gender ?"
   ]
  },
  {
   "cell_type": "code",
   "execution_count": 196,
   "metadata": {},
   "outputs": [
    {
     "data": {
      "text/plain": [
       "False"
      ]
     },
     "execution_count": 196,
     "metadata": {},
     "output_type": "execute_result"
    }
   ],
   "source": [
    "model.is_dconnected(\"Property_Area\",\"LoanAmount\")"
   ]
  },
  {
   "cell_type": "markdown",
   "metadata": {},
   "source": [
    "There is no active trail between Property_Area and LoanAmount. So Property_Area and LoanAmount are Independent of each other."
   ]
  },
  {
   "cell_type": "markdown",
   "metadata": {},
   "source": [
    "## 6.1 Causal reasoning (Prediction)"
   ]
  },
  {
   "cell_type": "markdown",
   "metadata": {},
   "source": [
    "### Q1. Do Tony get Loan Approved without any Evidence?"
   ]
  },
  {
   "cell_type": "code",
   "execution_count": 33,
   "metadata": {},
   "outputs": [
    {
     "name": "stderr",
     "output_type": "stream",
     "text": [
      "Finding Elimination Order: : 100%|█████████████████████████████████████████████████████| 5/5 [00:00<00:00, 2501.37it/s]\n",
      "Eliminating: ApplicantIncome: 100%|█████████████████████████████████████████████████████| 5/5 [00:00<00:00, 309.91it/s]"
     ]
    },
    {
     "name": "stdout",
     "output_type": "stream",
     "text": [
      "+----------------+--------------------+\n",
      "| Loan_Status    |   phi(Loan_Status) |\n",
      "+================+====================+\n",
      "| Loan_Status(N) |             0.3195 |\n",
      "+----------------+--------------------+\n",
      "| Loan_Status(Y) |             0.6805 |\n",
      "+----------------+--------------------+\n"
     ]
    },
    {
     "name": "stderr",
     "output_type": "stream",
     "text": [
      "\n"
     ]
    }
   ],
   "source": [
    "infer = VariableElimination(model)\n",
    "print(infer.query(variables=['Loan_Status']))"
   ]
  },
  {
   "cell_type": "markdown",
   "metadata": {},
   "source": [
    "There is 68% of chance that Tony will get Loan Approved."
   ]
  },
  {
   "cell_type": "markdown",
   "metadata": {},
   "source": [
    "### Q2. Do Tony get  Loan Approved with given Evidence he is \"Graduate\" and his Credit Score is 1.0 and his income is between 40,500 to 81000 ?"
   ]
  },
  {
   "cell_type": "code",
   "execution_count": 34,
   "metadata": {},
   "outputs": [
    {
     "name": "stderr",
     "output_type": "stream",
     "text": [
      "Finding Elimination Order: : 100%|██████████████████████████████████████████████████████| 1/1 [00:00<00:00, 910.62it/s]\n",
      "Eliminating: CoapplicantIncome: 100%|███████████████████████████████████████████████████| 1/1 [00:00<00:00, 247.80it/s]"
     ]
    },
    {
     "name": "stdout",
     "output_type": "stream",
     "text": [
      "+----------------+--------------------+\n",
      "| Loan_Status    |   phi(Loan_Status) |\n",
      "+================+====================+\n",
      "| Loan_Status(N) |             0.1154 |\n",
      "+----------------+--------------------+\n",
      "| Loan_Status(Y) |             0.8846 |\n",
      "+----------------+--------------------+\n"
     ]
    },
    {
     "name": "stderr",
     "output_type": "stream",
     "text": [
      "\n"
     ]
    }
   ],
   "source": [
    "print(infer.query(variables=['Loan_Status'],evidence={'Education':'Graduate','ApplicantIncome':'40,500 to 81000','Credit_History':1.0}))"
   ]
  },
  {
   "cell_type": "markdown",
   "metadata": {},
   "source": [
    "There is 88% of chance that Tony will get Loan Approved."
   ]
  },
  {
   "cell_type": "markdown",
   "metadata": {},
   "source": [
    "## 6.2 Evdential Reasoning (Explaining) "
   ]
  },
  {
   "cell_type": "markdown",
   "metadata": {},
   "source": [
    "### Q1. Is Tony is a Graduate given that he got Loan Approved ? "
   ]
  },
  {
   "cell_type": "code",
   "execution_count": 37,
   "metadata": {},
   "outputs": [
    {
     "name": "stderr",
     "output_type": "stream",
     "text": [
      "Finding Elimination Order: : 100%|███████████████████████████████████████████████████████████████| 4/4 [00:00<?, ?it/s]\n",
      "Eliminating: ApplicantIncome: 100%|█████████████████████████████████████████████████████| 4/4 [00:00<00:00, 500.08it/s]"
     ]
    },
    {
     "name": "stdout",
     "output_type": "stream",
     "text": [
      "+-------------------------+------------------+\n",
      "| Education               |   phi(Education) |\n",
      "+=========================+==================+\n",
      "| Education(Graduate)     |           0.7909 |\n",
      "+-------------------------+------------------+\n",
      "| Education(Not Graduate) |           0.2091 |\n",
      "+-------------------------+------------------+\n"
     ]
    },
    {
     "name": "stderr",
     "output_type": "stream",
     "text": [
      "\n"
     ]
    }
   ],
   "source": [
    "print(infer.query(variables=['Education'],evidence={'Loan_Status':\"Y\"}))"
   ]
  },
  {
   "cell_type": "markdown",
   "metadata": {},
   "source": [
    "There is 79% of chance that Tony is Graduated given evidence that he got Loan Approved. "
   ]
  },
  {
   "cell_type": "markdown",
   "metadata": {},
   "source": [
    "### Q2. Is Tony is Married given that he got Loan Approved ? "
   ]
  },
  {
   "cell_type": "code",
   "execution_count": 42,
   "metadata": {},
   "outputs": [
    {
     "name": "stderr",
     "output_type": "stream",
     "text": [
      "Finding Elimination Order: : 100%|█████████████████████████████████████████████████████| 6/6 [00:00<00:00, 2988.11it/s]\n",
      "Eliminating: CoapplicantIncome: 100%|███████████████████████████████████████████████████| 6/6 [00:00<00:00, 351.28it/s]"
     ]
    },
    {
     "name": "stdout",
     "output_type": "stream",
     "text": [
      "+--------------+----------------+\n",
      "| Married      |   phi(Married) |\n",
      "+==============+================+\n",
      "| Married(No)  |         0.3459 |\n",
      "+--------------+----------------+\n",
      "| Married(Yes) |         0.6541 |\n",
      "+--------------+----------------+\n"
     ]
    },
    {
     "name": "stderr",
     "output_type": "stream",
     "text": [
      "\n"
     ]
    }
   ],
   "source": [
    "print(infer.query(variables=['Married'],evidence={'Loan_Status':\"Y\"}))"
   ]
  },
  {
   "cell_type": "markdown",
   "metadata": {},
   "source": [
    "There is 65% of chance that Tony is Married given evidence that he got Loan Approved. May be his wife is also working and earning money.  "
   ]
  },
  {
   "cell_type": "markdown",
   "metadata": {},
   "source": [
    "# 7. Inference "
   ]
  },
  {
   "cell_type": "markdown",
   "metadata": {},
   "source": [
    "## 7.1 Variable Elimination"
   ]
  },
  {
   "cell_type": "code",
   "execution_count": 57,
   "metadata": {},
   "outputs": [],
   "source": [
    "infer = VariableElimination(model)"
   ]
  },
  {
   "cell_type": "markdown",
   "metadata": {},
   "source": [
    "## Joint Distribtion"
   ]
  },
  {
   "cell_type": "code",
   "execution_count": 398,
   "metadata": {},
   "outputs": [
    {
     "name": "stderr",
     "output_type": "stream",
     "text": [
      "Finding Elimination Order: : 100%|█████████████████████████████████████████████████████| 3/3 [00:00<00:00, 2998.07it/s]\n",
      "Eliminating: Credit_History: 100%|██████████████████████████████████████████████████████| 3/3 [00:00<00:00, 750.64it/s]"
     ]
    },
    {
     "name": "stdout",
     "output_type": "stream",
     "text": [
      "+----------------+-------------------------+------------------------------+\n",
      "| Loan_Status    | Education               |   phi(Loan_Status,Education) |\n",
      "+================+=========================+==============================+\n",
      "| Loan_Status(N) | Education(Graduate)     |                       0.2663 |\n",
      "+----------------+-------------------------+------------------------------+\n",
      "| Loan_Status(N) | Education(Not Graduate) |                       0.0488 |\n",
      "+----------------+-------------------------+------------------------------+\n",
      "| Loan_Status(Y) | Education(Graduate)     |                       0.5992 |\n",
      "+----------------+-------------------------+------------------------------+\n",
      "| Loan_Status(Y) | Education(Not Graduate) |                       0.0857 |\n",
      "+----------------+-------------------------+------------------------------+\n"
     ]
    },
    {
     "name": "stderr",
     "output_type": "stream",
     "text": [
      "\n"
     ]
    }
   ],
   "source": [
    "print(infer.query(variables=['Loan_Status','Education'], joint= True))"
   ]
  },
  {
   "cell_type": "markdown",
   "metadata": {},
   "source": [
    "## Conditional Distribution"
   ]
  },
  {
   "cell_type": "code",
   "execution_count": 362,
   "metadata": {},
   "outputs": [
    {
     "name": "stderr",
     "output_type": "stream",
     "text": [
      "Finding Elimination Order: : 100%|█████████████████████████████████████████████████████| 5/5 [00:00<00:00, 2496.91it/s]\n",
      "Eliminating: Credit_History: 100%|██████████████████████████████████████████████████████| 5/5 [00:00<00:00, 500.00it/s]"
     ]
    },
    {
     "name": "stdout",
     "output_type": "stream",
     "text": [
      "+----------------+--------------------+\n",
      "| Loan_Status    |   phi(Loan_Status) |\n",
      "+================+====================+\n",
      "| Loan_Status(N) |             0.3195 |\n",
      "+----------------+--------------------+\n",
      "| Loan_Status(Y) |             0.6805 |\n",
      "+----------------+--------------------+\n"
     ]
    },
    {
     "name": "stderr",
     "output_type": "stream",
     "text": [
      "\n"
     ]
    }
   ],
   "source": [
    "print(infer.query(['Loan_Status']))"
   ]
  },
  {
   "cell_type": "markdown",
   "metadata": {},
   "source": [
    "## Trying with multiple values of Education variable"
   ]
  },
  {
   "cell_type": "code",
   "execution_count": 59,
   "metadata": {},
   "outputs": [
    {
     "name": "stderr",
     "output_type": "stream",
     "text": [
      "Finding Elimination Order: : 100%|█████████████████████████████████████████████████████| 4/4 [00:00<00:00, 1190.04it/s]\n",
      "Eliminating: ApplicantIncome: 100%|████████████████████████████████████████████████████| 4/4 [00:00<00:00, 1015.63it/s]\n",
      "Finding Elimination Order: : 100%|███████████████████████████████████████████████████████████████| 4/4 [00:00<?, ?it/s]\n",
      "Eliminating: ApplicantIncome: 100%|█████████████████████████████████████████████████████| 4/4 [00:00<00:00, 499.77it/s]"
     ]
    },
    {
     "name": "stdout",
     "output_type": "stream",
     "text": [
      "Education: Graduate\n",
      "+----------------+--------------------+\n",
      "| Loan_Status    |   phi(Loan_Status) |\n",
      "+================+====================+\n",
      "| Loan_Status(N) |             0.3075 |\n",
      "+----------------+--------------------+\n",
      "| Loan_Status(Y) |             0.6925 |\n",
      "+----------------+--------------------+\n",
      "\n",
      "\n",
      "Education: Not Graduate\n",
      "+----------------+--------------------+\n",
      "| Loan_Status    |   phi(Loan_Status) |\n",
      "+================+====================+\n",
      "| Loan_Status(N) |             0.3613 |\n",
      "+----------------+--------------------+\n",
      "| Loan_Status(Y) |             0.6387 |\n",
      "+----------------+--------------------+\n",
      "\n",
      "\n"
     ]
    },
    {
     "name": "stderr",
     "output_type": "stream",
     "text": [
      "\n"
     ]
    }
   ],
   "source": [
    "for i in data.Education.unique():\n",
    "    print(\"Education:\", i)\n",
    "    print(infer.query(variables=['Loan_Status'], evidence = {'Education': i}))\n",
    "    print(\"\\n\")"
   ]
  },
  {
   "cell_type": "markdown",
   "metadata": {},
   "source": [
    "*Loan_Status given Education = \"Graduate\" has high chance to get Loan Apporved.*"
   ]
  },
  {
   "cell_type": "markdown",
   "metadata": {},
   "source": [
    "## Trying with multiple values of Credit History variable"
   ]
  },
  {
   "cell_type": "code",
   "execution_count": 60,
   "metadata": {},
   "outputs": [
    {
     "name": "stderr",
     "output_type": "stream",
     "text": [
      "Finding Elimination Order: : 100%|█████████████████████████████████████████████████████| 4/4 [00:00<00:00, 2002.05it/s]\n",
      "Eliminating: ApplicantIncome: 100%|█████████████████████████████████████████████████████| 4/4 [00:00<00:00, 463.31it/s]\n",
      "Finding Elimination Order: : 100%|█████████████████████████████████████████████████████| 4/4 [00:00<00:00, 4140.48it/s]\n",
      "Eliminating: ApplicantIncome: 100%|█████████████████████████████████████████████████████| 4/4 [00:00<00:00, 499.96it/s]"
     ]
    },
    {
     "name": "stdout",
     "output_type": "stream",
     "text": [
      "Credit History: 1.0\n",
      "+----------------+--------------------+\n",
      "| Loan_Status    |   phi(Loan_Status) |\n",
      "+================+====================+\n",
      "| Loan_Status(N) |             0.2152 |\n",
      "+----------------+--------------------+\n",
      "| Loan_Status(Y) |             0.7848 |\n",
      "+----------------+--------------------+\n",
      "\n",
      "\n",
      "Credit History: 0.0\n",
      "+----------------+--------------------+\n",
      "| Loan_Status    |   phi(Loan_Status) |\n",
      "+================+====================+\n",
      "| Loan_Status(N) |             0.9073 |\n",
      "+----------------+--------------------+\n",
      "| Loan_Status(Y) |             0.0927 |\n",
      "+----------------+--------------------+\n",
      "\n",
      "\n"
     ]
    },
    {
     "name": "stderr",
     "output_type": "stream",
     "text": [
      "\n"
     ]
    }
   ],
   "source": [
    "for i in data.Credit_History.unique():\n",
    "    print(\"Credit History:\", i)\n",
    "    print(infer.query(variables=['Loan_Status'], evidence = {'Credit_History': i}))\n",
    "    print(\"\\n\")"
   ]
  },
  {
   "cell_type": "markdown",
   "metadata": {},
   "source": [
    "*Loan_Status given Credit History = 1.0 has high chance to get Loan Apporved.*"
   ]
  },
  {
   "cell_type": "markdown",
   "metadata": {},
   "source": [
    "## Trying with multiple values of ApplicantIncome variable"
   ]
  },
  {
   "cell_type": "code",
   "execution_count": 62,
   "metadata": {},
   "outputs": [
    {
     "name": "stderr",
     "output_type": "stream",
     "text": [
      "Finding Elimination Order: : 100%|███████████████████████████████████████████████████████████████| 4/4 [00:00<?, ?it/s]\n",
      "Eliminating: Credit_History: 100%|██████████████████████████████████████████████████████| 4/4 [00:00<00:00, 442.94it/s]\n",
      "Finding Elimination Order: : 100%|███████████████████████████████████████████████████████████████| 4/4 [00:00<?, ?it/s]\n",
      "Eliminating: Credit_History: 100%|██████████████████████████████████████████████████████| 4/4 [00:00<00:00, 499.90it/s]\n",
      "Finding Elimination Order: : 100%|███████████████████████████████████████████████████████████████| 4/4 [00:00<?, ?it/s]\n",
      "Eliminating: Credit_History: 100%|██████████████████████████████████████████████████████| 4/4 [00:00<00:00, 380.68it/s]"
     ]
    },
    {
     "name": "stdout",
     "output_type": "stream",
     "text": [
      "Applicant Income: 150 to 20,250\n",
      "+----------------+--------------------+\n",
      "| Loan_Status    |   phi(Loan_Status) |\n",
      "+================+====================+\n",
      "| Loan_Status(N) |             0.3205 |\n",
      "+----------------+--------------------+\n",
      "| Loan_Status(Y) |             0.6795 |\n",
      "+----------------+--------------------+\n",
      "\n",
      "\n",
      "Applicant Income: 20,250 to 40,500\n",
      "+----------------+--------------------+\n",
      "| Loan_Status    |   phi(Loan_Status) |\n",
      "+================+====================+\n",
      "| Loan_Status(N) |             0.2834 |\n",
      "+----------------+--------------------+\n",
      "| Loan_Status(Y) |             0.7166 |\n",
      "+----------------+--------------------+\n",
      "\n",
      "\n",
      "Applicant Income: 40,500 to 81000\n",
      "+----------------+--------------------+\n",
      "| Loan_Status    |   phi(Loan_Status) |\n",
      "+================+====================+\n",
      "| Loan_Status(N) |             0.2621 |\n",
      "+----------------+--------------------+\n",
      "| Loan_Status(Y) |             0.7379 |\n",
      "+----------------+--------------------+\n",
      "\n",
      "\n"
     ]
    },
    {
     "name": "stderr",
     "output_type": "stream",
     "text": [
      "\n"
     ]
    }
   ],
   "source": [
    "for i in data.ApplicantIncome.unique():\n",
    "    print(\"Applicant Income:\", i)\n",
    "    print(infer.query(variables=['Loan_Status'], evidence = {'ApplicantIncome': i}))\n",
    "    print(\"\\n\")"
   ]
  },
  {
   "cell_type": "markdown",
   "metadata": {},
   "source": [
    "*Loan_Status given Applicant Income = 40,500 to 81000 has high chance to get Loan Apporved.*"
   ]
  },
  {
   "cell_type": "markdown",
   "metadata": {},
   "source": [
    "## Trying with multiple values of CoapplicantIncome variable"
   ]
  },
  {
   "cell_type": "code",
   "execution_count": 63,
   "metadata": {},
   "outputs": [
    {
     "name": "stderr",
     "output_type": "stream",
     "text": [
      "Finding Elimination Order: : 100%|█████████████████████████████████████████████████████| 4/4 [00:00<00:00, 1334.70it/s]\n",
      "Eliminating: ApplicantIncome: 100%|█████████████████████████████████████████████████████| 4/4 [00:00<00:00, 970.06it/s]\n",
      "Finding Elimination Order: : 100%|█████████████████████████████████████████████████████| 4/4 [00:00<00:00, 1015.57it/s]\n",
      "Eliminating: ApplicantIncome: 100%|█████████████████████████████████████████████████████| 4/4 [00:00<00:00, 315.67it/s]\n",
      "Finding Elimination Order: : 100%|█████████████████████████████████████████████████████| 4/4 [00:00<00:00, 1001.09it/s]\n",
      "Eliminating: ApplicantIncome: 100%|█████████████████████████████████████████████████████| 4/4 [00:00<00:00, 333.45it/s]"
     ]
    },
    {
     "name": "stdout",
     "output_type": "stream",
     "text": [
      "Coapplicant Income: 0.0 to 10,416.75\n",
      "+----------------+--------------------+\n",
      "| Loan_Status    |   phi(Loan_Status) |\n",
      "+================+====================+\n",
      "| Loan_Status(N) |             0.3139 |\n",
      "+----------------+--------------------+\n",
      "| Loan_Status(Y) |             0.6861 |\n",
      "+----------------+--------------------+\n",
      "\n",
      "\n",
      "Coapplicant Income: 10,416.75 to 20,833.5\n",
      "+----------------+--------------------+\n",
      "| Loan_Status    |   phi(Loan_Status) |\n",
      "+================+====================+\n",
      "| Loan_Status(N) |             0.5000 |\n",
      "+----------------+--------------------+\n",
      "| Loan_Status(Y) |             0.5000 |\n",
      "+----------------+--------------------+\n",
      "\n",
      "\n",
      "Coapplicant Income: 20,833.5 to 41,667.0\n",
      "+----------------+--------------------+\n",
      "| Loan_Status    |   phi(Loan_Status) |\n",
      "+================+====================+\n",
      "| Loan_Status(N) |             0.7827 |\n",
      "+----------------+--------------------+\n",
      "| Loan_Status(Y) |             0.2173 |\n",
      "+----------------+--------------------+\n",
      "\n",
      "\n"
     ]
    },
    {
     "name": "stderr",
     "output_type": "stream",
     "text": [
      "\n"
     ]
    }
   ],
   "source": [
    "for i in data.CoapplicantIncome.unique():\n",
    "    print(\"Coapplicant Income:\", i)\n",
    "    print(infer.query(variables=['Loan_Status'], evidence = {'CoapplicantIncome': i}))\n",
    "    print(\"\\n\")"
   ]
  },
  {
   "cell_type": "markdown",
   "metadata": {},
   "source": [
    "*Loan_Status given Coapplicant Income: 0.0 to 10,416.75 has high chance to get Loan Apporved.*"
   ]
  },
  {
   "cell_type": "markdown",
   "metadata": {},
   "source": [
    "## Trying with multiple values of LoanAmount variable"
   ]
  },
  {
   "cell_type": "code",
   "execution_count": 69,
   "metadata": {},
   "outputs": [
    {
     "name": "stderr",
     "output_type": "stream",
     "text": [
      "Finding Elimination Order: : 100%|█████████████████████████████████████████████████████| 4/4 [00:00<00:00, 4161.02it/s]\n",
      "Eliminating: ApplicantIncome: 100%|█████████████████████████████████████████████████████| 4/4 [00:00<00:00, 499.99it/s]\n",
      "Finding Elimination Order: : 100%|█████████████████████████████████████████████████████| 4/4 [00:00<00:00, 1008.00it/s]\n",
      "Eliminating: ApplicantIncome: 100%|█████████████████████████████████████████████████████| 4/4 [00:00<00:00, 333.15it/s]\n",
      "Finding Elimination Order: : 100%|███████████████████████████████████████████████████████████████| 4/4 [00:00<?, ?it/s]\n",
      "Eliminating: ApplicantIncome: 100%|█████████████████████████████████████████████████████| 4/4 [00:00<00:00, 501.07it/s]"
     ]
    },
    {
     "name": "stdout",
     "output_type": "stream",
     "text": [
      "Loan Amount: 9.0 to 175.0\n",
      "+----------------+--------------------+\n",
      "| Loan_Status    |   phi(Loan_Status) |\n",
      "+================+====================+\n",
      "| Loan_Status(N) |             0.3212 |\n",
      "+----------------+--------------------+\n",
      "| Loan_Status(Y) |             0.6788 |\n",
      "+----------------+--------------------+\n",
      "\n",
      "\n",
      "Loan Amount: 175.0 to 350.0\n",
      "+----------------+--------------------+\n",
      "| Loan_Status    |   phi(Loan_Status) |\n",
      "+================+====================+\n",
      "| Loan_Status(N) |             0.3069 |\n",
      "+----------------+--------------------+\n",
      "| Loan_Status(Y) |             0.6931 |\n",
      "+----------------+--------------------+\n",
      "\n",
      "\n",
      "Loan Amount: 350.0 to 700.0\n",
      "+----------------+--------------------+\n",
      "| Loan_Status    |   phi(Loan_Status) |\n",
      "+================+====================+\n",
      "| Loan_Status(N) |             0.2990 |\n",
      "+----------------+--------------------+\n",
      "| Loan_Status(Y) |             0.7010 |\n",
      "+----------------+--------------------+\n",
      "\n",
      "\n"
     ]
    },
    {
     "name": "stderr",
     "output_type": "stream",
     "text": [
      "\n"
     ]
    }
   ],
   "source": [
    "for i in data.LoanAmount.unique():\n",
    "    print(\"Loan Amount:\", i)\n",
    "    print(infer.query(variables=['Loan_Status'], evidence = {'LoanAmount': i}))\n",
    "    print(\"\\n\")"
   ]
  },
  {
   "cell_type": "markdown",
   "metadata": {},
   "source": [
    "*Loan_Status given Loan Amount: 350.0 to 700.0 has high chance to get Loan Apporved.*"
   ]
  },
  {
   "cell_type": "markdown",
   "metadata": {},
   "source": [
    "## Trying with Multiple Variables as Evidence"
   ]
  },
  {
   "cell_type": "code",
   "execution_count": 366,
   "metadata": {},
   "outputs": [
    {
     "name": "stderr",
     "output_type": "stream",
     "text": [
      "Finding Elimination Order: : 100%|█████████████████████████████████████████████████████| 4/4 [00:00<00:00, 2006.84it/s]\n",
      "Eliminating: Credit_History: 100%|██████████████████████████████████████████████████████| 4/4 [00:00<00:00, 667.14it/s]"
     ]
    },
    {
     "name": "stdout",
     "output_type": "stream",
     "text": [
      "+----------------+--------------------+\n",
      "| Loan_Status    |   phi(Loan_Status) |\n",
      "+================+====================+\n",
      "| Loan_Status(N) |             0.3075 |\n",
      "+----------------+--------------------+\n",
      "| Loan_Status(Y) |             0.6925 |\n",
      "+----------------+--------------------+\n"
     ]
    },
    {
     "name": "stderr",
     "output_type": "stream",
     "text": [
      "\n"
     ]
    }
   ],
   "source": [
    "print(infer.query(['Loan_Status'], evidence={'Education':'Graduate'}))"
   ]
  },
  {
   "cell_type": "markdown",
   "metadata": {},
   "source": [
    "*Loan_Status given Education = Graduate has 69% chance to get Loan Apporved.*"
   ]
  },
  {
   "cell_type": "code",
   "execution_count": 369,
   "metadata": {},
   "outputs": [
    {
     "name": "stderr",
     "output_type": "stream",
     "text": [
      "Finding Elimination Order: : 100%|█████████████████████████████████████████████████████| 2/2 [00:00<00:00, 1973.79it/s]\n",
      "Eliminating: Credit_History: 100%|██████████████████████████████████████████████████████| 2/2 [00:00<00:00, 999.48it/s]"
     ]
    },
    {
     "name": "stdout",
     "output_type": "stream",
     "text": [
      "+----------------+--------------------+\n",
      "| Loan_Status    |   phi(Loan_Status) |\n",
      "+================+====================+\n",
      "| Loan_Status(N) |             0.2313 |\n",
      "+----------------+--------------------+\n",
      "| Loan_Status(Y) |             0.7687 |\n",
      "+----------------+--------------------+\n"
     ]
    },
    {
     "name": "stderr",
     "output_type": "stream",
     "text": [
      "\n"
     ]
    }
   ],
   "source": [
    "print(infer.query(['Loan_Status'], evidence={'Education':'Graduate','ApplicantIncome':'40,500 to 81000'}))"
   ]
  },
  {
   "cell_type": "markdown",
   "metadata": {},
   "source": [
    "\n",
    "*Loan_Status given Education = Graduate and ApplicantIncome = 40,500 to 81000 has 76.87% chance to get Loan Apporved.*"
   ]
  },
  {
   "cell_type": "code",
   "execution_count": 374,
   "metadata": {},
   "outputs": [
    {
     "name": "stderr",
     "output_type": "stream",
     "text": [
      "Finding Elimination Order: : 100%|██████████████████████████████████████████████████████| 1/1 [00:00<00:00, 998.17it/s]\n",
      "Eliminating: Credit_History: 100%|█████████████████████████████████████████████████████| 1/1 [00:00<00:00, 1001.27it/s]"
     ]
    },
    {
     "name": "stdout",
     "output_type": "stream",
     "text": [
      "+----------------+--------------------+\n",
      "| Loan_Status    |   phi(Loan_Status) |\n",
      "+================+====================+\n",
      "| Loan_Status(N) |             0.2266 |\n",
      "+----------------+--------------------+\n",
      "| Loan_Status(Y) |             0.7734 |\n",
      "+----------------+--------------------+\n"
     ]
    },
    {
     "name": "stderr",
     "output_type": "stream",
     "text": [
      "\n"
     ]
    }
   ],
   "source": [
    "print(infer.query(['Loan_Status'], evidence={'Education':'Graduate','ApplicantIncome':'40,500 to 81000','CoapplicantIncome':'0.0 to 10,416.75'}))"
   ]
  },
  {
   "cell_type": "markdown",
   "metadata": {},
   "source": [
    "*Loan_Status given Education = Graduate, ApplicantIncome = 40,500 to 81000 and CoapplicantIncome = 0.0 to 10,416.75 has 77.34% chance to get Loan Apporved.*"
   ]
  },
  {
   "cell_type": "code",
   "execution_count": 380,
   "metadata": {},
   "outputs": [
    {
     "name": "stderr",
     "output_type": "stream",
     "text": [
      "Finding Elimination Order: : : 0it [00:00, ?it/s]\n",
      "0it [00:00, ?it/s]"
     ]
    },
    {
     "name": "stdout",
     "output_type": "stream",
     "text": [
      "+----------------+--------------------+\n",
      "| Loan_Status    |   phi(Loan_Status) |\n",
      "+================+====================+\n",
      "| Loan_Status(N) |             0.1087 |\n",
      "+----------------+--------------------+\n",
      "| Loan_Status(Y) |             0.8913 |\n",
      "+----------------+--------------------+\n"
     ]
    },
    {
     "name": "stderr",
     "output_type": "stream",
     "text": [
      "\n"
     ]
    }
   ],
   "source": [
    "print(infer.query(['Loan_Status'], evidence={'Education':'Graduate','ApplicantIncome':'40,500 to 81000','CoapplicantIncome':'0.0 to 10,416.75','Credit_History':1.0}))"
   ]
  },
  {
   "cell_type": "markdown",
   "metadata": {},
   "source": [
    "*Loan_Status given Education = Graduate, ApplicantIncome = 40,500 to 81000, CoapplicantIncome = 0.0 to 10,416.75 and Credit_History = 1.0 has 89.13% chance to get Loan Apporved.*"
   ]
  },
  {
   "cell_type": "code",
   "execution_count": 381,
   "metadata": {},
   "outputs": [
    {
     "name": "stderr",
     "output_type": "stream",
     "text": [
      "Finding Elimination Order: : : 0it [00:00, ?it/s]\n",
      "0it [00:00, ?it/s]"
     ]
    },
    {
     "name": "stdout",
     "output_type": "stream",
     "text": [
      "+----------------+--------------------+\n",
      "| Loan_Status    |   phi(Loan_Status) |\n",
      "+================+====================+\n",
      "| Loan_Status(N) |             0.8913 |\n",
      "+----------------+--------------------+\n",
      "| Loan_Status(Y) |             0.1087 |\n",
      "+----------------+--------------------+\n"
     ]
    },
    {
     "name": "stderr",
     "output_type": "stream",
     "text": [
      "\n"
     ]
    }
   ],
   "source": [
    "print(infer.query(['Loan_Status'], evidence={'Education':'Graduate','ApplicantIncome':'40,500 to 81000','CoapplicantIncome':'0.0 to 10,416.75','Credit_History':0.0}))"
   ]
  },
  {
   "cell_type": "markdown",
   "metadata": {},
   "source": [
    "*Loan_Status given Education = Graduate, ApplicantIncome = 40,500 to 81000, CoapplicantIncome = 0.0 to 10,416.75 and Credit_History = 0.0 has 89.13% chance to not get Loan Apporved.*\n",
    "\n",
    "Here we can observe that Credit History has huge Impact on getting Loan Approved "
   ]
  },
  {
   "cell_type": "code",
   "execution_count": 71,
   "metadata": {},
   "outputs": [
    {
     "name": "stderr",
     "output_type": "stream",
     "text": [
      "Finding Elimination Order: : : 0it [00:00, ?it/s]\n",
      "0it [00:00, ?it/s]"
     ]
    },
    {
     "name": "stdout",
     "output_type": "stream",
     "text": [
      "+----------------+--------------------+\n",
      "| Loan_Status    |   phi(Loan_Status) |\n",
      "+================+====================+\n",
      "| Loan_Status(N) |             0.1087 |\n",
      "+----------------+--------------------+\n",
      "| Loan_Status(Y) |             0.8913 |\n",
      "+----------------+--------------------+\n"
     ]
    },
    {
     "name": "stderr",
     "output_type": "stream",
     "text": [
      "\n"
     ]
    }
   ],
   "source": [
    "print(infer.query(['Loan_Status'], evidence={'Education':'Graduate','ApplicantIncome':'40,500 to 81000','CoapplicantIncome':'0.0 to 10,416.75','Credit_History':1.0,'LoanAmount': '350.0 to 700.0'}))"
   ]
  },
  {
   "cell_type": "markdown",
   "metadata": {},
   "source": [
    "*Loan_Status given Education = Graduate, ApplicantIncome = 40,500 to 81000, CoapplicantIncome = 0.0 to 10,416.75, Credit_History = 1.0 and LoanAmount = 350.0 to 700.0  has 89.13% chance to get Loan Apporved.*\n",
    "\n",
    "Here we can observe there is no impact with LoanAmount to get Loan Approved"
   ]
  },
  {
   "cell_type": "markdown",
   "metadata": {},
   "source": [
    "## Conclusion"
   ]
  },
  {
   "cell_type": "markdown",
   "metadata": {},
   "source": [
    "Loan_Status given Education = Graduate, ApplicantIncome = 40,500 to 81000, CoapplicantIncome = 0.0 to 10,416.75 and Credit_History = 1.0 has 89.13% chance to get Loan Apporved.\n",
    "\n",
    "\n",
    "There is nearly 90% of chance to get Loan Approved with these Evidence.\n",
    "\n",
    "\n",
    "A person who graduated in master degree and earning 40,500 to 81000 euros and his wife who has income of 0 to 10,416.75 euros and has Credit History of 1.0 has nearly 90% chance to get Loan Approved.\n"
   ]
  },
  {
   "cell_type": "markdown",
   "metadata": {},
   "source": [
    "# 8. Sampling "
   ]
  },
  {
   "cell_type": "markdown",
   "metadata": {},
   "source": [
    "There are two Sampling techniques I have used in this Notebook they are Rejection sampling and Likelihood weighting sampling that are based on inference by stochastic simulation drawing N samples from a sampling distribution and compute an approximate posterior probability."
   ]
  },
  {
   "cell_type": "markdown",
   "metadata": {},
   "source": [
    "# 8.1 Rejection Sampling"
   ]
  },
  {
   "cell_type": "markdown",
   "metadata": {},
   "source": [
    "The rejection sampling method is to reject those samples that disagree with the given evidence of the query and compute the probability as a mean of the samples.\n"
   ]
  },
  {
   "cell_type": "markdown",
   "metadata": {},
   "source": [
    "### Q1)  Query -> Loan_Status: Y\n",
    "\n",
    "###                      Evidence -> Education: Graduate"
   ]
  },
  {
   "cell_type": "code",
   "execution_count": 77,
   "metadata": {},
   "outputs": [],
   "source": [
    "inference = BayesianModelSampling(model)"
   ]
  },
  {
   "cell_type": "code",
   "execution_count": 81,
   "metadata": {},
   "outputs": [],
   "source": [
    "evidence = [State(var='Education',state='Graduate')]"
   ]
  },
  {
   "cell_type": "code",
   "execution_count": 90,
   "metadata": {},
   "outputs": [
    {
     "name": "stderr",
     "output_type": "stream",
     "text": [
      "  0%|                                                                                          | 0/200 [00:00<?, ?it/s]C:\\Users\\karth\\anaconda3\\lib\\site-packages\\pgmpy\\factors\\discrete\\DiscreteFactor.py:521: UserWarning: Found unknown state name. Trying to switch to using all state names as state numbers\n",
      "  warn(\n",
      "100%|██████████████████████████████████████████████████████████████████████████████| 200/200 [00:00<00:00, 7689.83it/s]\n"
     ]
    },
    {
     "data": {
      "text/html": [
       "<div>\n",
       "<style scoped>\n",
       "    .dataframe tbody tr th:only-of-type {\n",
       "        vertical-align: middle;\n",
       "    }\n",
       "\n",
       "    .dataframe tbody tr th {\n",
       "        vertical-align: top;\n",
       "    }\n",
       "\n",
       "    .dataframe thead th {\n",
       "        text-align: right;\n",
       "    }\n",
       "</style>\n",
       "<table border=\"1\" class=\"dataframe\">\n",
       "  <thead>\n",
       "    <tr style=\"text-align: right;\">\n",
       "      <th></th>\n",
       "      <th>Married</th>\n",
       "      <th>Gender</th>\n",
       "      <th>Dependents</th>\n",
       "      <th>ApplicantIncome</th>\n",
       "      <th>LoanAmount</th>\n",
       "      <th>Loan_Status</th>\n",
       "      <th>CoapplicantIncome</th>\n",
       "      <th>Property_Area</th>\n",
       "      <th>Education</th>\n",
       "      <th>Credit_History</th>\n",
       "    </tr>\n",
       "  </thead>\n",
       "  <tbody>\n",
       "    <tr>\n",
       "      <th>0</th>\n",
       "      <td>No</td>\n",
       "      <td>Female</td>\n",
       "      <td>0</td>\n",
       "      <td>150 to 20,250</td>\n",
       "      <td>175.0 to 350.0</td>\n",
       "      <td>Y</td>\n",
       "      <td>0.0 to 10,416.75</td>\n",
       "      <td>Semiurban</td>\n",
       "      <td>Graduate</td>\n",
       "      <td>1.0</td>\n",
       "    </tr>\n",
       "    <tr>\n",
       "      <th>1</th>\n",
       "      <td>Yes</td>\n",
       "      <td>Male</td>\n",
       "      <td>0</td>\n",
       "      <td>150 to 20,250</td>\n",
       "      <td>9.0 to 175.0</td>\n",
       "      <td>N</td>\n",
       "      <td>0.0 to 10,416.75</td>\n",
       "      <td>Semiurban</td>\n",
       "      <td>Graduate</td>\n",
       "      <td>1.0</td>\n",
       "    </tr>\n",
       "    <tr>\n",
       "      <th>2</th>\n",
       "      <td>Yes</td>\n",
       "      <td>Male</td>\n",
       "      <td>2</td>\n",
       "      <td>150 to 20,250</td>\n",
       "      <td>9.0 to 175.0</td>\n",
       "      <td>Y</td>\n",
       "      <td>0.0 to 10,416.75</td>\n",
       "      <td>Rural</td>\n",
       "      <td>Graduate</td>\n",
       "      <td>1.0</td>\n",
       "    </tr>\n",
       "    <tr>\n",
       "      <th>3</th>\n",
       "      <td>Yes</td>\n",
       "      <td>Female</td>\n",
       "      <td>1</td>\n",
       "      <td>150 to 20,250</td>\n",
       "      <td>9.0 to 175.0</td>\n",
       "      <td>Y</td>\n",
       "      <td>0.0 to 10,416.75</td>\n",
       "      <td>Rural</td>\n",
       "      <td>Graduate</td>\n",
       "      <td>1.0</td>\n",
       "    </tr>\n",
       "    <tr>\n",
       "      <th>4</th>\n",
       "      <td>Yes</td>\n",
       "      <td>Female</td>\n",
       "      <td>2</td>\n",
       "      <td>150 to 20,250</td>\n",
       "      <td>9.0 to 175.0</td>\n",
       "      <td>Y</td>\n",
       "      <td>0.0 to 10,416.75</td>\n",
       "      <td>Rural</td>\n",
       "      <td>Graduate</td>\n",
       "      <td>1.0</td>\n",
       "    </tr>\n",
       "    <tr>\n",
       "      <th>...</th>\n",
       "      <td>...</td>\n",
       "      <td>...</td>\n",
       "      <td>...</td>\n",
       "      <td>...</td>\n",
       "      <td>...</td>\n",
       "      <td>...</td>\n",
       "      <td>...</td>\n",
       "      <td>...</td>\n",
       "      <td>...</td>\n",
       "      <td>...</td>\n",
       "    </tr>\n",
       "    <tr>\n",
       "      <th>195</th>\n",
       "      <td>No</td>\n",
       "      <td>Male</td>\n",
       "      <td>0</td>\n",
       "      <td>150 to 20,250</td>\n",
       "      <td>9.0 to 175.0</td>\n",
       "      <td>Y</td>\n",
       "      <td>0.0 to 10,416.75</td>\n",
       "      <td>Urban</td>\n",
       "      <td>Graduate</td>\n",
       "      <td>1.0</td>\n",
       "    </tr>\n",
       "    <tr>\n",
       "      <th>196</th>\n",
       "      <td>No</td>\n",
       "      <td>Male</td>\n",
       "      <td>0</td>\n",
       "      <td>150 to 20,250</td>\n",
       "      <td>175.0 to 350.0</td>\n",
       "      <td>Y</td>\n",
       "      <td>0.0 to 10,416.75</td>\n",
       "      <td>Urban</td>\n",
       "      <td>Graduate</td>\n",
       "      <td>1.0</td>\n",
       "    </tr>\n",
       "    <tr>\n",
       "      <th>197</th>\n",
       "      <td>Yes</td>\n",
       "      <td>Male</td>\n",
       "      <td>2</td>\n",
       "      <td>150 to 20,250</td>\n",
       "      <td>9.0 to 175.0</td>\n",
       "      <td>Y</td>\n",
       "      <td>0.0 to 10,416.75</td>\n",
       "      <td>Semiurban</td>\n",
       "      <td>Graduate</td>\n",
       "      <td>1.0</td>\n",
       "    </tr>\n",
       "    <tr>\n",
       "      <th>198</th>\n",
       "      <td>Yes</td>\n",
       "      <td>Male</td>\n",
       "      <td>0</td>\n",
       "      <td>150 to 20,250</td>\n",
       "      <td>9.0 to 175.0</td>\n",
       "      <td>Y</td>\n",
       "      <td>0.0 to 10,416.75</td>\n",
       "      <td>Semiurban</td>\n",
       "      <td>Graduate</td>\n",
       "      <td>1.0</td>\n",
       "    </tr>\n",
       "    <tr>\n",
       "      <th>199</th>\n",
       "      <td>Yes</td>\n",
       "      <td>Male</td>\n",
       "      <td>0</td>\n",
       "      <td>150 to 20,250</td>\n",
       "      <td>9.0 to 175.0</td>\n",
       "      <td>N</td>\n",
       "      <td>0.0 to 10,416.75</td>\n",
       "      <td>Rural</td>\n",
       "      <td>Graduate</td>\n",
       "      <td>1.0</td>\n",
       "    </tr>\n",
       "  </tbody>\n",
       "</table>\n",
       "<p>200 rows × 10 columns</p>\n",
       "</div>"
      ],
      "text/plain": [
       "    Married  Gender Dependents ApplicantIncome      LoanAmount Loan_Status  \\\n",
       "0        No  Female          0   150 to 20,250  175.0 to 350.0           Y   \n",
       "1       Yes    Male          0   150 to 20,250    9.0 to 175.0           N   \n",
       "2       Yes    Male          2   150 to 20,250    9.0 to 175.0           Y   \n",
       "3       Yes  Female          1   150 to 20,250    9.0 to 175.0           Y   \n",
       "4       Yes  Female          2   150 to 20,250    9.0 to 175.0           Y   \n",
       "..      ...     ...        ...             ...             ...         ...   \n",
       "195      No    Male          0   150 to 20,250    9.0 to 175.0           Y   \n",
       "196      No    Male          0   150 to 20,250  175.0 to 350.0           Y   \n",
       "197     Yes    Male          2   150 to 20,250    9.0 to 175.0           Y   \n",
       "198     Yes    Male          0   150 to 20,250    9.0 to 175.0           Y   \n",
       "199     Yes    Male          0   150 to 20,250    9.0 to 175.0           N   \n",
       "\n",
       "    CoapplicantIncome Property_Area Education  Credit_History  \n",
       "0    0.0 to 10,416.75     Semiurban  Graduate             1.0  \n",
       "1    0.0 to 10,416.75     Semiurban  Graduate             1.0  \n",
       "2    0.0 to 10,416.75         Rural  Graduate             1.0  \n",
       "3    0.0 to 10,416.75         Rural  Graduate             1.0  \n",
       "4    0.0 to 10,416.75         Rural  Graduate             1.0  \n",
       "..                ...           ...       ...             ...  \n",
       "195  0.0 to 10,416.75         Urban  Graduate             1.0  \n",
       "196  0.0 to 10,416.75         Urban  Graduate             1.0  \n",
       "197  0.0 to 10,416.75     Semiurban  Graduate             1.0  \n",
       "198  0.0 to 10,416.75     Semiurban  Graduate             1.0  \n",
       "199  0.0 to 10,416.75         Rural  Graduate             1.0  \n",
       "\n",
       "[200 rows x 10 columns]"
      ]
     },
     "execution_count": 90,
     "metadata": {},
     "output_type": "execute_result"
    }
   ],
   "source": [
    "sample_data = inference.rejection_sample(evidence=evidence, size=200)\n",
    "sample_data"
   ]
  },
  {
   "cell_type": "markdown",
   "metadata": {},
   "source": [
    "## Calculating the Probabilties from Samples"
   ]
  },
  {
   "cell_type": "markdown",
   "metadata": {},
   "source": [
    "## Formula: $ \\frac{ Number -of -times -Query -and  -Evidence -Variable -occurs } { Number  -of  -times  -Evidence -occurs }$"
   ]
  },
  {
   "cell_type": "markdown",
   "metadata": {},
   "source": [
    "### Query -> Loan_Status: Y\n",
    "\n",
    "###                      Evidence -> Education: Graduate"
   ]
  },
  {
   "cell_type": "code",
   "execution_count": 103,
   "metadata": {},
   "outputs": [
    {
     "data": {
      "text/html": [
       "<div>\n",
       "<style scoped>\n",
       "    .dataframe tbody tr th:only-of-type {\n",
       "        vertical-align: middle;\n",
       "    }\n",
       "\n",
       "    .dataframe tbody tr th {\n",
       "        vertical-align: top;\n",
       "    }\n",
       "\n",
       "    .dataframe thead th {\n",
       "        text-align: right;\n",
       "    }\n",
       "</style>\n",
       "<table border=\"1\" class=\"dataframe\">\n",
       "  <thead>\n",
       "    <tr style=\"text-align: right;\">\n",
       "      <th></th>\n",
       "      <th>Married</th>\n",
       "      <th>Gender</th>\n",
       "      <th>Dependents</th>\n",
       "      <th>ApplicantIncome</th>\n",
       "      <th>LoanAmount</th>\n",
       "      <th>Loan_Status</th>\n",
       "      <th>CoapplicantIncome</th>\n",
       "      <th>Property_Area</th>\n",
       "      <th>Education</th>\n",
       "      <th>Credit_History</th>\n",
       "    </tr>\n",
       "  </thead>\n",
       "  <tbody>\n",
       "    <tr>\n",
       "      <th>0</th>\n",
       "      <td>No</td>\n",
       "      <td>Female</td>\n",
       "      <td>0</td>\n",
       "      <td>150 to 20,250</td>\n",
       "      <td>175.0 to 350.0</td>\n",
       "      <td>Y</td>\n",
       "      <td>0.0 to 10,416.75</td>\n",
       "      <td>Semiurban</td>\n",
       "      <td>Graduate</td>\n",
       "      <td>1.0</td>\n",
       "    </tr>\n",
       "    <tr>\n",
       "      <th>1</th>\n",
       "      <td>Yes</td>\n",
       "      <td>Male</td>\n",
       "      <td>0</td>\n",
       "      <td>150 to 20,250</td>\n",
       "      <td>9.0 to 175.0</td>\n",
       "      <td>N</td>\n",
       "      <td>0.0 to 10,416.75</td>\n",
       "      <td>Semiurban</td>\n",
       "      <td>Graduate</td>\n",
       "      <td>1.0</td>\n",
       "    </tr>\n",
       "    <tr>\n",
       "      <th>2</th>\n",
       "      <td>Yes</td>\n",
       "      <td>Male</td>\n",
       "      <td>2</td>\n",
       "      <td>150 to 20,250</td>\n",
       "      <td>9.0 to 175.0</td>\n",
       "      <td>Y</td>\n",
       "      <td>0.0 to 10,416.75</td>\n",
       "      <td>Rural</td>\n",
       "      <td>Graduate</td>\n",
       "      <td>1.0</td>\n",
       "    </tr>\n",
       "    <tr>\n",
       "      <th>3</th>\n",
       "      <td>Yes</td>\n",
       "      <td>Female</td>\n",
       "      <td>1</td>\n",
       "      <td>150 to 20,250</td>\n",
       "      <td>9.0 to 175.0</td>\n",
       "      <td>Y</td>\n",
       "      <td>0.0 to 10,416.75</td>\n",
       "      <td>Rural</td>\n",
       "      <td>Graduate</td>\n",
       "      <td>1.0</td>\n",
       "    </tr>\n",
       "    <tr>\n",
       "      <th>4</th>\n",
       "      <td>Yes</td>\n",
       "      <td>Female</td>\n",
       "      <td>2</td>\n",
       "      <td>150 to 20,250</td>\n",
       "      <td>9.0 to 175.0</td>\n",
       "      <td>Y</td>\n",
       "      <td>0.0 to 10,416.75</td>\n",
       "      <td>Rural</td>\n",
       "      <td>Graduate</td>\n",
       "      <td>1.0</td>\n",
       "    </tr>\n",
       "    <tr>\n",
       "      <th>...</th>\n",
       "      <td>...</td>\n",
       "      <td>...</td>\n",
       "      <td>...</td>\n",
       "      <td>...</td>\n",
       "      <td>...</td>\n",
       "      <td>...</td>\n",
       "      <td>...</td>\n",
       "      <td>...</td>\n",
       "      <td>...</td>\n",
       "      <td>...</td>\n",
       "    </tr>\n",
       "    <tr>\n",
       "      <th>195</th>\n",
       "      <td>No</td>\n",
       "      <td>Male</td>\n",
       "      <td>0</td>\n",
       "      <td>150 to 20,250</td>\n",
       "      <td>9.0 to 175.0</td>\n",
       "      <td>Y</td>\n",
       "      <td>0.0 to 10,416.75</td>\n",
       "      <td>Urban</td>\n",
       "      <td>Graduate</td>\n",
       "      <td>1.0</td>\n",
       "    </tr>\n",
       "    <tr>\n",
       "      <th>196</th>\n",
       "      <td>No</td>\n",
       "      <td>Male</td>\n",
       "      <td>0</td>\n",
       "      <td>150 to 20,250</td>\n",
       "      <td>175.0 to 350.0</td>\n",
       "      <td>Y</td>\n",
       "      <td>0.0 to 10,416.75</td>\n",
       "      <td>Urban</td>\n",
       "      <td>Graduate</td>\n",
       "      <td>1.0</td>\n",
       "    </tr>\n",
       "    <tr>\n",
       "      <th>197</th>\n",
       "      <td>Yes</td>\n",
       "      <td>Male</td>\n",
       "      <td>2</td>\n",
       "      <td>150 to 20,250</td>\n",
       "      <td>9.0 to 175.0</td>\n",
       "      <td>Y</td>\n",
       "      <td>0.0 to 10,416.75</td>\n",
       "      <td>Semiurban</td>\n",
       "      <td>Graduate</td>\n",
       "      <td>1.0</td>\n",
       "    </tr>\n",
       "    <tr>\n",
       "      <th>198</th>\n",
       "      <td>Yes</td>\n",
       "      <td>Male</td>\n",
       "      <td>0</td>\n",
       "      <td>150 to 20,250</td>\n",
       "      <td>9.0 to 175.0</td>\n",
       "      <td>Y</td>\n",
       "      <td>0.0 to 10,416.75</td>\n",
       "      <td>Semiurban</td>\n",
       "      <td>Graduate</td>\n",
       "      <td>1.0</td>\n",
       "    </tr>\n",
       "    <tr>\n",
       "      <th>199</th>\n",
       "      <td>Yes</td>\n",
       "      <td>Male</td>\n",
       "      <td>0</td>\n",
       "      <td>150 to 20,250</td>\n",
       "      <td>9.0 to 175.0</td>\n",
       "      <td>N</td>\n",
       "      <td>0.0 to 10,416.75</td>\n",
       "      <td>Rural</td>\n",
       "      <td>Graduate</td>\n",
       "      <td>1.0</td>\n",
       "    </tr>\n",
       "  </tbody>\n",
       "</table>\n",
       "<p>200 rows × 10 columns</p>\n",
       "</div>"
      ],
      "text/plain": [
       "    Married  Gender Dependents ApplicantIncome      LoanAmount Loan_Status  \\\n",
       "0        No  Female          0   150 to 20,250  175.0 to 350.0           Y   \n",
       "1       Yes    Male          0   150 to 20,250    9.0 to 175.0           N   \n",
       "2       Yes    Male          2   150 to 20,250    9.0 to 175.0           Y   \n",
       "3       Yes  Female          1   150 to 20,250    9.0 to 175.0           Y   \n",
       "4       Yes  Female          2   150 to 20,250    9.0 to 175.0           Y   \n",
       "..      ...     ...        ...             ...             ...         ...   \n",
       "195      No    Male          0   150 to 20,250    9.0 to 175.0           Y   \n",
       "196      No    Male          0   150 to 20,250  175.0 to 350.0           Y   \n",
       "197     Yes    Male          2   150 to 20,250    9.0 to 175.0           Y   \n",
       "198     Yes    Male          0   150 to 20,250    9.0 to 175.0           Y   \n",
       "199     Yes    Male          0   150 to 20,250    9.0 to 175.0           N   \n",
       "\n",
       "    CoapplicantIncome Property_Area Education  Credit_History  \n",
       "0    0.0 to 10,416.75     Semiurban  Graduate             1.0  \n",
       "1    0.0 to 10,416.75     Semiurban  Graduate             1.0  \n",
       "2    0.0 to 10,416.75         Rural  Graduate             1.0  \n",
       "3    0.0 to 10,416.75         Rural  Graduate             1.0  \n",
       "4    0.0 to 10,416.75         Rural  Graduate             1.0  \n",
       "..                ...           ...       ...             ...  \n",
       "195  0.0 to 10,416.75         Urban  Graduate             1.0  \n",
       "196  0.0 to 10,416.75         Urban  Graduate             1.0  \n",
       "197  0.0 to 10,416.75     Semiurban  Graduate             1.0  \n",
       "198  0.0 to 10,416.75     Semiurban  Graduate             1.0  \n",
       "199  0.0 to 10,416.75         Rural  Graduate             1.0  \n",
       "\n",
       "[200 rows x 10 columns]"
      ]
     },
     "execution_count": 103,
     "metadata": {},
     "output_type": "execute_result"
    }
   ],
   "source": [
    "sample_data[(sample_data.Loan_Status == \"Y\") & (sample_data.Education == \"Graduate\")]"
   ]
  },
  {
   "cell_type": "code",
   "execution_count": 117,
   "metadata": {},
   "outputs": [
    {
     "data": {
      "text/html": [
       "<div>\n",
       "<style scoped>\n",
       "    .dataframe tbody tr th:only-of-type {\n",
       "        vertical-align: middle;\n",
       "    }\n",
       "\n",
       "    .dataframe tbody tr th {\n",
       "        vertical-align: top;\n",
       "    }\n",
       "\n",
       "    .dataframe thead th {\n",
       "        text-align: right;\n",
       "    }\n",
       "</style>\n",
       "<table border=\"1\" class=\"dataframe\">\n",
       "  <thead>\n",
       "    <tr style=\"text-align: right;\">\n",
       "      <th></th>\n",
       "      <th>Married</th>\n",
       "      <th>Gender</th>\n",
       "      <th>Dependents</th>\n",
       "      <th>ApplicantIncome</th>\n",
       "      <th>LoanAmount</th>\n",
       "      <th>Loan_Status</th>\n",
       "      <th>CoapplicantIncome</th>\n",
       "      <th>Property_Area</th>\n",
       "      <th>Education</th>\n",
       "      <th>Credit_History</th>\n",
       "    </tr>\n",
       "  </thead>\n",
       "  <tbody>\n",
       "    <tr>\n",
       "      <th>0</th>\n",
       "      <td>No</td>\n",
       "      <td>Female</td>\n",
       "      <td>0</td>\n",
       "      <td>150 to 20,250</td>\n",
       "      <td>175.0 to 350.0</td>\n",
       "      <td>Y</td>\n",
       "      <td>0.0 to 10,416.75</td>\n",
       "      <td>Semiurban</td>\n",
       "      <td>Graduate</td>\n",
       "      <td>1.0</td>\n",
       "    </tr>\n",
       "    <tr>\n",
       "      <th>1</th>\n",
       "      <td>Yes</td>\n",
       "      <td>Male</td>\n",
       "      <td>0</td>\n",
       "      <td>150 to 20,250</td>\n",
       "      <td>9.0 to 175.0</td>\n",
       "      <td>N</td>\n",
       "      <td>0.0 to 10,416.75</td>\n",
       "      <td>Semiurban</td>\n",
       "      <td>Graduate</td>\n",
       "      <td>1.0</td>\n",
       "    </tr>\n",
       "    <tr>\n",
       "      <th>2</th>\n",
       "      <td>Yes</td>\n",
       "      <td>Male</td>\n",
       "      <td>2</td>\n",
       "      <td>150 to 20,250</td>\n",
       "      <td>9.0 to 175.0</td>\n",
       "      <td>Y</td>\n",
       "      <td>0.0 to 10,416.75</td>\n",
       "      <td>Rural</td>\n",
       "      <td>Graduate</td>\n",
       "      <td>1.0</td>\n",
       "    </tr>\n",
       "    <tr>\n",
       "      <th>3</th>\n",
       "      <td>Yes</td>\n",
       "      <td>Female</td>\n",
       "      <td>1</td>\n",
       "      <td>150 to 20,250</td>\n",
       "      <td>9.0 to 175.0</td>\n",
       "      <td>Y</td>\n",
       "      <td>0.0 to 10,416.75</td>\n",
       "      <td>Rural</td>\n",
       "      <td>Graduate</td>\n",
       "      <td>1.0</td>\n",
       "    </tr>\n",
       "    <tr>\n",
       "      <th>4</th>\n",
       "      <td>Yes</td>\n",
       "      <td>Female</td>\n",
       "      <td>2</td>\n",
       "      <td>150 to 20,250</td>\n",
       "      <td>9.0 to 175.0</td>\n",
       "      <td>Y</td>\n",
       "      <td>0.0 to 10,416.75</td>\n",
       "      <td>Rural</td>\n",
       "      <td>Graduate</td>\n",
       "      <td>1.0</td>\n",
       "    </tr>\n",
       "    <tr>\n",
       "      <th>...</th>\n",
       "      <td>...</td>\n",
       "      <td>...</td>\n",
       "      <td>...</td>\n",
       "      <td>...</td>\n",
       "      <td>...</td>\n",
       "      <td>...</td>\n",
       "      <td>...</td>\n",
       "      <td>...</td>\n",
       "      <td>...</td>\n",
       "      <td>...</td>\n",
       "    </tr>\n",
       "    <tr>\n",
       "      <th>195</th>\n",
       "      <td>No</td>\n",
       "      <td>Male</td>\n",
       "      <td>0</td>\n",
       "      <td>150 to 20,250</td>\n",
       "      <td>9.0 to 175.0</td>\n",
       "      <td>Y</td>\n",
       "      <td>0.0 to 10,416.75</td>\n",
       "      <td>Urban</td>\n",
       "      <td>Graduate</td>\n",
       "      <td>1.0</td>\n",
       "    </tr>\n",
       "    <tr>\n",
       "      <th>196</th>\n",
       "      <td>No</td>\n",
       "      <td>Male</td>\n",
       "      <td>0</td>\n",
       "      <td>150 to 20,250</td>\n",
       "      <td>175.0 to 350.0</td>\n",
       "      <td>Y</td>\n",
       "      <td>0.0 to 10,416.75</td>\n",
       "      <td>Urban</td>\n",
       "      <td>Graduate</td>\n",
       "      <td>1.0</td>\n",
       "    </tr>\n",
       "    <tr>\n",
       "      <th>197</th>\n",
       "      <td>Yes</td>\n",
       "      <td>Male</td>\n",
       "      <td>2</td>\n",
       "      <td>150 to 20,250</td>\n",
       "      <td>9.0 to 175.0</td>\n",
       "      <td>Y</td>\n",
       "      <td>0.0 to 10,416.75</td>\n",
       "      <td>Semiurban</td>\n",
       "      <td>Graduate</td>\n",
       "      <td>1.0</td>\n",
       "    </tr>\n",
       "    <tr>\n",
       "      <th>198</th>\n",
       "      <td>Yes</td>\n",
       "      <td>Male</td>\n",
       "      <td>0</td>\n",
       "      <td>150 to 20,250</td>\n",
       "      <td>9.0 to 175.0</td>\n",
       "      <td>Y</td>\n",
       "      <td>0.0 to 10,416.75</td>\n",
       "      <td>Semiurban</td>\n",
       "      <td>Graduate</td>\n",
       "      <td>1.0</td>\n",
       "    </tr>\n",
       "    <tr>\n",
       "      <th>199</th>\n",
       "      <td>Yes</td>\n",
       "      <td>Male</td>\n",
       "      <td>0</td>\n",
       "      <td>150 to 20,250</td>\n",
       "      <td>9.0 to 175.0</td>\n",
       "      <td>N</td>\n",
       "      <td>0.0 to 10,416.75</td>\n",
       "      <td>Rural</td>\n",
       "      <td>Graduate</td>\n",
       "      <td>1.0</td>\n",
       "    </tr>\n",
       "  </tbody>\n",
       "</table>\n",
       "<p>200 rows × 10 columns</p>\n",
       "</div>"
      ],
      "text/plain": [
       "    Married  Gender Dependents ApplicantIncome      LoanAmount Loan_Status  \\\n",
       "0        No  Female          0   150 to 20,250  175.0 to 350.0           Y   \n",
       "1       Yes    Male          0   150 to 20,250    9.0 to 175.0           N   \n",
       "2       Yes    Male          2   150 to 20,250    9.0 to 175.0           Y   \n",
       "3       Yes  Female          1   150 to 20,250    9.0 to 175.0           Y   \n",
       "4       Yes  Female          2   150 to 20,250    9.0 to 175.0           Y   \n",
       "..      ...     ...        ...             ...             ...         ...   \n",
       "195      No    Male          0   150 to 20,250    9.0 to 175.0           Y   \n",
       "196      No    Male          0   150 to 20,250  175.0 to 350.0           Y   \n",
       "197     Yes    Male          2   150 to 20,250    9.0 to 175.0           Y   \n",
       "198     Yes    Male          0   150 to 20,250    9.0 to 175.0           Y   \n",
       "199     Yes    Male          0   150 to 20,250    9.0 to 175.0           N   \n",
       "\n",
       "    CoapplicantIncome Property_Area Education  Credit_History  \n",
       "0    0.0 to 10,416.75     Semiurban  Graduate             1.0  \n",
       "1    0.0 to 10,416.75     Semiurban  Graduate             1.0  \n",
       "2    0.0 to 10,416.75         Rural  Graduate             1.0  \n",
       "3    0.0 to 10,416.75         Rural  Graduate             1.0  \n",
       "4    0.0 to 10,416.75         Rural  Graduate             1.0  \n",
       "..                ...           ...       ...             ...  \n",
       "195  0.0 to 10,416.75         Urban  Graduate             1.0  \n",
       "196  0.0 to 10,416.75         Urban  Graduate             1.0  \n",
       "197  0.0 to 10,416.75     Semiurban  Graduate             1.0  \n",
       "198  0.0 to 10,416.75     Semiurban  Graduate             1.0  \n",
       "199  0.0 to 10,416.75         Rural  Graduate             1.0  \n",
       "\n",
       "[200 rows x 10 columns]"
      ]
     },
     "execution_count": 117,
     "metadata": {},
     "output_type": "execute_result"
    }
   ],
   "source": [
    "sample_data[sample_data.Education == \"Graduate\"]"
   ]
  },
  {
   "cell_type": "code",
   "execution_count": 115,
   "metadata": {},
   "outputs": [],
   "source": [
    "Numerator = len(sample_data[(sample_data.Loan_Status == \"Y\") & (sample_data.Education == \"Graduate\")])"
   ]
  },
  {
   "cell_type": "code",
   "execution_count": 118,
   "metadata": {},
   "outputs": [],
   "source": [
    "Denominator = len(sample_data[sample_data.Education == \"Graduate\"])"
   ]
  },
  {
   "cell_type": "code",
   "execution_count": 120,
   "metadata": {},
   "outputs": [
    {
     "data": {
      "text/plain": [
       "0.675"
      ]
     },
     "execution_count": 120,
     "metadata": {},
     "output_type": "execute_result"
    }
   ],
   "source": [
    "Numerator/Denominator"
   ]
  },
  {
   "cell_type": "markdown",
   "metadata": {},
   "source": [
    "There is 67.5% of chance getting Loan Approved given Evidence Education = \"Graduate\".  "
   ]
  },
  {
   "cell_type": "markdown",
   "metadata": {},
   "source": [
    "## Q2)  Query -> Loan_Status: Y\n",
    "\n",
    "\n",
    "### Evidence -> Education: Graduate, ApplicantIncome = 40,500 to 81000"
   ]
  },
  {
   "cell_type": "code",
   "execution_count": 124,
   "metadata": {},
   "outputs": [],
   "source": [
    "evidence = [State(var='Education',state='Graduate'),State(var='ApplicantIncome',state='40,500 to 81000')]"
   ]
  },
  {
   "cell_type": "code",
   "execution_count": 126,
   "metadata": {},
   "outputs": [
    {
     "name": "stderr",
     "output_type": "stream",
     "text": [
      "  0%|                                                                                          | 0/200 [00:00<?, ?it/s]C:\\Users\\karth\\anaconda3\\lib\\site-packages\\pgmpy\\factors\\discrete\\DiscreteFactor.py:521: UserWarning: Found unknown state name. Trying to switch to using all state names as state numbers\n",
      "  warn(\n",
      "100%|██████████████████████████████████████████████████████████████████████████████| 200/200 [00:00<00:00, 1265.68it/s]\n"
     ]
    },
    {
     "data": {
      "text/html": [
       "<div>\n",
       "<style scoped>\n",
       "    .dataframe tbody tr th:only-of-type {\n",
       "        vertical-align: middle;\n",
       "    }\n",
       "\n",
       "    .dataframe tbody tr th {\n",
       "        vertical-align: top;\n",
       "    }\n",
       "\n",
       "    .dataframe thead th {\n",
       "        text-align: right;\n",
       "    }\n",
       "</style>\n",
       "<table border=\"1\" class=\"dataframe\">\n",
       "  <thead>\n",
       "    <tr style=\"text-align: right;\">\n",
       "      <th></th>\n",
       "      <th>Married</th>\n",
       "      <th>Gender</th>\n",
       "      <th>Dependents</th>\n",
       "      <th>ApplicantIncome</th>\n",
       "      <th>LoanAmount</th>\n",
       "      <th>Loan_Status</th>\n",
       "      <th>CoapplicantIncome</th>\n",
       "      <th>Property_Area</th>\n",
       "      <th>Education</th>\n",
       "      <th>Credit_History</th>\n",
       "    </tr>\n",
       "  </thead>\n",
       "  <tbody>\n",
       "    <tr>\n",
       "      <th>0</th>\n",
       "      <td>Yes</td>\n",
       "      <td>Male</td>\n",
       "      <td>3+</td>\n",
       "      <td>40,500 to 81000</td>\n",
       "      <td>175.0 to 350.0</td>\n",
       "      <td>Y</td>\n",
       "      <td>0.0 to 10,416.75</td>\n",
       "      <td>Semiurban</td>\n",
       "      <td>Graduate</td>\n",
       "      <td>1.0</td>\n",
       "    </tr>\n",
       "    <tr>\n",
       "      <th>1</th>\n",
       "      <td>Yes</td>\n",
       "      <td>Male</td>\n",
       "      <td>1</td>\n",
       "      <td>40,500 to 81000</td>\n",
       "      <td>9.0 to 175.0</td>\n",
       "      <td>Y</td>\n",
       "      <td>0.0 to 10,416.75</td>\n",
       "      <td>Semiurban</td>\n",
       "      <td>Graduate</td>\n",
       "      <td>1.0</td>\n",
       "    </tr>\n",
       "    <tr>\n",
       "      <th>2</th>\n",
       "      <td>Yes</td>\n",
       "      <td>Male</td>\n",
       "      <td>3+</td>\n",
       "      <td>40,500 to 81000</td>\n",
       "      <td>350.0 to 700.0</td>\n",
       "      <td>N</td>\n",
       "      <td>0.0 to 10,416.75</td>\n",
       "      <td>Urban</td>\n",
       "      <td>Graduate</td>\n",
       "      <td>1.0</td>\n",
       "    </tr>\n",
       "    <tr>\n",
       "      <th>3</th>\n",
       "      <td>Yes</td>\n",
       "      <td>Male</td>\n",
       "      <td>0</td>\n",
       "      <td>40,500 to 81000</td>\n",
       "      <td>350.0 to 700.0</td>\n",
       "      <td>Y</td>\n",
       "      <td>0.0 to 10,416.75</td>\n",
       "      <td>Urban</td>\n",
       "      <td>Graduate</td>\n",
       "      <td>1.0</td>\n",
       "    </tr>\n",
       "    <tr>\n",
       "      <th>4</th>\n",
       "      <td>Yes</td>\n",
       "      <td>Male</td>\n",
       "      <td>3+</td>\n",
       "      <td>40,500 to 81000</td>\n",
       "      <td>175.0 to 350.0</td>\n",
       "      <td>Y</td>\n",
       "      <td>0.0 to 10,416.75</td>\n",
       "      <td>Urban</td>\n",
       "      <td>Graduate</td>\n",
       "      <td>1.0</td>\n",
       "    </tr>\n",
       "    <tr>\n",
       "      <th>...</th>\n",
       "      <td>...</td>\n",
       "      <td>...</td>\n",
       "      <td>...</td>\n",
       "      <td>...</td>\n",
       "      <td>...</td>\n",
       "      <td>...</td>\n",
       "      <td>...</td>\n",
       "      <td>...</td>\n",
       "      <td>...</td>\n",
       "      <td>...</td>\n",
       "    </tr>\n",
       "    <tr>\n",
       "      <th>195</th>\n",
       "      <td>Yes</td>\n",
       "      <td>Male</td>\n",
       "      <td>0</td>\n",
       "      <td>40,500 to 81000</td>\n",
       "      <td>350.0 to 700.0</td>\n",
       "      <td>N</td>\n",
       "      <td>0.0 to 10,416.75</td>\n",
       "      <td>Semiurban</td>\n",
       "      <td>Graduate</td>\n",
       "      <td>0.0</td>\n",
       "    </tr>\n",
       "    <tr>\n",
       "      <th>196</th>\n",
       "      <td>Yes</td>\n",
       "      <td>Male</td>\n",
       "      <td>0</td>\n",
       "      <td>40,500 to 81000</td>\n",
       "      <td>9.0 to 175.0</td>\n",
       "      <td>N</td>\n",
       "      <td>0.0 to 10,416.75</td>\n",
       "      <td>Rural</td>\n",
       "      <td>Graduate</td>\n",
       "      <td>1.0</td>\n",
       "    </tr>\n",
       "    <tr>\n",
       "      <th>197</th>\n",
       "      <td>Yes</td>\n",
       "      <td>Male</td>\n",
       "      <td>0</td>\n",
       "      <td>40,500 to 81000</td>\n",
       "      <td>175.0 to 350.0</td>\n",
       "      <td>N</td>\n",
       "      <td>0.0 to 10,416.75</td>\n",
       "      <td>Rural</td>\n",
       "      <td>Graduate</td>\n",
       "      <td>0.0</td>\n",
       "    </tr>\n",
       "    <tr>\n",
       "      <th>198</th>\n",
       "      <td>No</td>\n",
       "      <td>Female</td>\n",
       "      <td>0</td>\n",
       "      <td>40,500 to 81000</td>\n",
       "      <td>350.0 to 700.0</td>\n",
       "      <td>Y</td>\n",
       "      <td>0.0 to 10,416.75</td>\n",
       "      <td>Semiurban</td>\n",
       "      <td>Graduate</td>\n",
       "      <td>1.0</td>\n",
       "    </tr>\n",
       "    <tr>\n",
       "      <th>199</th>\n",
       "      <td>Yes</td>\n",
       "      <td>Male</td>\n",
       "      <td>2</td>\n",
       "      <td>40,500 to 81000</td>\n",
       "      <td>175.0 to 350.0</td>\n",
       "      <td>Y</td>\n",
       "      <td>0.0 to 10,416.75</td>\n",
       "      <td>Urban</td>\n",
       "      <td>Graduate</td>\n",
       "      <td>1.0</td>\n",
       "    </tr>\n",
       "  </tbody>\n",
       "</table>\n",
       "<p>200 rows × 10 columns</p>\n",
       "</div>"
      ],
      "text/plain": [
       "    Married  Gender Dependents  ApplicantIncome      LoanAmount Loan_Status  \\\n",
       "0       Yes    Male         3+  40,500 to 81000  175.0 to 350.0           Y   \n",
       "1       Yes    Male          1  40,500 to 81000    9.0 to 175.0           Y   \n",
       "2       Yes    Male         3+  40,500 to 81000  350.0 to 700.0           N   \n",
       "3       Yes    Male          0  40,500 to 81000  350.0 to 700.0           Y   \n",
       "4       Yes    Male         3+  40,500 to 81000  175.0 to 350.0           Y   \n",
       "..      ...     ...        ...              ...             ...         ...   \n",
       "195     Yes    Male          0  40,500 to 81000  350.0 to 700.0           N   \n",
       "196     Yes    Male          0  40,500 to 81000    9.0 to 175.0           N   \n",
       "197     Yes    Male          0  40,500 to 81000  175.0 to 350.0           N   \n",
       "198      No  Female          0  40,500 to 81000  350.0 to 700.0           Y   \n",
       "199     Yes    Male          2  40,500 to 81000  175.0 to 350.0           Y   \n",
       "\n",
       "    CoapplicantIncome Property_Area Education  Credit_History  \n",
       "0    0.0 to 10,416.75     Semiurban  Graduate             1.0  \n",
       "1    0.0 to 10,416.75     Semiurban  Graduate             1.0  \n",
       "2    0.0 to 10,416.75         Urban  Graduate             1.0  \n",
       "3    0.0 to 10,416.75         Urban  Graduate             1.0  \n",
       "4    0.0 to 10,416.75         Urban  Graduate             1.0  \n",
       "..                ...           ...       ...             ...  \n",
       "195  0.0 to 10,416.75     Semiurban  Graduate             0.0  \n",
       "196  0.0 to 10,416.75         Rural  Graduate             1.0  \n",
       "197  0.0 to 10,416.75         Rural  Graduate             0.0  \n",
       "198  0.0 to 10,416.75     Semiurban  Graduate             1.0  \n",
       "199  0.0 to 10,416.75         Urban  Graduate             1.0  \n",
       "\n",
       "[200 rows x 10 columns]"
      ]
     },
     "execution_count": 126,
     "metadata": {},
     "output_type": "execute_result"
    }
   ],
   "source": [
    "sample_data_1= inference.rejection_sample(evidence=evidence, size=200)\n",
    "sample_data_1"
   ]
  },
  {
   "cell_type": "code",
   "execution_count": 129,
   "metadata": {},
   "outputs": [
    {
     "data": {
      "text/html": [
       "<div>\n",
       "<style scoped>\n",
       "    .dataframe tbody tr th:only-of-type {\n",
       "        vertical-align: middle;\n",
       "    }\n",
       "\n",
       "    .dataframe tbody tr th {\n",
       "        vertical-align: top;\n",
       "    }\n",
       "\n",
       "    .dataframe thead th {\n",
       "        text-align: right;\n",
       "    }\n",
       "</style>\n",
       "<table border=\"1\" class=\"dataframe\">\n",
       "  <thead>\n",
       "    <tr style=\"text-align: right;\">\n",
       "      <th></th>\n",
       "      <th>Married</th>\n",
       "      <th>Gender</th>\n",
       "      <th>Dependents</th>\n",
       "      <th>ApplicantIncome</th>\n",
       "      <th>LoanAmount</th>\n",
       "      <th>Loan_Status</th>\n",
       "      <th>CoapplicantIncome</th>\n",
       "      <th>Property_Area</th>\n",
       "      <th>Education</th>\n",
       "      <th>Credit_History</th>\n",
       "    </tr>\n",
       "  </thead>\n",
       "  <tbody>\n",
       "    <tr>\n",
       "      <th>0</th>\n",
       "      <td>Yes</td>\n",
       "      <td>Male</td>\n",
       "      <td>3+</td>\n",
       "      <td>40,500 to 81000</td>\n",
       "      <td>175.0 to 350.0</td>\n",
       "      <td>Y</td>\n",
       "      <td>0.0 to 10,416.75</td>\n",
       "      <td>Semiurban</td>\n",
       "      <td>Graduate</td>\n",
       "      <td>1.0</td>\n",
       "    </tr>\n",
       "    <tr>\n",
       "      <th>1</th>\n",
       "      <td>Yes</td>\n",
       "      <td>Male</td>\n",
       "      <td>1</td>\n",
       "      <td>40,500 to 81000</td>\n",
       "      <td>9.0 to 175.0</td>\n",
       "      <td>Y</td>\n",
       "      <td>0.0 to 10,416.75</td>\n",
       "      <td>Semiurban</td>\n",
       "      <td>Graduate</td>\n",
       "      <td>1.0</td>\n",
       "    </tr>\n",
       "    <tr>\n",
       "      <th>3</th>\n",
       "      <td>Yes</td>\n",
       "      <td>Male</td>\n",
       "      <td>0</td>\n",
       "      <td>40,500 to 81000</td>\n",
       "      <td>350.0 to 700.0</td>\n",
       "      <td>Y</td>\n",
       "      <td>0.0 to 10,416.75</td>\n",
       "      <td>Urban</td>\n",
       "      <td>Graduate</td>\n",
       "      <td>1.0</td>\n",
       "    </tr>\n",
       "    <tr>\n",
       "      <th>4</th>\n",
       "      <td>Yes</td>\n",
       "      <td>Male</td>\n",
       "      <td>3+</td>\n",
       "      <td>40,500 to 81000</td>\n",
       "      <td>175.0 to 350.0</td>\n",
       "      <td>Y</td>\n",
       "      <td>0.0 to 10,416.75</td>\n",
       "      <td>Urban</td>\n",
       "      <td>Graduate</td>\n",
       "      <td>1.0</td>\n",
       "    </tr>\n",
       "    <tr>\n",
       "      <th>7</th>\n",
       "      <td>Yes</td>\n",
       "      <td>Male</td>\n",
       "      <td>3+</td>\n",
       "      <td>40,500 to 81000</td>\n",
       "      <td>9.0 to 175.0</td>\n",
       "      <td>Y</td>\n",
       "      <td>0.0 to 10,416.75</td>\n",
       "      <td>Rural</td>\n",
       "      <td>Graduate</td>\n",
       "      <td>1.0</td>\n",
       "    </tr>\n",
       "    <tr>\n",
       "      <th>...</th>\n",
       "      <td>...</td>\n",
       "      <td>...</td>\n",
       "      <td>...</td>\n",
       "      <td>...</td>\n",
       "      <td>...</td>\n",
       "      <td>...</td>\n",
       "      <td>...</td>\n",
       "      <td>...</td>\n",
       "      <td>...</td>\n",
       "      <td>...</td>\n",
       "    </tr>\n",
       "    <tr>\n",
       "      <th>190</th>\n",
       "      <td>Yes</td>\n",
       "      <td>Male</td>\n",
       "      <td>1</td>\n",
       "      <td>40,500 to 81000</td>\n",
       "      <td>350.0 to 700.0</td>\n",
       "      <td>Y</td>\n",
       "      <td>0.0 to 10,416.75</td>\n",
       "      <td>Urban</td>\n",
       "      <td>Graduate</td>\n",
       "      <td>1.0</td>\n",
       "    </tr>\n",
       "    <tr>\n",
       "      <th>191</th>\n",
       "      <td>Yes</td>\n",
       "      <td>Male</td>\n",
       "      <td>3+</td>\n",
       "      <td>40,500 to 81000</td>\n",
       "      <td>9.0 to 175.0</td>\n",
       "      <td>Y</td>\n",
       "      <td>0.0 to 10,416.75</td>\n",
       "      <td>Urban</td>\n",
       "      <td>Graduate</td>\n",
       "      <td>1.0</td>\n",
       "    </tr>\n",
       "    <tr>\n",
       "      <th>192</th>\n",
       "      <td>No</td>\n",
       "      <td>Male</td>\n",
       "      <td>0</td>\n",
       "      <td>40,500 to 81000</td>\n",
       "      <td>350.0 to 700.0</td>\n",
       "      <td>Y</td>\n",
       "      <td>0.0 to 10,416.75</td>\n",
       "      <td>Urban</td>\n",
       "      <td>Graduate</td>\n",
       "      <td>1.0</td>\n",
       "    </tr>\n",
       "    <tr>\n",
       "      <th>198</th>\n",
       "      <td>No</td>\n",
       "      <td>Female</td>\n",
       "      <td>0</td>\n",
       "      <td>40,500 to 81000</td>\n",
       "      <td>350.0 to 700.0</td>\n",
       "      <td>Y</td>\n",
       "      <td>0.0 to 10,416.75</td>\n",
       "      <td>Semiurban</td>\n",
       "      <td>Graduate</td>\n",
       "      <td>1.0</td>\n",
       "    </tr>\n",
       "    <tr>\n",
       "      <th>199</th>\n",
       "      <td>Yes</td>\n",
       "      <td>Male</td>\n",
       "      <td>2</td>\n",
       "      <td>40,500 to 81000</td>\n",
       "      <td>175.0 to 350.0</td>\n",
       "      <td>Y</td>\n",
       "      <td>0.0 to 10,416.75</td>\n",
       "      <td>Urban</td>\n",
       "      <td>Graduate</td>\n",
       "      <td>1.0</td>\n",
       "    </tr>\n",
       "  </tbody>\n",
       "</table>\n",
       "<p>154 rows × 10 columns</p>\n",
       "</div>"
      ],
      "text/plain": [
       "    Married  Gender Dependents  ApplicantIncome      LoanAmount Loan_Status  \\\n",
       "0       Yes    Male         3+  40,500 to 81000  175.0 to 350.0           Y   \n",
       "1       Yes    Male          1  40,500 to 81000    9.0 to 175.0           Y   \n",
       "3       Yes    Male          0  40,500 to 81000  350.0 to 700.0           Y   \n",
       "4       Yes    Male         3+  40,500 to 81000  175.0 to 350.0           Y   \n",
       "7       Yes    Male         3+  40,500 to 81000    9.0 to 175.0           Y   \n",
       "..      ...     ...        ...              ...             ...         ...   \n",
       "190     Yes    Male          1  40,500 to 81000  350.0 to 700.0           Y   \n",
       "191     Yes    Male         3+  40,500 to 81000    9.0 to 175.0           Y   \n",
       "192      No    Male          0  40,500 to 81000  350.0 to 700.0           Y   \n",
       "198      No  Female          0  40,500 to 81000  350.0 to 700.0           Y   \n",
       "199     Yes    Male          2  40,500 to 81000  175.0 to 350.0           Y   \n",
       "\n",
       "    CoapplicantIncome Property_Area Education  Credit_History  \n",
       "0    0.0 to 10,416.75     Semiurban  Graduate             1.0  \n",
       "1    0.0 to 10,416.75     Semiurban  Graduate             1.0  \n",
       "3    0.0 to 10,416.75         Urban  Graduate             1.0  \n",
       "4    0.0 to 10,416.75         Urban  Graduate             1.0  \n",
       "7    0.0 to 10,416.75         Rural  Graduate             1.0  \n",
       "..                ...           ...       ...             ...  \n",
       "190  0.0 to 10,416.75         Urban  Graduate             1.0  \n",
       "191  0.0 to 10,416.75         Urban  Graduate             1.0  \n",
       "192  0.0 to 10,416.75         Urban  Graduate             1.0  \n",
       "198  0.0 to 10,416.75     Semiurban  Graduate             1.0  \n",
       "199  0.0 to 10,416.75         Urban  Graduate             1.0  \n",
       "\n",
       "[154 rows x 10 columns]"
      ]
     },
     "execution_count": 129,
     "metadata": {},
     "output_type": "execute_result"
    }
   ],
   "source": [
    "sample_data_1[(sample_data_1.Loan_Status == \"Y\") & (sample_data_1.Education == \"Graduate\") & (sample_data_1.ApplicantIncome == \"40,500 to 81000\")]"
   ]
  },
  {
   "cell_type": "code",
   "execution_count": 131,
   "metadata": {},
   "outputs": [],
   "source": [
    "Numerator = len(sample_data_1[(sample_data_1.Loan_Status == \"Y\") & (sample_data_1.Education == \"Graduate\") & (sample_data_1.ApplicantIncome == \"40,500 to 81000\")])"
   ]
  },
  {
   "cell_type": "code",
   "execution_count": 133,
   "metadata": {},
   "outputs": [],
   "source": [
    "Denominator = len(sample_data_1[(sample_data_1.Education == \"Graduate\") & (sample_data_1.ApplicantIncome == \"40,500 to 81000\")])"
   ]
  },
  {
   "cell_type": "code",
   "execution_count": 134,
   "metadata": {},
   "outputs": [
    {
     "data": {
      "text/plain": [
       "0.77"
      ]
     },
     "execution_count": 134,
     "metadata": {},
     "output_type": "execute_result"
    }
   ],
   "source": [
    "Numerator/Denominator"
   ]
  },
  {
   "cell_type": "markdown",
   "metadata": {},
   "source": [
    "There is 77% of chance getting Loan Approved given Evidence Education = \"Graduate\", ApplicantIncome = \"40,500 to 81000\".  "
   ]
  },
  {
   "cell_type": "markdown",
   "metadata": {},
   "source": [
    "## Q3)  Query --> Loan_Status: Y\n",
    "\n",
    "\n",
    "### Evidence --> Education: Graduate, ApplicantIncome = 40,500 to 81000, Credit_History = 1.0 "
   ]
  },
  {
   "cell_type": "code",
   "execution_count": 135,
   "metadata": {},
   "outputs": [],
   "source": [
    "evidence = [State(var='Education',state='Graduate'),State(var='ApplicantIncome',state='40,500 to 81000'),State(var='Credit_History',state=1.0)]"
   ]
  },
  {
   "cell_type": "code",
   "execution_count": 136,
   "metadata": {},
   "outputs": [
    {
     "name": "stderr",
     "output_type": "stream",
     "text": [
      "  0%|                                                                                          | 0/200 [00:00<?, ?it/s]C:\\Users\\karth\\anaconda3\\lib\\site-packages\\pgmpy\\factors\\discrete\\DiscreteFactor.py:521: UserWarning: Found unknown state name. Trying to switch to using all state names as state numbers\n",
      "  warn(\n",
      "100%|██████████████████████████████████████████████████████████████████████████████| 200/200 [00:00<00:00, 1250.05it/s]\n"
     ]
    },
    {
     "data": {
      "text/html": [
       "<div>\n",
       "<style scoped>\n",
       "    .dataframe tbody tr th:only-of-type {\n",
       "        vertical-align: middle;\n",
       "    }\n",
       "\n",
       "    .dataframe tbody tr th {\n",
       "        vertical-align: top;\n",
       "    }\n",
       "\n",
       "    .dataframe thead th {\n",
       "        text-align: right;\n",
       "    }\n",
       "</style>\n",
       "<table border=\"1\" class=\"dataframe\">\n",
       "  <thead>\n",
       "    <tr style=\"text-align: right;\">\n",
       "      <th></th>\n",
       "      <th>Married</th>\n",
       "      <th>Gender</th>\n",
       "      <th>Dependents</th>\n",
       "      <th>ApplicantIncome</th>\n",
       "      <th>LoanAmount</th>\n",
       "      <th>Loan_Status</th>\n",
       "      <th>CoapplicantIncome</th>\n",
       "      <th>Property_Area</th>\n",
       "      <th>Education</th>\n",
       "      <th>Credit_History</th>\n",
       "    </tr>\n",
       "  </thead>\n",
       "  <tbody>\n",
       "    <tr>\n",
       "      <th>0</th>\n",
       "      <td>Yes</td>\n",
       "      <td>Male</td>\n",
       "      <td>0</td>\n",
       "      <td>40,500 to 81000</td>\n",
       "      <td>350.0 to 700.0</td>\n",
       "      <td>Y</td>\n",
       "      <td>0.0 to 10,416.75</td>\n",
       "      <td>Rural</td>\n",
       "      <td>Graduate</td>\n",
       "      <td>1.0</td>\n",
       "    </tr>\n",
       "    <tr>\n",
       "      <th>1</th>\n",
       "      <td>No</td>\n",
       "      <td>Male</td>\n",
       "      <td>0</td>\n",
       "      <td>40,500 to 81000</td>\n",
       "      <td>350.0 to 700.0</td>\n",
       "      <td>Y</td>\n",
       "      <td>0.0 to 10,416.75</td>\n",
       "      <td>Rural</td>\n",
       "      <td>Graduate</td>\n",
       "      <td>1.0</td>\n",
       "    </tr>\n",
       "    <tr>\n",
       "      <th>2</th>\n",
       "      <td>Yes</td>\n",
       "      <td>Male</td>\n",
       "      <td>2</td>\n",
       "      <td>40,500 to 81000</td>\n",
       "      <td>350.0 to 700.0</td>\n",
       "      <td>Y</td>\n",
       "      <td>0.0 to 10,416.75</td>\n",
       "      <td>Semiurban</td>\n",
       "      <td>Graduate</td>\n",
       "      <td>1.0</td>\n",
       "    </tr>\n",
       "    <tr>\n",
       "      <th>3</th>\n",
       "      <td>Yes</td>\n",
       "      <td>Male</td>\n",
       "      <td>0</td>\n",
       "      <td>40,500 to 81000</td>\n",
       "      <td>350.0 to 700.0</td>\n",
       "      <td>Y</td>\n",
       "      <td>0.0 to 10,416.75</td>\n",
       "      <td>Semiurban</td>\n",
       "      <td>Graduate</td>\n",
       "      <td>1.0</td>\n",
       "    </tr>\n",
       "    <tr>\n",
       "      <th>4</th>\n",
       "      <td>Yes</td>\n",
       "      <td>Male</td>\n",
       "      <td>3+</td>\n",
       "      <td>40,500 to 81000</td>\n",
       "      <td>175.0 to 350.0</td>\n",
       "      <td>Y</td>\n",
       "      <td>0.0 to 10,416.75</td>\n",
       "      <td>Rural</td>\n",
       "      <td>Graduate</td>\n",
       "      <td>1.0</td>\n",
       "    </tr>\n",
       "    <tr>\n",
       "      <th>...</th>\n",
       "      <td>...</td>\n",
       "      <td>...</td>\n",
       "      <td>...</td>\n",
       "      <td>...</td>\n",
       "      <td>...</td>\n",
       "      <td>...</td>\n",
       "      <td>...</td>\n",
       "      <td>...</td>\n",
       "      <td>...</td>\n",
       "      <td>...</td>\n",
       "    </tr>\n",
       "    <tr>\n",
       "      <th>195</th>\n",
       "      <td>No</td>\n",
       "      <td>Female</td>\n",
       "      <td>2</td>\n",
       "      <td>40,500 to 81000</td>\n",
       "      <td>175.0 to 350.0</td>\n",
       "      <td>Y</td>\n",
       "      <td>0.0 to 10,416.75</td>\n",
       "      <td>Urban</td>\n",
       "      <td>Graduate</td>\n",
       "      <td>1.0</td>\n",
       "    </tr>\n",
       "    <tr>\n",
       "      <th>196</th>\n",
       "      <td>No</td>\n",
       "      <td>Male</td>\n",
       "      <td>1</td>\n",
       "      <td>40,500 to 81000</td>\n",
       "      <td>350.0 to 700.0</td>\n",
       "      <td>Y</td>\n",
       "      <td>0.0 to 10,416.75</td>\n",
       "      <td>Semiurban</td>\n",
       "      <td>Graduate</td>\n",
       "      <td>1.0</td>\n",
       "    </tr>\n",
       "    <tr>\n",
       "      <th>197</th>\n",
       "      <td>No</td>\n",
       "      <td>Male</td>\n",
       "      <td>3+</td>\n",
       "      <td>40,500 to 81000</td>\n",
       "      <td>175.0 to 350.0</td>\n",
       "      <td>Y</td>\n",
       "      <td>0.0 to 10,416.75</td>\n",
       "      <td>Semiurban</td>\n",
       "      <td>Graduate</td>\n",
       "      <td>1.0</td>\n",
       "    </tr>\n",
       "    <tr>\n",
       "      <th>198</th>\n",
       "      <td>Yes</td>\n",
       "      <td>Male</td>\n",
       "      <td>1</td>\n",
       "      <td>40,500 to 81000</td>\n",
       "      <td>9.0 to 175.0</td>\n",
       "      <td>Y</td>\n",
       "      <td>0.0 to 10,416.75</td>\n",
       "      <td>Rural</td>\n",
       "      <td>Graduate</td>\n",
       "      <td>1.0</td>\n",
       "    </tr>\n",
       "    <tr>\n",
       "      <th>199</th>\n",
       "      <td>Yes</td>\n",
       "      <td>Male</td>\n",
       "      <td>2</td>\n",
       "      <td>40,500 to 81000</td>\n",
       "      <td>175.0 to 350.0</td>\n",
       "      <td>Y</td>\n",
       "      <td>0.0 to 10,416.75</td>\n",
       "      <td>Urban</td>\n",
       "      <td>Graduate</td>\n",
       "      <td>1.0</td>\n",
       "    </tr>\n",
       "  </tbody>\n",
       "</table>\n",
       "<p>200 rows × 10 columns</p>\n",
       "</div>"
      ],
      "text/plain": [
       "    Married  Gender Dependents  ApplicantIncome      LoanAmount Loan_Status  \\\n",
       "0       Yes    Male          0  40,500 to 81000  350.0 to 700.0           Y   \n",
       "1        No    Male          0  40,500 to 81000  350.0 to 700.0           Y   \n",
       "2       Yes    Male          2  40,500 to 81000  350.0 to 700.0           Y   \n",
       "3       Yes    Male          0  40,500 to 81000  350.0 to 700.0           Y   \n",
       "4       Yes    Male         3+  40,500 to 81000  175.0 to 350.0           Y   \n",
       "..      ...     ...        ...              ...             ...         ...   \n",
       "195      No  Female          2  40,500 to 81000  175.0 to 350.0           Y   \n",
       "196      No    Male          1  40,500 to 81000  350.0 to 700.0           Y   \n",
       "197      No    Male         3+  40,500 to 81000  175.0 to 350.0           Y   \n",
       "198     Yes    Male          1  40,500 to 81000    9.0 to 175.0           Y   \n",
       "199     Yes    Male          2  40,500 to 81000  175.0 to 350.0           Y   \n",
       "\n",
       "    CoapplicantIncome Property_Area Education  Credit_History  \n",
       "0    0.0 to 10,416.75         Rural  Graduate             1.0  \n",
       "1    0.0 to 10,416.75         Rural  Graduate             1.0  \n",
       "2    0.0 to 10,416.75     Semiurban  Graduate             1.0  \n",
       "3    0.0 to 10,416.75     Semiurban  Graduate             1.0  \n",
       "4    0.0 to 10,416.75         Rural  Graduate             1.0  \n",
       "..                ...           ...       ...             ...  \n",
       "195  0.0 to 10,416.75         Urban  Graduate             1.0  \n",
       "196  0.0 to 10,416.75     Semiurban  Graduate             1.0  \n",
       "197  0.0 to 10,416.75     Semiurban  Graduate             1.0  \n",
       "198  0.0 to 10,416.75         Rural  Graduate             1.0  \n",
       "199  0.0 to 10,416.75         Urban  Graduate             1.0  \n",
       "\n",
       "[200 rows x 10 columns]"
      ]
     },
     "execution_count": 136,
     "metadata": {},
     "output_type": "execute_result"
    }
   ],
   "source": [
    "sample_data_2= inference.rejection_sample(evidence=evidence, size=200)\n",
    "sample_data_2"
   ]
  },
  {
   "cell_type": "code",
   "execution_count": 137,
   "metadata": {},
   "outputs": [],
   "source": [
    "Numerator = len(sample_data_2[(sample_data_2.Loan_Status == \"Y\") & (sample_data_2.Education == \"Graduate\") & (sample_data_2.ApplicantIncome == \"40,500 to 81000\") & (sample_data_2.Credit_History == 1.0)])"
   ]
  },
  {
   "cell_type": "code",
   "execution_count": 138,
   "metadata": {},
   "outputs": [],
   "source": [
    "Denominator = len(sample_data_2[(sample_data_2.Education == \"Graduate\") & (sample_data_2.ApplicantIncome == \"40,500 to 81000\") & (sample_data_2.Credit_History == 1.0)])"
   ]
  },
  {
   "cell_type": "code",
   "execution_count": 139,
   "metadata": {},
   "outputs": [
    {
     "data": {
      "text/plain": [
       "0.875"
      ]
     },
     "execution_count": 139,
     "metadata": {},
     "output_type": "execute_result"
    }
   ],
   "source": [
    "Numerator/Denominator"
   ]
  },
  {
   "cell_type": "markdown",
   "metadata": {},
   "source": [
    "There is 87.5% of chance getting Loan Approved with given Evidence Education = \"Graduate\", ApplicantIncome = \"40,500 to 81000\", Credit_History = 1.0.  "
   ]
  },
  {
   "cell_type": "markdown",
   "metadata": {},
   "source": [
    "# 8.2 Likelihood Weighted Sampling"
   ]
  },
  {
   "cell_type": "markdown",
   "metadata": {},
   "source": [
    "The likelihood weighting method adopts the approach to use the evidence to weight the samples in the calculation of the probability."
   ]
  },
  {
   "cell_type": "markdown",
   "metadata": {},
   "source": [
    "### Q1)  Query --> Loan_Status: Y\n",
    "\n",
    "###                      Evidence --> Education: Graduate"
   ]
  },
  {
   "cell_type": "code",
   "execution_count": 140,
   "metadata": {},
   "outputs": [],
   "source": [
    "inference = BayesianModelSampling(model)"
   ]
  },
  {
   "cell_type": "code",
   "execution_count": 141,
   "metadata": {},
   "outputs": [],
   "source": [
    "evidence = [State(var='Education',state='Graduate')]"
   ]
  },
  {
   "cell_type": "code",
   "execution_count": 147,
   "metadata": {},
   "outputs": [
    {
     "name": "stderr",
     "output_type": "stream",
     "text": [
      "Generating for node: Property_Area:   0%|                                                       | 0/10 [00:00<?, ?it/s]C:\\Users\\karth\\anaconda3\\lib\\site-packages\\pgmpy\\factors\\discrete\\DiscreteFactor.py:521: UserWarning: Found unknown state name. Trying to switch to using all state names as state numbers\n",
      "  warn(\n",
      "Generating for node: Loan_Status: 100%|███████████████████████████████████████████████| 10/10 [00:00<00:00, 476.55it/s]\n"
     ]
    },
    {
     "data": {
      "text/html": [
       "<div>\n",
       "<style scoped>\n",
       "    .dataframe tbody tr th:only-of-type {\n",
       "        vertical-align: middle;\n",
       "    }\n",
       "\n",
       "    .dataframe tbody tr th {\n",
       "        vertical-align: top;\n",
       "    }\n",
       "\n",
       "    .dataframe thead th {\n",
       "        text-align: right;\n",
       "    }\n",
       "</style>\n",
       "<table border=\"1\" class=\"dataframe\">\n",
       "  <thead>\n",
       "    <tr style=\"text-align: right;\">\n",
       "      <th></th>\n",
       "      <th>Married</th>\n",
       "      <th>Gender</th>\n",
       "      <th>Dependents</th>\n",
       "      <th>ApplicantIncome</th>\n",
       "      <th>LoanAmount</th>\n",
       "      <th>Loan_Status</th>\n",
       "      <th>CoapplicantIncome</th>\n",
       "      <th>Property_Area</th>\n",
       "      <th>Education</th>\n",
       "      <th>Credit_History</th>\n",
       "      <th>_weight</th>\n",
       "    </tr>\n",
       "  </thead>\n",
       "  <tbody>\n",
       "    <tr>\n",
       "      <th>0</th>\n",
       "      <td>Yes</td>\n",
       "      <td>Female</td>\n",
       "      <td>1</td>\n",
       "      <td>150 to 20,250</td>\n",
       "      <td>9.0 to 175.0</td>\n",
       "      <td>Y</td>\n",
       "      <td>0.0 to 10,416.75</td>\n",
       "      <td>Semiurban</td>\n",
       "      <td>Graduate</td>\n",
       "      <td>1.0</td>\n",
       "      <td>0.759237</td>\n",
       "    </tr>\n",
       "    <tr>\n",
       "      <th>1</th>\n",
       "      <td>Yes</td>\n",
       "      <td>Male</td>\n",
       "      <td>0</td>\n",
       "      <td>150 to 20,250</td>\n",
       "      <td>175.0 to 350.0</td>\n",
       "      <td>Y</td>\n",
       "      <td>0.0 to 10,416.75</td>\n",
       "      <td>Urban</td>\n",
       "      <td>Graduate</td>\n",
       "      <td>1.0</td>\n",
       "      <td>0.945946</td>\n",
       "    </tr>\n",
       "    <tr>\n",
       "      <th>2</th>\n",
       "      <td>Yes</td>\n",
       "      <td>Male</td>\n",
       "      <td>1</td>\n",
       "      <td>150 to 20,250</td>\n",
       "      <td>9.0 to 175.0</td>\n",
       "      <td>Y</td>\n",
       "      <td>0.0 to 10,416.75</td>\n",
       "      <td>Urban</td>\n",
       "      <td>Graduate</td>\n",
       "      <td>1.0</td>\n",
       "      <td>0.759237</td>\n",
       "    </tr>\n",
       "    <tr>\n",
       "      <th>3</th>\n",
       "      <td>No</td>\n",
       "      <td>Male</td>\n",
       "      <td>0</td>\n",
       "      <td>150 to 20,250</td>\n",
       "      <td>9.0 to 175.0</td>\n",
       "      <td>Y</td>\n",
       "      <td>0.0 to 10,416.75</td>\n",
       "      <td>Urban</td>\n",
       "      <td>Graduate</td>\n",
       "      <td>1.0</td>\n",
       "      <td>0.759237</td>\n",
       "    </tr>\n",
       "    <tr>\n",
       "      <th>4</th>\n",
       "      <td>Yes</td>\n",
       "      <td>Female</td>\n",
       "      <td>2</td>\n",
       "      <td>150 to 20,250</td>\n",
       "      <td>9.0 to 175.0</td>\n",
       "      <td>Y</td>\n",
       "      <td>0.0 to 10,416.75</td>\n",
       "      <td>Urban</td>\n",
       "      <td>Graduate</td>\n",
       "      <td>1.0</td>\n",
       "      <td>0.759237</td>\n",
       "    </tr>\n",
       "    <tr>\n",
       "      <th>...</th>\n",
       "      <td>...</td>\n",
       "      <td>...</td>\n",
       "      <td>...</td>\n",
       "      <td>...</td>\n",
       "      <td>...</td>\n",
       "      <td>...</td>\n",
       "      <td>...</td>\n",
       "      <td>...</td>\n",
       "      <td>...</td>\n",
       "      <td>...</td>\n",
       "      <td>...</td>\n",
       "    </tr>\n",
       "    <tr>\n",
       "      <th>195</th>\n",
       "      <td>Yes</td>\n",
       "      <td>Male</td>\n",
       "      <td>0</td>\n",
       "      <td>150 to 20,250</td>\n",
       "      <td>9.0 to 175.0</td>\n",
       "      <td>Y</td>\n",
       "      <td>0.0 to 10,416.75</td>\n",
       "      <td>Rural</td>\n",
       "      <td>Graduate</td>\n",
       "      <td>1.0</td>\n",
       "      <td>0.759237</td>\n",
       "    </tr>\n",
       "    <tr>\n",
       "      <th>196</th>\n",
       "      <td>Yes</td>\n",
       "      <td>Male</td>\n",
       "      <td>2</td>\n",
       "      <td>150 to 20,250</td>\n",
       "      <td>175.0 to 350.0</td>\n",
       "      <td>Y</td>\n",
       "      <td>0.0 to 10,416.75</td>\n",
       "      <td>Semiurban</td>\n",
       "      <td>Graduate</td>\n",
       "      <td>1.0</td>\n",
       "      <td>0.945946</td>\n",
       "    </tr>\n",
       "    <tr>\n",
       "      <th>197</th>\n",
       "      <td>Yes</td>\n",
       "      <td>Male</td>\n",
       "      <td>0</td>\n",
       "      <td>150 to 20,250</td>\n",
       "      <td>9.0 to 175.0</td>\n",
       "      <td>Y</td>\n",
       "      <td>0.0 to 10,416.75</td>\n",
       "      <td>Semiurban</td>\n",
       "      <td>Graduate</td>\n",
       "      <td>1.0</td>\n",
       "      <td>0.759237</td>\n",
       "    </tr>\n",
       "    <tr>\n",
       "      <th>198</th>\n",
       "      <td>Yes</td>\n",
       "      <td>Male</td>\n",
       "      <td>2</td>\n",
       "      <td>150 to 20,250</td>\n",
       "      <td>9.0 to 175.0</td>\n",
       "      <td>N</td>\n",
       "      <td>0.0 to 10,416.75</td>\n",
       "      <td>Urban</td>\n",
       "      <td>Graduate</td>\n",
       "      <td>0.0</td>\n",
       "      <td>0.759237</td>\n",
       "    </tr>\n",
       "    <tr>\n",
       "      <th>199</th>\n",
       "      <td>No</td>\n",
       "      <td>Female</td>\n",
       "      <td>0</td>\n",
       "      <td>150 to 20,250</td>\n",
       "      <td>9.0 to 175.0</td>\n",
       "      <td>N</td>\n",
       "      <td>0.0 to 10,416.75</td>\n",
       "      <td>Urban</td>\n",
       "      <td>Graduate</td>\n",
       "      <td>1.0</td>\n",
       "      <td>0.759237</td>\n",
       "    </tr>\n",
       "  </tbody>\n",
       "</table>\n",
       "<p>200 rows × 11 columns</p>\n",
       "</div>"
      ],
      "text/plain": [
       "    Married  Gender Dependents ApplicantIncome      LoanAmount Loan_Status  \\\n",
       "0       Yes  Female          1   150 to 20,250    9.0 to 175.0           Y   \n",
       "1       Yes    Male          0   150 to 20,250  175.0 to 350.0           Y   \n",
       "2       Yes    Male          1   150 to 20,250    9.0 to 175.0           Y   \n",
       "3        No    Male          0   150 to 20,250    9.0 to 175.0           Y   \n",
       "4       Yes  Female          2   150 to 20,250    9.0 to 175.0           Y   \n",
       "..      ...     ...        ...             ...             ...         ...   \n",
       "195     Yes    Male          0   150 to 20,250    9.0 to 175.0           Y   \n",
       "196     Yes    Male          2   150 to 20,250  175.0 to 350.0           Y   \n",
       "197     Yes    Male          0   150 to 20,250    9.0 to 175.0           Y   \n",
       "198     Yes    Male          2   150 to 20,250    9.0 to 175.0           N   \n",
       "199      No  Female          0   150 to 20,250    9.0 to 175.0           N   \n",
       "\n",
       "    CoapplicantIncome Property_Area Education  Credit_History   _weight  \n",
       "0    0.0 to 10,416.75     Semiurban  Graduate             1.0  0.759237  \n",
       "1    0.0 to 10,416.75         Urban  Graduate             1.0  0.945946  \n",
       "2    0.0 to 10,416.75         Urban  Graduate             1.0  0.759237  \n",
       "3    0.0 to 10,416.75         Urban  Graduate             1.0  0.759237  \n",
       "4    0.0 to 10,416.75         Urban  Graduate             1.0  0.759237  \n",
       "..                ...           ...       ...             ...       ...  \n",
       "195  0.0 to 10,416.75         Rural  Graduate             1.0  0.759237  \n",
       "196  0.0 to 10,416.75     Semiurban  Graduate             1.0  0.945946  \n",
       "197  0.0 to 10,416.75     Semiurban  Graduate             1.0  0.759237  \n",
       "198  0.0 to 10,416.75         Urban  Graduate             0.0  0.759237  \n",
       "199  0.0 to 10,416.75         Urban  Graduate             1.0  0.759237  \n",
       "\n",
       "[200 rows x 11 columns]"
      ]
     },
     "execution_count": 147,
     "metadata": {},
     "output_type": "execute_result"
    }
   ],
   "source": [
    "weighted_sample_data = inference.likelihood_weighted_sample(evidence=evidence,size=200)\n",
    "weighted_sample_data"
   ]
  },
  {
   "cell_type": "markdown",
   "metadata": {},
   "source": [
    "## Calculating the Probabilties from Weighted Samples"
   ]
  },
  {
   "cell_type": "markdown",
   "metadata": {},
   "source": [
    "## Formula: $ \\frac{ Σ Weights -of -Samples -that -have -Query -and -Evidences } { Σ Weights -of -Samples -that -have  -Evidences}$"
   ]
  },
  {
   "cell_type": "markdown",
   "metadata": {},
   "source": [
    " ### Query --> Loan_Status: Y\n",
    "\n",
    "###                      Evidence --> Education: Graduate"
   ]
  },
  {
   "cell_type": "code",
   "execution_count": 159,
   "metadata": {},
   "outputs": [],
   "source": [
    "Numerator = sum(weighted_sample_data[(weighted_sample_data.Loan_Status == \"Y\") & (weighted_sample_data.Education == \"Graduate\")]['_weight'])"
   ]
  },
  {
   "cell_type": "code",
   "execution_count": 160,
   "metadata": {},
   "outputs": [
    {
     "data": {
      "text/plain": [
       "123.75162082329041"
      ]
     },
     "execution_count": 160,
     "metadata": {},
     "output_type": "execute_result"
    }
   ],
   "source": [
    "Numerator"
   ]
  },
  {
   "cell_type": "code",
   "execution_count": 161,
   "metadata": {},
   "outputs": [],
   "source": [
    "Denominator = sum(weighted_sample_data[weighted_sample_data.Education == \"Graduate\"]['_weight'])"
   ]
  },
  {
   "cell_type": "code",
   "execution_count": 162,
   "metadata": {},
   "outputs": [
    {
     "data": {
      "text/plain": [
       "155.75924769149123"
      ]
     },
     "execution_count": 162,
     "metadata": {},
     "output_type": "execute_result"
    }
   ],
   "source": [
    "Denominator"
   ]
  },
  {
   "cell_type": "code",
   "execution_count": 164,
   "metadata": {},
   "outputs": [
    {
     "data": {
      "text/plain": [
       "0.7945057687258634"
      ]
     },
     "execution_count": 164,
     "metadata": {},
     "output_type": "execute_result"
    }
   ],
   "source": [
    "Numerator/Denominator"
   ]
  },
  {
   "cell_type": "markdown",
   "metadata": {},
   "source": [
    "There is 79% of chance getting Loan Approved with given Evidence Education = \"Graduate\".  "
   ]
  },
  {
   "cell_type": "markdown",
   "metadata": {},
   "source": [
    "## Q2)  Query -> Loan_Status: Y\n",
    "\n",
    "\n",
    "### Evidence -> Education: Graduate, ApplicantIncome = 40,500 to 81000"
   ]
  },
  {
   "cell_type": "code",
   "execution_count": 170,
   "metadata": {},
   "outputs": [],
   "source": [
    "evidence = [State(var='Education',state='Graduate'),State(var='ApplicantIncome',state='40,500 to 81000')]"
   ]
  },
  {
   "cell_type": "code",
   "execution_count": 171,
   "metadata": {},
   "outputs": [
    {
     "name": "stderr",
     "output_type": "stream",
     "text": [
      "Generating for node: Property_Area:   0%|                                                       | 0/10 [00:00<?, ?it/s]C:\\Users\\karth\\anaconda3\\lib\\site-packages\\pgmpy\\factors\\discrete\\DiscreteFactor.py:521: UserWarning: Found unknown state name. Trying to switch to using all state names as state numbers\n",
      "  warn(\n",
      "Generating for node: Loan_Status: 100%|███████████████████████████████████████████████| 10/10 [00:00<00:00, 476.18it/s]\n"
     ]
    },
    {
     "data": {
      "text/html": [
       "<div>\n",
       "<style scoped>\n",
       "    .dataframe tbody tr th:only-of-type {\n",
       "        vertical-align: middle;\n",
       "    }\n",
       "\n",
       "    .dataframe tbody tr th {\n",
       "        vertical-align: top;\n",
       "    }\n",
       "\n",
       "    .dataframe thead th {\n",
       "        text-align: right;\n",
       "    }\n",
       "</style>\n",
       "<table border=\"1\" class=\"dataframe\">\n",
       "  <thead>\n",
       "    <tr style=\"text-align: right;\">\n",
       "      <th></th>\n",
       "      <th>Married</th>\n",
       "      <th>Gender</th>\n",
       "      <th>Dependents</th>\n",
       "      <th>ApplicantIncome</th>\n",
       "      <th>LoanAmount</th>\n",
       "      <th>Loan_Status</th>\n",
       "      <th>CoapplicantIncome</th>\n",
       "      <th>Property_Area</th>\n",
       "      <th>Education</th>\n",
       "      <th>Credit_History</th>\n",
       "      <th>_weight</th>\n",
       "    </tr>\n",
       "  </thead>\n",
       "  <tbody>\n",
       "    <tr>\n",
       "      <th>0</th>\n",
       "      <td>Yes</td>\n",
       "      <td>Male</td>\n",
       "      <td>0</td>\n",
       "      <td>40,500 to 81000</td>\n",
       "      <td>350.0 to 700.0</td>\n",
       "      <td>Y</td>\n",
       "      <td>0.0 to 10,416.75</td>\n",
       "      <td>Semiurban</td>\n",
       "      <td>Graduate</td>\n",
       "      <td>1.0</td>\n",
       "      <td>0.007618</td>\n",
       "    </tr>\n",
       "    <tr>\n",
       "      <th>1</th>\n",
       "      <td>Yes</td>\n",
       "      <td>Male</td>\n",
       "      <td>3+</td>\n",
       "      <td>40,500 to 81000</td>\n",
       "      <td>175.0 to 350.0</td>\n",
       "      <td>Y</td>\n",
       "      <td>0.0 to 10,416.75</td>\n",
       "      <td>Rural</td>\n",
       "      <td>Graduate</td>\n",
       "      <td>1.0</td>\n",
       "      <td>0.008085</td>\n",
       "    </tr>\n",
       "    <tr>\n",
       "      <th>2</th>\n",
       "      <td>Yes</td>\n",
       "      <td>Male</td>\n",
       "      <td>1</td>\n",
       "      <td>40,500 to 81000</td>\n",
       "      <td>9.0 to 175.0</td>\n",
       "      <td>N</td>\n",
       "      <td>0.0 to 10,416.75</td>\n",
       "      <td>Urban</td>\n",
       "      <td>Graduate</td>\n",
       "      <td>0.0</td>\n",
       "      <td>0.006489</td>\n",
       "    </tr>\n",
       "    <tr>\n",
       "      <th>3</th>\n",
       "      <td>Yes</td>\n",
       "      <td>Female</td>\n",
       "      <td>2</td>\n",
       "      <td>40,500 to 81000</td>\n",
       "      <td>175.0 to 350.0</td>\n",
       "      <td>N</td>\n",
       "      <td>0.0 to 10,416.75</td>\n",
       "      <td>Urban</td>\n",
       "      <td>Graduate</td>\n",
       "      <td>0.0</td>\n",
       "      <td>0.008085</td>\n",
       "    </tr>\n",
       "    <tr>\n",
       "      <th>4</th>\n",
       "      <td>Yes</td>\n",
       "      <td>Male</td>\n",
       "      <td>2</td>\n",
       "      <td>40,500 to 81000</td>\n",
       "      <td>350.0 to 700.0</td>\n",
       "      <td>Y</td>\n",
       "      <td>0.0 to 10,416.75</td>\n",
       "      <td>Rural</td>\n",
       "      <td>Graduate</td>\n",
       "      <td>1.0</td>\n",
       "      <td>0.007618</td>\n",
       "    </tr>\n",
       "    <tr>\n",
       "      <th>...</th>\n",
       "      <td>...</td>\n",
       "      <td>...</td>\n",
       "      <td>...</td>\n",
       "      <td>...</td>\n",
       "      <td>...</td>\n",
       "      <td>...</td>\n",
       "      <td>...</td>\n",
       "      <td>...</td>\n",
       "      <td>...</td>\n",
       "      <td>...</td>\n",
       "      <td>...</td>\n",
       "    </tr>\n",
       "    <tr>\n",
       "      <th>195</th>\n",
       "      <td>Yes</td>\n",
       "      <td>Female</td>\n",
       "      <td>3+</td>\n",
       "      <td>40,500 to 81000</td>\n",
       "      <td>175.0 to 350.0</td>\n",
       "      <td>Y</td>\n",
       "      <td>0.0 to 10,416.75</td>\n",
       "      <td>Urban</td>\n",
       "      <td>Graduate</td>\n",
       "      <td>1.0</td>\n",
       "      <td>0.008085</td>\n",
       "    </tr>\n",
       "    <tr>\n",
       "      <th>196</th>\n",
       "      <td>Yes</td>\n",
       "      <td>Male</td>\n",
       "      <td>3+</td>\n",
       "      <td>40,500 to 81000</td>\n",
       "      <td>175.0 to 350.0</td>\n",
       "      <td>Y</td>\n",
       "      <td>0.0 to 10,416.75</td>\n",
       "      <td>Rural</td>\n",
       "      <td>Graduate</td>\n",
       "      <td>1.0</td>\n",
       "      <td>0.008085</td>\n",
       "    </tr>\n",
       "    <tr>\n",
       "      <th>197</th>\n",
       "      <td>Yes</td>\n",
       "      <td>Male</td>\n",
       "      <td>3+</td>\n",
       "      <td>40,500 to 81000</td>\n",
       "      <td>175.0 to 350.0</td>\n",
       "      <td>Y</td>\n",
       "      <td>0.0 to 10,416.75</td>\n",
       "      <td>Rural</td>\n",
       "      <td>Graduate</td>\n",
       "      <td>1.0</td>\n",
       "      <td>0.008085</td>\n",
       "    </tr>\n",
       "    <tr>\n",
       "      <th>198</th>\n",
       "      <td>Yes</td>\n",
       "      <td>Male</td>\n",
       "      <td>0</td>\n",
       "      <td>40,500 to 81000</td>\n",
       "      <td>175.0 to 350.0</td>\n",
       "      <td>N</td>\n",
       "      <td>0.0 to 10,416.75</td>\n",
       "      <td>Semiurban</td>\n",
       "      <td>Graduate</td>\n",
       "      <td>1.0</td>\n",
       "      <td>0.008085</td>\n",
       "    </tr>\n",
       "    <tr>\n",
       "      <th>199</th>\n",
       "      <td>No</td>\n",
       "      <td>Male</td>\n",
       "      <td>3+</td>\n",
       "      <td>40,500 to 81000</td>\n",
       "      <td>175.0 to 350.0</td>\n",
       "      <td>N</td>\n",
       "      <td>0.0 to 10,416.75</td>\n",
       "      <td>Semiurban</td>\n",
       "      <td>Graduate</td>\n",
       "      <td>0.0</td>\n",
       "      <td>0.008085</td>\n",
       "    </tr>\n",
       "  </tbody>\n",
       "</table>\n",
       "<p>200 rows × 11 columns</p>\n",
       "</div>"
      ],
      "text/plain": [
       "    Married  Gender Dependents  ApplicantIncome      LoanAmount Loan_Status  \\\n",
       "0       Yes    Male          0  40,500 to 81000  350.0 to 700.0           Y   \n",
       "1       Yes    Male         3+  40,500 to 81000  175.0 to 350.0           Y   \n",
       "2       Yes    Male          1  40,500 to 81000    9.0 to 175.0           N   \n",
       "3       Yes  Female          2  40,500 to 81000  175.0 to 350.0           N   \n",
       "4       Yes    Male          2  40,500 to 81000  350.0 to 700.0           Y   \n",
       "..      ...     ...        ...              ...             ...         ...   \n",
       "195     Yes  Female         3+  40,500 to 81000  175.0 to 350.0           Y   \n",
       "196     Yes    Male         3+  40,500 to 81000  175.0 to 350.0           Y   \n",
       "197     Yes    Male         3+  40,500 to 81000  175.0 to 350.0           Y   \n",
       "198     Yes    Male          0  40,500 to 81000  175.0 to 350.0           N   \n",
       "199      No    Male         3+  40,500 to 81000  175.0 to 350.0           N   \n",
       "\n",
       "    CoapplicantIncome Property_Area Education  Credit_History   _weight  \n",
       "0    0.0 to 10,416.75     Semiurban  Graduate             1.0  0.007618  \n",
       "1    0.0 to 10,416.75         Rural  Graduate             1.0  0.008085  \n",
       "2    0.0 to 10,416.75         Urban  Graduate             0.0  0.006489  \n",
       "3    0.0 to 10,416.75         Urban  Graduate             0.0  0.008085  \n",
       "4    0.0 to 10,416.75         Rural  Graduate             1.0  0.007618  \n",
       "..                ...           ...       ...             ...       ...  \n",
       "195  0.0 to 10,416.75         Urban  Graduate             1.0  0.008085  \n",
       "196  0.0 to 10,416.75         Rural  Graduate             1.0  0.008085  \n",
       "197  0.0 to 10,416.75         Rural  Graduate             1.0  0.008085  \n",
       "198  0.0 to 10,416.75     Semiurban  Graduate             1.0  0.008085  \n",
       "199  0.0 to 10,416.75     Semiurban  Graduate             0.0  0.008085  \n",
       "\n",
       "[200 rows x 11 columns]"
      ]
     },
     "execution_count": 171,
     "metadata": {},
     "output_type": "execute_result"
    }
   ],
   "source": [
    "weighted_sample_data_1 = inference.likelihood_weighted_sample(evidence=evidence, size=200)\n",
    "weighted_sample_data_1"
   ]
  },
  {
   "cell_type": "code",
   "execution_count": 174,
   "metadata": {},
   "outputs": [],
   "source": [
    "Numerator = sum(weighted_sample_data_1[(weighted_sample_data_1.Loan_Status == \"Y\") & (weighted_sample_data_1.Education == \"Graduate\") & (weighted_sample_data_1.ApplicantIncome == '40,500 to 81000')]['_weight'])"
   ]
  },
  {
   "cell_type": "code",
   "execution_count": 175,
   "metadata": {},
   "outputs": [
    {
     "data": {
      "text/plain": [
       "1.1595435111266592"
      ]
     },
     "execution_count": 175,
     "metadata": {},
     "output_type": "execute_result"
    }
   ],
   "source": [
    "Numerator"
   ]
  },
  {
   "cell_type": "code",
   "execution_count": 176,
   "metadata": {},
   "outputs": [],
   "source": [
    "Denominator = sum(weighted_sample_data_1[(weighted_sample_data_1.Education == \"Graduate\") & (weighted_sample_data_1.ApplicantIncome == '40,500 to 81000')]['_weight'])"
   ]
  },
  {
   "cell_type": "code",
   "execution_count": 177,
   "metadata": {},
   "outputs": [
    {
     "data": {
      "text/plain": [
       "1.5067000002741313"
      ]
     },
     "execution_count": 177,
     "metadata": {},
     "output_type": "execute_result"
    }
   ],
   "source": [
    "Denominator"
   ]
  },
  {
   "cell_type": "code",
   "execution_count": 178,
   "metadata": {},
   "outputs": [
    {
     "data": {
      "text/plain": [
       "0.769591498583454"
      ]
     },
     "execution_count": 178,
     "metadata": {},
     "output_type": "execute_result"
    }
   ],
   "source": [
    "Numerator/Denominator"
   ]
  },
  {
   "cell_type": "markdown",
   "metadata": {},
   "source": [
    "There is 76% of chance getting Loan Approved with given Evidence Education = \"Graduate\", ApplicantIncome = \"40,500 to 81000\"."
   ]
  },
  {
   "cell_type": "markdown",
   "metadata": {},
   "source": [
    "## Q3)  Query --> Loan_Status: Y\n",
    "\n",
    "\n",
    "### Evidence --> Education: Graduate, ApplicantIncome = 40,500 to 81000, Credit_History = 1.0 "
   ]
  },
  {
   "cell_type": "code",
   "execution_count": 182,
   "metadata": {},
   "outputs": [],
   "source": [
    "evidence = [State(var='Education',state='Graduate'),State(var='ApplicantIncome',state='40,500 to 81000'),State(var='Credit_History',state=1.0)]"
   ]
  },
  {
   "cell_type": "code",
   "execution_count": 183,
   "metadata": {},
   "outputs": [
    {
     "name": "stderr",
     "output_type": "stream",
     "text": [
      "Generating for node: Property_Area:   0%|                                                       | 0/10 [00:00<?, ?it/s]C:\\Users\\karth\\anaconda3\\lib\\site-packages\\pgmpy\\factors\\discrete\\DiscreteFactor.py:521: UserWarning: Found unknown state name. Trying to switch to using all state names as state numbers\n",
      "  warn(\n",
      "Generating for node: Loan_Status: 100%|███████████████████████████████████████████████| 10/10 [00:00<00:00, 476.22it/s]\n"
     ]
    },
    {
     "data": {
      "text/html": [
       "<div>\n",
       "<style scoped>\n",
       "    .dataframe tbody tr th:only-of-type {\n",
       "        vertical-align: middle;\n",
       "    }\n",
       "\n",
       "    .dataframe tbody tr th {\n",
       "        vertical-align: top;\n",
       "    }\n",
       "\n",
       "    .dataframe thead th {\n",
       "        text-align: right;\n",
       "    }\n",
       "</style>\n",
       "<table border=\"1\" class=\"dataframe\">\n",
       "  <thead>\n",
       "    <tr style=\"text-align: right;\">\n",
       "      <th></th>\n",
       "      <th>Married</th>\n",
       "      <th>Gender</th>\n",
       "      <th>Dependents</th>\n",
       "      <th>ApplicantIncome</th>\n",
       "      <th>LoanAmount</th>\n",
       "      <th>Loan_Status</th>\n",
       "      <th>CoapplicantIncome</th>\n",
       "      <th>Property_Area</th>\n",
       "      <th>Education</th>\n",
       "      <th>Credit_History</th>\n",
       "      <th>_weight</th>\n",
       "    </tr>\n",
       "  </thead>\n",
       "  <tbody>\n",
       "    <tr>\n",
       "      <th>0</th>\n",
       "      <td>Yes</td>\n",
       "      <td>Male</td>\n",
       "      <td>0</td>\n",
       "      <td>40,500 to 81000</td>\n",
       "      <td>175.0 to 350.0</td>\n",
       "      <td>Y</td>\n",
       "      <td>0.0 to 10,416.75</td>\n",
       "      <td>Semiurban</td>\n",
       "      <td>Graduate</td>\n",
       "      <td>1.0</td>\n",
       "      <td>0.006867</td>\n",
       "    </tr>\n",
       "    <tr>\n",
       "      <th>1</th>\n",
       "      <td>Yes</td>\n",
       "      <td>Male</td>\n",
       "      <td>3+</td>\n",
       "      <td>40,500 to 81000</td>\n",
       "      <td>175.0 to 350.0</td>\n",
       "      <td>Y</td>\n",
       "      <td>0.0 to 10,416.75</td>\n",
       "      <td>Rural</td>\n",
       "      <td>Graduate</td>\n",
       "      <td>1.0</td>\n",
       "      <td>0.006867</td>\n",
       "    </tr>\n",
       "    <tr>\n",
       "      <th>2</th>\n",
       "      <td>Yes</td>\n",
       "      <td>Male</td>\n",
       "      <td>3+</td>\n",
       "      <td>40,500 to 81000</td>\n",
       "      <td>175.0 to 350.0</td>\n",
       "      <td>Y</td>\n",
       "      <td>0.0 to 10,416.75</td>\n",
       "      <td>Semiurban</td>\n",
       "      <td>Graduate</td>\n",
       "      <td>1.0</td>\n",
       "      <td>0.006867</td>\n",
       "    </tr>\n",
       "    <tr>\n",
       "      <th>3</th>\n",
       "      <td>Yes</td>\n",
       "      <td>Male</td>\n",
       "      <td>3+</td>\n",
       "      <td>40,500 to 81000</td>\n",
       "      <td>175.0 to 350.0</td>\n",
       "      <td>N</td>\n",
       "      <td>0.0 to 10,416.75</td>\n",
       "      <td>Rural</td>\n",
       "      <td>Graduate</td>\n",
       "      <td>1.0</td>\n",
       "      <td>0.006867</td>\n",
       "    </tr>\n",
       "    <tr>\n",
       "      <th>4</th>\n",
       "      <td>No</td>\n",
       "      <td>Male</td>\n",
       "      <td>0</td>\n",
       "      <td>40,500 to 81000</td>\n",
       "      <td>350.0 to 700.0</td>\n",
       "      <td>Y</td>\n",
       "      <td>0.0 to 10,416.75</td>\n",
       "      <td>Rural</td>\n",
       "      <td>Graduate</td>\n",
       "      <td>1.0</td>\n",
       "      <td>0.006470</td>\n",
       "    </tr>\n",
       "    <tr>\n",
       "      <th>...</th>\n",
       "      <td>...</td>\n",
       "      <td>...</td>\n",
       "      <td>...</td>\n",
       "      <td>...</td>\n",
       "      <td>...</td>\n",
       "      <td>...</td>\n",
       "      <td>...</td>\n",
       "      <td>...</td>\n",
       "      <td>...</td>\n",
       "      <td>...</td>\n",
       "      <td>...</td>\n",
       "    </tr>\n",
       "    <tr>\n",
       "      <th>195</th>\n",
       "      <td>No</td>\n",
       "      <td>Male</td>\n",
       "      <td>0</td>\n",
       "      <td>40,500 to 81000</td>\n",
       "      <td>350.0 to 700.0</td>\n",
       "      <td>Y</td>\n",
       "      <td>0.0 to 10,416.75</td>\n",
       "      <td>Urban</td>\n",
       "      <td>Graduate</td>\n",
       "      <td>1.0</td>\n",
       "      <td>0.006470</td>\n",
       "    </tr>\n",
       "    <tr>\n",
       "      <th>196</th>\n",
       "      <td>No</td>\n",
       "      <td>Male</td>\n",
       "      <td>0</td>\n",
       "      <td>40,500 to 81000</td>\n",
       "      <td>350.0 to 700.0</td>\n",
       "      <td>N</td>\n",
       "      <td>0.0 to 10,416.75</td>\n",
       "      <td>Semiurban</td>\n",
       "      <td>Graduate</td>\n",
       "      <td>1.0</td>\n",
       "      <td>0.006470</td>\n",
       "    </tr>\n",
       "    <tr>\n",
       "      <th>197</th>\n",
       "      <td>Yes</td>\n",
       "      <td>Male</td>\n",
       "      <td>3+</td>\n",
       "      <td>40,500 to 81000</td>\n",
       "      <td>175.0 to 350.0</td>\n",
       "      <td>Y</td>\n",
       "      <td>0.0 to 10,416.75</td>\n",
       "      <td>Semiurban</td>\n",
       "      <td>Graduate</td>\n",
       "      <td>1.0</td>\n",
       "      <td>0.006867</td>\n",
       "    </tr>\n",
       "    <tr>\n",
       "      <th>198</th>\n",
       "      <td>Yes</td>\n",
       "      <td>Male</td>\n",
       "      <td>3+</td>\n",
       "      <td>40,500 to 81000</td>\n",
       "      <td>350.0 to 700.0</td>\n",
       "      <td>Y</td>\n",
       "      <td>0.0 to 10,416.75</td>\n",
       "      <td>Urban</td>\n",
       "      <td>Graduate</td>\n",
       "      <td>1.0</td>\n",
       "      <td>0.006470</td>\n",
       "    </tr>\n",
       "    <tr>\n",
       "      <th>199</th>\n",
       "      <td>Yes</td>\n",
       "      <td>Male</td>\n",
       "      <td>3+</td>\n",
       "      <td>40,500 to 81000</td>\n",
       "      <td>175.0 to 350.0</td>\n",
       "      <td>N</td>\n",
       "      <td>0.0 to 10,416.75</td>\n",
       "      <td>Urban</td>\n",
       "      <td>Graduate</td>\n",
       "      <td>1.0</td>\n",
       "      <td>0.006867</td>\n",
       "    </tr>\n",
       "  </tbody>\n",
       "</table>\n",
       "<p>200 rows × 11 columns</p>\n",
       "</div>"
      ],
      "text/plain": [
       "    Married Gender Dependents  ApplicantIncome      LoanAmount Loan_Status  \\\n",
       "0       Yes   Male          0  40,500 to 81000  175.0 to 350.0           Y   \n",
       "1       Yes   Male         3+  40,500 to 81000  175.0 to 350.0           Y   \n",
       "2       Yes   Male         3+  40,500 to 81000  175.0 to 350.0           Y   \n",
       "3       Yes   Male         3+  40,500 to 81000  175.0 to 350.0           N   \n",
       "4        No   Male          0  40,500 to 81000  350.0 to 700.0           Y   \n",
       "..      ...    ...        ...              ...             ...         ...   \n",
       "195      No   Male          0  40,500 to 81000  350.0 to 700.0           Y   \n",
       "196      No   Male          0  40,500 to 81000  350.0 to 700.0           N   \n",
       "197     Yes   Male         3+  40,500 to 81000  175.0 to 350.0           Y   \n",
       "198     Yes   Male         3+  40,500 to 81000  350.0 to 700.0           Y   \n",
       "199     Yes   Male         3+  40,500 to 81000  175.0 to 350.0           N   \n",
       "\n",
       "    CoapplicantIncome Property_Area Education  Credit_History   _weight  \n",
       "0    0.0 to 10,416.75     Semiurban  Graduate             1.0  0.006867  \n",
       "1    0.0 to 10,416.75         Rural  Graduate             1.0  0.006867  \n",
       "2    0.0 to 10,416.75     Semiurban  Graduate             1.0  0.006867  \n",
       "3    0.0 to 10,416.75         Rural  Graduate             1.0  0.006867  \n",
       "4    0.0 to 10,416.75         Rural  Graduate             1.0  0.006470  \n",
       "..                ...           ...       ...             ...       ...  \n",
       "195  0.0 to 10,416.75         Urban  Graduate             1.0  0.006470  \n",
       "196  0.0 to 10,416.75     Semiurban  Graduate             1.0  0.006470  \n",
       "197  0.0 to 10,416.75     Semiurban  Graduate             1.0  0.006867  \n",
       "198  0.0 to 10,416.75         Urban  Graduate             1.0  0.006470  \n",
       "199  0.0 to 10,416.75         Urban  Graduate             1.0  0.006867  \n",
       "\n",
       "[200 rows x 11 columns]"
      ]
     },
     "execution_count": 183,
     "metadata": {},
     "output_type": "execute_result"
    }
   ],
   "source": [
    "weighted_sample_data_2 = inference.likelihood_weighted_sample(evidence=evidence, size=200)\n",
    "weighted_sample_data_2"
   ]
  },
  {
   "cell_type": "code",
   "execution_count": 184,
   "metadata": {},
   "outputs": [],
   "source": [
    "Numerator = sum(weighted_sample_data_2[(weighted_sample_data_2.Loan_Status == \"Y\") & (weighted_sample_data_2.Education == \"Graduate\") & (weighted_sample_data_2.ApplicantIncome == '40,500 to 81000') & (weighted_sample_data_2.Credit_History == 1.0 )]['_weight'])"
   ]
  },
  {
   "cell_type": "code",
   "execution_count": 185,
   "metadata": {},
   "outputs": [
    {
     "data": {
      "text/plain": [
       "1.1004094433613199"
      ]
     },
     "execution_count": 185,
     "metadata": {},
     "output_type": "execute_result"
    }
   ],
   "source": [
    "Numerator"
   ]
  },
  {
   "cell_type": "code",
   "execution_count": 186,
   "metadata": {},
   "outputs": [],
   "source": [
    "Denominator = sum(weighted_sample_data_2[(weighted_sample_data_2.Education == \"Graduate\") & (weighted_sample_data_2.ApplicantIncome == '40,500 to 81000') & (weighted_sample_data_2.Credit_History == 1.0 ) ]['_weight'])"
   ]
  },
  {
   "cell_type": "code",
   "execution_count": 187,
   "metadata": {},
   "outputs": [
    {
     "data": {
      "text/plain": [
       "1.2809191754055662"
      ]
     },
     "execution_count": 187,
     "metadata": {},
     "output_type": "execute_result"
    }
   ],
   "source": [
    "Denominator"
   ]
  },
  {
   "cell_type": "code",
   "execution_count": 188,
   "metadata": {},
   "outputs": [
    {
     "data": {
      "text/plain": [
       "0.8590779687663797"
      ]
     },
     "execution_count": 188,
     "metadata": {},
     "output_type": "execute_result"
    }
   ],
   "source": [
    "Numerator/Denominator"
   ]
  },
  {
   "cell_type": "markdown",
   "metadata": {},
   "source": [
    "There is 85% of chance getting Loan Approved with given Evidence Education = \"Graduate\", ApplicantIncome = \"40,500 to 81000\", Credit_History = 1.0.  "
   ]
  }
 ],
 "metadata": {
  "kernelspec": {
   "display_name": "Python 3",
   "language": "python",
   "name": "python3"
  },
  "language_info": {
   "codemirror_mode": {
    "name": "ipython",
    "version": 3
   },
   "file_extension": ".py",
   "mimetype": "text/x-python",
   "name": "python",
   "nbconvert_exporter": "python",
   "pygments_lexer": "ipython3",
   "version": "3.8.3"
  }
 },
 "nbformat": 4,
 "nbformat_minor": 4
}
